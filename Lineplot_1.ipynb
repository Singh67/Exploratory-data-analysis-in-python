{
 "cells": [
  {
   "cell_type": "code",
   "execution_count": 1,
   "metadata": {},
   "outputs": [
    {
     "data": {
      "text/html": [
       "<script type=\"text/javascript\">window.PlotlyConfig = {MathJaxConfig: 'local'};</script><script type=\"text/javascript\">if (window.MathJax) {MathJax.Hub.Config({SVG: {font: \"STIX-Web\"}});}</script><script>requirejs.config({paths: { 'plotly': ['https://cdn.plot.ly/plotly-latest.min']},});if(!window._Plotly) {require(['plotly'],function(plotly) {window._Plotly=plotly;});}</script>"
      ],
      "text/vnd.plotly.v1+html": [
       "<script type=\"text/javascript\">window.PlotlyConfig = {MathJaxConfig: 'local'};</script><script type=\"text/javascript\">if (window.MathJax) {MathJax.Hub.Config({SVG: {font: \"STIX-Web\"}});}</script><script>requirejs.config({paths: { 'plotly': ['https://cdn.plot.ly/plotly-latest.min']},});if(!window._Plotly) {require(['plotly'],function(plotly) {window._Plotly=plotly;});}</script>"
      ]
     },
     "metadata": {},
     "output_type": "display_data"
    }
   ],
   "source": [
    "from matplotlib import rcParams\n",
    "import plotly.tools as tls\n",
    "import plotly.offline as py\n",
    "from plotly.offline import init_notebook_mode,iplot,plot\n",
    "from plotly.graph_objs import *\n",
    "init_notebook_mode(connected=True)\n",
    "import warnings "
   ]
  },
  {
   "cell_type": "code",
   "execution_count": 2,
   "metadata": {
    "collapsed": true
   },
   "outputs": [],
   "source": [
    "trace1={'type':'scatter',\n",
    "        'x':[0,1,2,3,4,5,6,7,8,9],\n",
    "        'y':[0,1,2,3,4,5,6,7,8,9],\n",
    "        'name':'trace1',\n",
    "        'mode': 'lines'}"
   ]
  },
  {
   "cell_type": "code",
   "execution_count": 3,
   "metadata": {},
   "outputs": [
    {
     "name": "stderr",
     "output_type": "stream",
     "text": [
      "C:\\Users\\Satish\\Anaconda3\\lib\\site-packages\\plotly\\graph_objs\\_deprecations.py:39: DeprecationWarning:\n",
      "\n",
      "plotly.graph_objs.Data is deprecated.\n",
      "Please replace it with a list or tuple of instances of the following types\n",
      "  - plotly.graph_objs.Scatter\n",
      "  - plotly.graph_objs.Bar\n",
      "  - plotly.graph_objs.Area\n",
      "  - plotly.graph_objs.Histogram\n",
      "  - etc.\n",
      "\n",
      "\n"
     ]
    },
    {
     "data": {
      "text/plain": [
       "[{'mode': 'lines',\n",
       "  'name': 'trace1',\n",
       "  'type': 'scatter',\n",
       "  'x': [0, 1, 2, 3, 4, 5, 6, 7, 8, 9],\n",
       "  'y': [0, 1, 2, 3, 4, 5, 6, 7, 8, 9]}]"
      ]
     },
     "execution_count": 3,
     "metadata": {},
     "output_type": "execute_result"
    }
   ],
   "source": [
    "data=Data([trace1])\n",
    "\n",
    "data"
   ]
  },
  {
   "cell_type": "code",
   "execution_count": 4,
   "metadata": {
    "collapsed": true
   },
   "outputs": [],
   "source": [
    "layout={'title': 'My first Plotly line chart',\n",
    "        'xaxis':{'title': 'X Values'},\n",
    "        'yaxis':{'title': 'Y Values'}}"
   ]
  },
  {
   "cell_type": "code",
   "execution_count": 5,
   "metadata": {},
   "outputs": [
    {
     "data": {
      "text/plain": [
       "{'title': 'My first Plotly line chart',\n",
       " 'xaxis': {'title': 'X Values'},\n",
       " 'yaxis': {'title': 'Y Values'}}"
      ]
     },
     "execution_count": 5,
     "metadata": {},
     "output_type": "execute_result"
    }
   ],
   "source": [
    "layout"
   ]
  },
  {
   "cell_type": "code",
   "execution_count": 6,
   "metadata": {
    "collapsed": true
   },
   "outputs": [],
   "source": [
    "fig=Figure(data=data,layout=layout)"
   ]
  },
  {
   "cell_type": "code",
   "execution_count": 7,
   "metadata": {},
   "outputs": [
    {
     "data": {
      "application/vnd.plotly.v1+json": {
       "data": [
        {
         "mode": "lines",
         "name": "trace1",
         "type": "scatter",
         "uid": "42023378-813f-4f57-a0f6-c19c46198932",
         "x": [
          0,
          1,
          2,
          3,
          4,
          5,
          6,
          7,
          8,
          9
         ],
         "y": [
          0,
          1,
          2,
          3,
          4,
          5,
          6,
          7,
          8,
          9
         ]
        }
       ],
       "layout": {
        "title": "My first Plotly line chart",
        "xaxis": {
         "title": "X Values"
        },
        "yaxis": {
         "title": "Y Values"
        }
       }
      },
      "text/html": [
       "<div id=\"fcf01773-4c4e-48d1-968d-8b206335ca50\" style=\"height: 525px; width: 100%;\" class=\"plotly-graph-div\"></div><script type=\"text/javascript\">require([\"plotly\"], function(Plotly) { window.PLOTLYENV=window.PLOTLYENV || {};window.PLOTLYENV.BASE_URL=\"https://plot.ly\";Plotly.newPlot(\"fcf01773-4c4e-48d1-968d-8b206335ca50\", [{\"mode\": \"lines\", \"name\": \"trace1\", \"x\": [0, 1, 2, 3, 4, 5, 6, 7, 8, 9], \"y\": [0, 1, 2, 3, 4, 5, 6, 7, 8, 9], \"type\": \"scatter\", \"uid\": \"42023378-813f-4f57-a0f6-c19c46198932\"}], {\"title\": \"My first Plotly line chart\", \"xaxis\": {\"title\": \"X Values\"}, \"yaxis\": {\"title\": \"Y Values\"}}, {\"showLink\": true, \"linkText\": \"Export to plot.ly\"})});</script><script type=\"text/javascript\">window.addEventListener(\"resize\", function(){window._Plotly.Plots.resize(document.getElementById(\"fcf01773-4c4e-48d1-968d-8b206335ca50\"));});</script>"
      ],
      "text/vnd.plotly.v1+html": [
       "<div id=\"fcf01773-4c4e-48d1-968d-8b206335ca50\" style=\"height: 525px; width: 100%;\" class=\"plotly-graph-div\"></div><script type=\"text/javascript\">require([\"plotly\"], function(Plotly) { window.PLOTLYENV=window.PLOTLYENV || {};window.PLOTLYENV.BASE_URL=\"https://plot.ly\";Plotly.newPlot(\"fcf01773-4c4e-48d1-968d-8b206335ca50\", [{\"mode\": \"lines\", \"name\": \"trace1\", \"x\": [0, 1, 2, 3, 4, 5, 6, 7, 8, 9], \"y\": [0, 1, 2, 3, 4, 5, 6, 7, 8, 9], \"type\": \"scatter\", \"uid\": \"42023378-813f-4f57-a0f6-c19c46198932\"}], {\"title\": \"My first Plotly line chart\", \"xaxis\": {\"title\": \"X Values\"}, \"yaxis\": {\"title\": \"Y Values\"}}, {\"showLink\": true, \"linkText\": \"Export to plot.ly\"})});</script><script type=\"text/javascript\">window.addEventListener(\"resize\", function(){window._Plotly.Plots.resize(document.getElementById(\"fcf01773-4c4e-48d1-968d-8b206335ca50\"));});</script>"
      ]
     },
     "metadata": {},
     "output_type": "display_data"
    }
   ],
   "source": [
    "iplot(fig)"
   ]
  },
  {
   "cell_type": "code",
   "execution_count": 8,
   "metadata": {
    "collapsed": true
   },
   "outputs": [],
   "source": [
    "#Plotting different data"
   ]
  },
  {
   "cell_type": "code",
   "execution_count": 9,
   "metadata": {
    "collapsed": true
   },
   "outputs": [],
   "source": [
    "trace1={'type':'scatter',\n",
    "        'x':[0,1,2,3,4,5,6,7,8,9],\n",
    "        'y':[0,1,2,3,4,5,6,7,8,9],\n",
    "        'name':'trace1',\n",
    "        'mode':'lines'}"
   ]
  },
  {
   "cell_type": "code",
   "execution_count": 10,
   "metadata": {},
   "outputs": [
    {
     "name": "stderr",
     "output_type": "stream",
     "text": [
      "C:\\Users\\Satish\\Anaconda3\\lib\\site-packages\\plotly\\graph_objs\\_deprecations.py:39: DeprecationWarning:\n",
      "\n",
      "plotly.graph_objs.Data is deprecated.\n",
      "Please replace it with a list or tuple of instances of the following types\n",
      "  - plotly.graph_objs.Scatter\n",
      "  - plotly.graph_objs.Bar\n",
      "  - plotly.graph_objs.Area\n",
      "  - plotly.graph_objs.Histogram\n",
      "  - etc.\n",
      "\n",
      "\n"
     ]
    }
   ],
   "source": [
    "data=Data([trace1])"
   ]
  },
  {
   "cell_type": "code",
   "execution_count": 11,
   "metadata": {
    "collapsed": true
   },
   "outputs": [],
   "source": [
    "layout={'title': 'My first Plotly line chart',\n",
    "        'xaxis':{'title': 'X Values'},\n",
    "        'yaxis':{'title': 'Y Values'}}"
   ]
  },
  {
   "cell_type": "code",
   "execution_count": 12,
   "metadata": {
    "collapsed": true
   },
   "outputs": [],
   "source": [
    "fig=Figure(data=data,layout=layout)"
   ]
  },
  {
   "cell_type": "code",
   "execution_count": 13,
   "metadata": {},
   "outputs": [
    {
     "data": {
      "application/vnd.plotly.v1+json": {
       "data": [
        {
         "mode": "lines",
         "name": "trace1",
         "type": "scatter",
         "uid": "110ac0b7-40ce-40d0-aca9-ee1ebb809756",
         "x": [
          0,
          1,
          2,
          3,
          4,
          5,
          6,
          7,
          8,
          9
         ],
         "y": [
          0,
          1,
          2,
          3,
          4,
          5,
          6,
          7,
          8,
          9
         ]
        }
       ],
       "layout": {
        "title": "My first Plotly line chart",
        "xaxis": {
         "title": "X Values"
        },
        "yaxis": {
         "title": "Y Values"
        }
       }
      },
      "text/html": [
       "<div id=\"3c910ac9-7293-4630-8a3e-11500a7dea1f\" style=\"height: 525px; width: 100%;\" class=\"plotly-graph-div\"></div><script type=\"text/javascript\">require([\"plotly\"], function(Plotly) { window.PLOTLYENV=window.PLOTLYENV || {};window.PLOTLYENV.BASE_URL=\"https://plot.ly\";Plotly.newPlot(\"3c910ac9-7293-4630-8a3e-11500a7dea1f\", [{\"mode\": \"lines\", \"name\": \"trace1\", \"x\": [0, 1, 2, 3, 4, 5, 6, 7, 8, 9], \"y\": [0, 1, 2, 3, 4, 5, 6, 7, 8, 9], \"type\": \"scatter\", \"uid\": \"110ac0b7-40ce-40d0-aca9-ee1ebb809756\"}], {\"title\": \"My first Plotly line chart\", \"xaxis\": {\"title\": \"X Values\"}, \"yaxis\": {\"title\": \"Y Values\"}}, {\"showLink\": true, \"linkText\": \"Export to plot.ly\"})});</script><script type=\"text/javascript\">window.addEventListener(\"resize\", function(){window._Plotly.Plots.resize(document.getElementById(\"3c910ac9-7293-4630-8a3e-11500a7dea1f\"));});</script>"
      ],
      "text/vnd.plotly.v1+html": [
       "<div id=\"3c910ac9-7293-4630-8a3e-11500a7dea1f\" style=\"height: 525px; width: 100%;\" class=\"plotly-graph-div\"></div><script type=\"text/javascript\">require([\"plotly\"], function(Plotly) { window.PLOTLYENV=window.PLOTLYENV || {};window.PLOTLYENV.BASE_URL=\"https://plot.ly\";Plotly.newPlot(\"3c910ac9-7293-4630-8a3e-11500a7dea1f\", [{\"mode\": \"lines\", \"name\": \"trace1\", \"x\": [0, 1, 2, 3, 4, 5, 6, 7, 8, 9], \"y\": [0, 1, 2, 3, 4, 5, 6, 7, 8, 9], \"type\": \"scatter\", \"uid\": \"110ac0b7-40ce-40d0-aca9-ee1ebb809756\"}], {\"title\": \"My first Plotly line chart\", \"xaxis\": {\"title\": \"X Values\"}, \"yaxis\": {\"title\": \"Y Values\"}}, {\"showLink\": true, \"linkText\": \"Export to plot.ly\"})});</script><script type=\"text/javascript\">window.addEventListener(\"resize\", function(){window._Plotly.Plots.resize(document.getElementById(\"3c910ac9-7293-4630-8a3e-11500a7dea1f\"));});</script>"
      ]
     },
     "metadata": {},
     "output_type": "display_data"
    }
   ],
   "source": [
    "iplot(fig)"
   ]
  },
  {
   "cell_type": "code",
   "execution_count": 14,
   "metadata": {
    "collapsed": true
   },
   "outputs": [],
   "source": [
    "updateY={'y':[0,3,4,5,6,7,8,1,2,9]}"
   ]
  },
  {
   "cell_type": "code",
   "execution_count": 15,
   "metadata": {},
   "outputs": [
    {
     "data": {
      "text/plain": [
       "{'mode': 'lines',\n",
       " 'name': 'trace1',\n",
       " 'type': 'scatter',\n",
       " 'x': [0, 1, 2, 3, 4, 5, 6, 7, 8, 9],\n",
       " 'y': [0, 3, 4, 5, 6, 7, 8, 1, 2, 9]}"
      ]
     },
     "execution_count": 15,
     "metadata": {},
     "output_type": "execute_result"
    }
   ],
   "source": [
    "trace1.update(updateY)\n",
    "trace1"
   ]
  },
  {
   "cell_type": "code",
   "execution_count": 16,
   "metadata": {},
   "outputs": [
    {
     "name": "stderr",
     "output_type": "stream",
     "text": [
      "C:\\Users\\Satish\\Anaconda3\\lib\\site-packages\\plotly\\graph_objs\\_deprecations.py:39: DeprecationWarning:\n",
      "\n",
      "plotly.graph_objs.Data is deprecated.\n",
      "Please replace it with a list or tuple of instances of the following types\n",
      "  - plotly.graph_objs.Scatter\n",
      "  - plotly.graph_objs.Bar\n",
      "  - plotly.graph_objs.Area\n",
      "  - plotly.graph_objs.Histogram\n",
      "  - etc.\n",
      "\n",
      "\n"
     ]
    }
   ],
   "source": [
    "data=Data([trace1])\n",
    "fig=Figure(data=data,layout=layout)"
   ]
  },
  {
   "cell_type": "code",
   "execution_count": 17,
   "metadata": {},
   "outputs": [
    {
     "data": {
      "application/vnd.plotly.v1+json": {
       "data": [
        {
         "mode": "lines",
         "name": "trace1",
         "type": "scatter",
         "uid": "915db802-0b41-4f5d-bdcb-7583b8c45cbd",
         "x": [
          0,
          1,
          2,
          3,
          4,
          5,
          6,
          7,
          8,
          9
         ],
         "y": [
          0,
          3,
          4,
          5,
          6,
          7,
          8,
          1,
          2,
          9
         ]
        }
       ],
       "layout": {
        "title": "My first Plotly line chart",
        "xaxis": {
         "title": "X Values"
        },
        "yaxis": {
         "title": "Y Values"
        }
       }
      },
      "text/html": [
       "<div id=\"93af668e-6ff1-4e69-aa60-a0b897222173\" style=\"height: 525px; width: 100%;\" class=\"plotly-graph-div\"></div><script type=\"text/javascript\">require([\"plotly\"], function(Plotly) { window.PLOTLYENV=window.PLOTLYENV || {};window.PLOTLYENV.BASE_URL=\"https://plot.ly\";Plotly.newPlot(\"93af668e-6ff1-4e69-aa60-a0b897222173\", [{\"mode\": \"lines\", \"name\": \"trace1\", \"x\": [0, 1, 2, 3, 4, 5, 6, 7, 8, 9], \"y\": [0, 3, 4, 5, 6, 7, 8, 1, 2, 9], \"type\": \"scatter\", \"uid\": \"915db802-0b41-4f5d-bdcb-7583b8c45cbd\"}], {\"title\": \"My first Plotly line chart\", \"xaxis\": {\"title\": \"X Values\"}, \"yaxis\": {\"title\": \"Y Values\"}}, {\"showLink\": true, \"linkText\": \"Export to plot.ly\"})});</script><script type=\"text/javascript\">window.addEventListener(\"resize\", function(){window._Plotly.Plots.resize(document.getElementById(\"93af668e-6ff1-4e69-aa60-a0b897222173\"));});</script>"
      ],
      "text/vnd.plotly.v1+html": [
       "<div id=\"93af668e-6ff1-4e69-aa60-a0b897222173\" style=\"height: 525px; width: 100%;\" class=\"plotly-graph-div\"></div><script type=\"text/javascript\">require([\"plotly\"], function(Plotly) { window.PLOTLYENV=window.PLOTLYENV || {};window.PLOTLYENV.BASE_URL=\"https://plot.ly\";Plotly.newPlot(\"93af668e-6ff1-4e69-aa60-a0b897222173\", [{\"mode\": \"lines\", \"name\": \"trace1\", \"x\": [0, 1, 2, 3, 4, 5, 6, 7, 8, 9], \"y\": [0, 3, 4, 5, 6, 7, 8, 1, 2, 9], \"type\": \"scatter\", \"uid\": \"915db802-0b41-4f5d-bdcb-7583b8c45cbd\"}], {\"title\": \"My first Plotly line chart\", \"xaxis\": {\"title\": \"X Values\"}, \"yaxis\": {\"title\": \"Y Values\"}}, {\"showLink\": true, \"linkText\": \"Export to plot.ly\"})});</script><script type=\"text/javascript\">window.addEventListener(\"resize\", function(){window._Plotly.Plots.resize(document.getElementById(\"93af668e-6ff1-4e69-aa60-a0b897222173\"));});</script>"
      ]
     },
     "metadata": {},
     "output_type": "display_data"
    }
   ],
   "source": [
    "iplot(fig)"
   ]
  },
  {
   "cell_type": "code",
   "execution_count": 18,
   "metadata": {},
   "outputs": [
    {
     "data": {
      "text/plain": [
       "{'title': 'My first Plotly line chart',\n",
       " 'xaxis': {'title': 'X Values'},\n",
       " 'yaxis': {'title': 'Y Values'}}"
      ]
     },
     "execution_count": 18,
     "metadata": {},
     "output_type": "execute_result"
    }
   ],
   "source": [
    "layout"
   ]
  },
  {
   "cell_type": "code",
   "execution_count": 19,
   "metadata": {
    "collapsed": true
   },
   "outputs": [],
   "source": [
    "layout.update({'title':'My second Plotly line chart'})"
   ]
  },
  {
   "cell_type": "code",
   "execution_count": 20,
   "metadata": {
    "collapsed": true
   },
   "outputs": [],
   "source": [
    "fig=Figure(data=data,layout=layout)"
   ]
  },
  {
   "cell_type": "code",
   "execution_count": 21,
   "metadata": {},
   "outputs": [
    {
     "data": {
      "application/vnd.plotly.v1+json": {
       "data": [
        {
         "mode": "lines",
         "name": "trace1",
         "type": "scatter",
         "uid": "90efde16-86a1-4c9f-acbb-9af9e4439390",
         "x": [
          0,
          1,
          2,
          3,
          4,
          5,
          6,
          7,
          8,
          9
         ],
         "y": [
          0,
          3,
          4,
          5,
          6,
          7,
          8,
          1,
          2,
          9
         ]
        }
       ],
       "layout": {
        "title": "My second Plotly line chart",
        "xaxis": {
         "title": "X Values"
        },
        "yaxis": {
         "title": "Y Values"
        }
       }
      },
      "text/html": [
       "<div id=\"5f49ce30-e7aa-447d-bbf2-d5e0901a3fd6\" style=\"height: 525px; width: 100%;\" class=\"plotly-graph-div\"></div><script type=\"text/javascript\">require([\"plotly\"], function(Plotly) { window.PLOTLYENV=window.PLOTLYENV || {};window.PLOTLYENV.BASE_URL=\"https://plot.ly\";Plotly.newPlot(\"5f49ce30-e7aa-447d-bbf2-d5e0901a3fd6\", [{\"mode\": \"lines\", \"name\": \"trace1\", \"x\": [0, 1, 2, 3, 4, 5, 6, 7, 8, 9], \"y\": [0, 3, 4, 5, 6, 7, 8, 1, 2, 9], \"type\": \"scatter\", \"uid\": \"90efde16-86a1-4c9f-acbb-9af9e4439390\"}], {\"title\": \"My second Plotly line chart\", \"xaxis\": {\"title\": \"X Values\"}, \"yaxis\": {\"title\": \"Y Values\"}}, {\"showLink\": true, \"linkText\": \"Export to plot.ly\"})});</script><script type=\"text/javascript\">window.addEventListener(\"resize\", function(){window._Plotly.Plots.resize(document.getElementById(\"5f49ce30-e7aa-447d-bbf2-d5e0901a3fd6\"));});</script>"
      ],
      "text/vnd.plotly.v1+html": [
       "<div id=\"5f49ce30-e7aa-447d-bbf2-d5e0901a3fd6\" style=\"height: 525px; width: 100%;\" class=\"plotly-graph-div\"></div><script type=\"text/javascript\">require([\"plotly\"], function(Plotly) { window.PLOTLYENV=window.PLOTLYENV || {};window.PLOTLYENV.BASE_URL=\"https://plot.ly\";Plotly.newPlot(\"5f49ce30-e7aa-447d-bbf2-d5e0901a3fd6\", [{\"mode\": \"lines\", \"name\": \"trace1\", \"x\": [0, 1, 2, 3, 4, 5, 6, 7, 8, 9], \"y\": [0, 3, 4, 5, 6, 7, 8, 1, 2, 9], \"type\": \"scatter\", \"uid\": \"90efde16-86a1-4c9f-acbb-9af9e4439390\"}], {\"title\": \"My second Plotly line chart\", \"xaxis\": {\"title\": \"X Values\"}, \"yaxis\": {\"title\": \"Y Values\"}}, {\"showLink\": true, \"linkText\": \"Export to plot.ly\"})});</script><script type=\"text/javascript\">window.addEventListener(\"resize\", function(){window._Plotly.Plots.resize(document.getElementById(\"5f49ce30-e7aa-447d-bbf2-d5e0901a3fd6\"));});</script>"
      ]
     },
     "metadata": {},
     "output_type": "display_data"
    }
   ],
   "source": [
    "iplot(fig)"
   ]
  },
  {
   "cell_type": "code",
   "execution_count": 22,
   "metadata": {
    "collapsed": true
   },
   "outputs": [],
   "source": [
    "del layout['yaxis']['title']"
   ]
  },
  {
   "cell_type": "code",
   "execution_count": 23,
   "metadata": {},
   "outputs": [
    {
     "data": {
      "text/plain": [
       "{'title': 'My second Plotly line chart',\n",
       " 'xaxis': {'title': 'X Values'},\n",
       " 'yaxis': {}}"
      ]
     },
     "execution_count": 23,
     "metadata": {},
     "output_type": "execute_result"
    }
   ],
   "source": [
    "layout"
   ]
  },
  {
   "cell_type": "code",
   "execution_count": 24,
   "metadata": {
    "collapsed": true
   },
   "outputs": [],
   "source": [
    "fig=Figure(data=data,layout=layout)"
   ]
  },
  {
   "cell_type": "code",
   "execution_count": 25,
   "metadata": {},
   "outputs": [
    {
     "data": {
      "application/vnd.plotly.v1+json": {
       "data": [
        {
         "mode": "lines",
         "name": "trace1",
         "type": "scatter",
         "uid": "8d1f6045-c990-4adf-b80c-79ff37fa0369",
         "x": [
          0,
          1,
          2,
          3,
          4,
          5,
          6,
          7,
          8,
          9
         ],
         "y": [
          0,
          3,
          4,
          5,
          6,
          7,
          8,
          1,
          2,
          9
         ]
        }
       ],
       "layout": {
        "title": "My second Plotly line chart",
        "xaxis": {
         "title": "X Values"
        }
       }
      },
      "text/html": [
       "<div id=\"fdde0a99-b729-4641-a27e-526e65321351\" style=\"height: 525px; width: 100%;\" class=\"plotly-graph-div\"></div><script type=\"text/javascript\">require([\"plotly\"], function(Plotly) { window.PLOTLYENV=window.PLOTLYENV || {};window.PLOTLYENV.BASE_URL=\"https://plot.ly\";Plotly.newPlot(\"fdde0a99-b729-4641-a27e-526e65321351\", [{\"mode\": \"lines\", \"name\": \"trace1\", \"x\": [0, 1, 2, 3, 4, 5, 6, 7, 8, 9], \"y\": [0, 3, 4, 5, 6, 7, 8, 1, 2, 9], \"type\": \"scatter\", \"uid\": \"8d1f6045-c990-4adf-b80c-79ff37fa0369\"}], {\"title\": \"My second Plotly line chart\", \"xaxis\": {\"title\": \"X Values\"}}, {\"showLink\": true, \"linkText\": \"Export to plot.ly\"})});</script><script type=\"text/javascript\">window.addEventListener(\"resize\", function(){window._Plotly.Plots.resize(document.getElementById(\"fdde0a99-b729-4641-a27e-526e65321351\"));});</script>"
      ],
      "text/vnd.plotly.v1+html": [
       "<div id=\"fdde0a99-b729-4641-a27e-526e65321351\" style=\"height: 525px; width: 100%;\" class=\"plotly-graph-div\"></div><script type=\"text/javascript\">require([\"plotly\"], function(Plotly) { window.PLOTLYENV=window.PLOTLYENV || {};window.PLOTLYENV.BASE_URL=\"https://plot.ly\";Plotly.newPlot(\"fdde0a99-b729-4641-a27e-526e65321351\", [{\"mode\": \"lines\", \"name\": \"trace1\", \"x\": [0, 1, 2, 3, 4, 5, 6, 7, 8, 9], \"y\": [0, 3, 4, 5, 6, 7, 8, 1, 2, 9], \"type\": \"scatter\", \"uid\": \"8d1f6045-c990-4adf-b80c-79ff37fa0369\"}], {\"title\": \"My second Plotly line chart\", \"xaxis\": {\"title\": \"X Values\"}}, {\"showLink\": true, \"linkText\": \"Export to plot.ly\"})});</script><script type=\"text/javascript\">window.addEventListener(\"resize\", function(){window._Plotly.Plots.resize(document.getElementById(\"fdde0a99-b729-4641-a27e-526e65321351\"));});</script>"
      ]
     },
     "metadata": {},
     "output_type": "display_data"
    }
   ],
   "source": [
    "iplot(fig)"
   ]
  },
  {
   "cell_type": "code",
   "execution_count": 26,
   "metadata": {
    "collapsed": true
   },
   "outputs": [],
   "source": [
    "#Plotting data from Pandas dataframe "
   ]
  },
  {
   "cell_type": "code",
   "execution_count": 27,
   "metadata": {
    "collapsed": true
   },
   "outputs": [],
   "source": [
    "import numpy as np\n",
    "import pandas as pd"
   ]
  },
  {
   "cell_type": "code",
   "execution_count": 28,
   "metadata": {
    "collapsed": true
   },
   "outputs": [],
   "source": [
    "expenseData=pd.read_csv(\"NumberOfMPsExpenseClaims.csv\")"
   ]
  },
  {
   "cell_type": "code",
   "execution_count": 29,
   "metadata": {
    "scrolled": true
   },
   "outputs": [
    {
     "data": {
      "text/html": [
       "<div>\n",
       "<style scoped>\n",
       "    .dataframe tbody tr th:only-of-type {\n",
       "        vertical-align: middle;\n",
       "    }\n",
       "\n",
       "    .dataframe tbody tr th {\n",
       "        vertical-align: top;\n",
       "    }\n",
       "\n",
       "    .dataframe thead th {\n",
       "        text-align: right;\n",
       "    }\n",
       "</style>\n",
       "<table border=\"1\" class=\"dataframe\">\n",
       "  <thead>\n",
       "    <tr style=\"text-align: right;\">\n",
       "      <th></th>\n",
       "      <th>month</th>\n",
       "      <th>NumberOfClaims2010</th>\n",
       "      <th>NumberOfClaims2011</th>\n",
       "      <th>NumberOfClaims2012</th>\n",
       "      <th>NumberOfClaims2013</th>\n",
       "      <th>NumberOfClaims2014</th>\n",
       "      <th>NumberOfClaims2015</th>\n",
       "    </tr>\n",
       "  </thead>\n",
       "  <tbody>\n",
       "    <tr>\n",
       "      <th>count</th>\n",
       "      <td>12.000000</td>\n",
       "      <td>12.000000</td>\n",
       "      <td>12.000000</td>\n",
       "      <td>12.000000</td>\n",
       "      <td>12.000000</td>\n",
       "      <td>12.000000</td>\n",
       "      <td>12.000000</td>\n",
       "    </tr>\n",
       "    <tr>\n",
       "      <th>mean</th>\n",
       "      <td>6.500000</td>\n",
       "      <td>12392.166667</td>\n",
       "      <td>15723.083333</td>\n",
       "      <td>16638.916667</td>\n",
       "      <td>17265.083333</td>\n",
       "      <td>15299.666667</td>\n",
       "      <td>9748.500000</td>\n",
       "    </tr>\n",
       "    <tr>\n",
       "      <th>std</th>\n",
       "      <td>3.605551</td>\n",
       "      <td>5158.031140</td>\n",
       "      <td>2276.059372</td>\n",
       "      <td>2347.924827</td>\n",
       "      <td>2302.409586</td>\n",
       "      <td>1759.354599</td>\n",
       "      <td>6283.133244</td>\n",
       "    </tr>\n",
       "    <tr>\n",
       "      <th>min</th>\n",
       "      <td>1.000000</td>\n",
       "      <td>3.000000</td>\n",
       "      <td>11036.000000</td>\n",
       "      <td>11625.000000</td>\n",
       "      <td>12182.000000</td>\n",
       "      <td>10784.000000</td>\n",
       "      <td>0.000000</td>\n",
       "    </tr>\n",
       "    <tr>\n",
       "      <th>25%</th>\n",
       "      <td>3.750000</td>\n",
       "      <td>10994.750000</td>\n",
       "      <td>14624.250000</td>\n",
       "      <td>15405.500000</td>\n",
       "      <td>15864.000000</td>\n",
       "      <td>14651.500000</td>\n",
       "      <td>4963.000000</td>\n",
       "    </tr>\n",
       "    <tr>\n",
       "      <th>50%</th>\n",
       "      <td>6.500000</td>\n",
       "      <td>14100.500000</td>\n",
       "      <td>15757.000000</td>\n",
       "      <td>16566.000000</td>\n",
       "      <td>17828.000000</td>\n",
       "      <td>15813.500000</td>\n",
       "      <td>10854.000000</td>\n",
       "    </tr>\n",
       "    <tr>\n",
       "      <th>75%</th>\n",
       "      <td>9.250000</td>\n",
       "      <td>15069.250000</td>\n",
       "      <td>17044.750000</td>\n",
       "      <td>17839.750000</td>\n",
       "      <td>18344.500000</td>\n",
       "      <td>16251.500000</td>\n",
       "      <td>14949.250000</td>\n",
       "    </tr>\n",
       "    <tr>\n",
       "      <th>max</th>\n",
       "      <td>12.000000</td>\n",
       "      <td>18678.000000</td>\n",
       "      <td>19507.000000</td>\n",
       "      <td>20934.000000</td>\n",
       "      <td>21204.000000</td>\n",
       "      <td>17207.000000</td>\n",
       "      <td>17555.000000</td>\n",
       "    </tr>\n",
       "  </tbody>\n",
       "</table>\n",
       "</div>"
      ],
      "text/plain": [
       "           month  NumberOfClaims2010  NumberOfClaims2011  NumberOfClaims2012  \\\n",
       "count  12.000000           12.000000           12.000000           12.000000   \n",
       "mean    6.500000        12392.166667        15723.083333        16638.916667   \n",
       "std     3.605551         5158.031140         2276.059372         2347.924827   \n",
       "min     1.000000            3.000000        11036.000000        11625.000000   \n",
       "25%     3.750000        10994.750000        14624.250000        15405.500000   \n",
       "50%     6.500000        14100.500000        15757.000000        16566.000000   \n",
       "75%     9.250000        15069.250000        17044.750000        17839.750000   \n",
       "max    12.000000        18678.000000        19507.000000        20934.000000   \n",
       "\n",
       "       NumberOfClaims2013  NumberOfClaims2014  NumberOfClaims2015  \n",
       "count           12.000000           12.000000           12.000000  \n",
       "mean         17265.083333        15299.666667         9748.500000  \n",
       "std           2302.409586         1759.354599         6283.133244  \n",
       "min          12182.000000        10784.000000            0.000000  \n",
       "25%          15864.000000        14651.500000         4963.000000  \n",
       "50%          17828.000000        15813.500000        10854.000000  \n",
       "75%          18344.500000        16251.500000        14949.250000  \n",
       "max          21204.000000        17207.000000        17555.000000  "
      ]
     },
     "execution_count": 29,
     "metadata": {},
     "output_type": "execute_result"
    }
   ],
   "source": [
    "expenseData.describe()"
   ]
  },
  {
   "cell_type": "code",
   "execution_count": 30,
   "metadata": {
    "collapsed": true
   },
   "outputs": [],
   "source": [
    "trace1={'type':'scatter',\n",
    "       'mode': 'lines',\n",
    "       'name':'trace1',\n",
    "       'x':expenseData['month'],\n",
    "       'y':expenseData['NumberOfClaims2010']\n",
    "       }"
   ]
  },
  {
   "cell_type": "code",
   "execution_count": 31,
   "metadata": {},
   "outputs": [
    {
     "name": "stderr",
     "output_type": "stream",
     "text": [
      "C:\\Users\\Satish\\Anaconda3\\lib\\site-packages\\plotly\\graph_objs\\_deprecations.py:39: DeprecationWarning:\n",
      "\n",
      "plotly.graph_objs.Data is deprecated.\n",
      "Please replace it with a list or tuple of instances of the following types\n",
      "  - plotly.graph_objs.Scatter\n",
      "  - plotly.graph_objs.Bar\n",
      "  - plotly.graph_objs.Area\n",
      "  - plotly.graph_objs.Histogram\n",
      "  - etc.\n",
      "\n",
      "\n"
     ]
    }
   ],
   "source": [
    "data=Data([trace1])"
   ]
  },
  {
   "cell_type": "code",
   "execution_count": 32,
   "metadata": {
    "collapsed": true
   },
   "outputs": [],
   "source": [
    "layout={'title':'Expense by month in 2010',\n",
    "        'xaxis':{'title':'Month'},\n",
    "        'yaxis':{'title':'Number of cliams'}\n",
    "    }"
   ]
  },
  {
   "cell_type": "code",
   "execution_count": 33,
   "metadata": {},
   "outputs": [
    {
     "data": {
      "application/vnd.plotly.v1+json": {
       "data": [
        {
         "mode": "lines",
         "name": "trace1",
         "type": "scatter",
         "uid": "438cdf8f-5365-4f92-8216-d675c50b7803",
         "x": [
          1,
          2,
          3,
          4,
          5,
          6,
          7,
          8,
          9,
          10,
          11,
          12
         ],
         "y": [
          14982,
          14168,
          18678,
          3,
          6404,
          11767,
          14721,
          8678,
          14033,
          15331,
          17173,
          12768
         ]
        }
       ],
       "layout": {
        "title": "Expense by month in 2010",
        "xaxis": {
         "title": "Month"
        },
        "yaxis": {
         "title": "Number of cliams"
        }
       }
      },
      "text/html": [
       "<div id=\"0cffdbf1-3cc3-41d1-a84b-e84ada1b3632\" style=\"height: 525px; width: 100%;\" class=\"plotly-graph-div\"></div><script type=\"text/javascript\">require([\"plotly\"], function(Plotly) { window.PLOTLYENV=window.PLOTLYENV || {};window.PLOTLYENV.BASE_URL=\"https://plot.ly\";Plotly.newPlot(\"0cffdbf1-3cc3-41d1-a84b-e84ada1b3632\", [{\"mode\": \"lines\", \"name\": \"trace1\", \"x\": [1, 2, 3, 4, 5, 6, 7, 8, 9, 10, 11, 12], \"y\": [14982, 14168, 18678, 3, 6404, 11767, 14721, 8678, 14033, 15331, 17173, 12768], \"type\": \"scatter\", \"uid\": \"438cdf8f-5365-4f92-8216-d675c50b7803\"}], {\"title\": \"Expense by month in 2010\", \"xaxis\": {\"title\": \"Month\"}, \"yaxis\": {\"title\": \"Number of cliams\"}}, {\"showLink\": true, \"linkText\": \"Export to plot.ly\"})});</script><script type=\"text/javascript\">window.addEventListener(\"resize\", function(){window._Plotly.Plots.resize(document.getElementById(\"0cffdbf1-3cc3-41d1-a84b-e84ada1b3632\"));});</script>"
      ],
      "text/vnd.plotly.v1+html": [
       "<div id=\"0cffdbf1-3cc3-41d1-a84b-e84ada1b3632\" style=\"height: 525px; width: 100%;\" class=\"plotly-graph-div\"></div><script type=\"text/javascript\">require([\"plotly\"], function(Plotly) { window.PLOTLYENV=window.PLOTLYENV || {};window.PLOTLYENV.BASE_URL=\"https://plot.ly\";Plotly.newPlot(\"0cffdbf1-3cc3-41d1-a84b-e84ada1b3632\", [{\"mode\": \"lines\", \"name\": \"trace1\", \"x\": [1, 2, 3, 4, 5, 6, 7, 8, 9, 10, 11, 12], \"y\": [14982, 14168, 18678, 3, 6404, 11767, 14721, 8678, 14033, 15331, 17173, 12768], \"type\": \"scatter\", \"uid\": \"438cdf8f-5365-4f92-8216-d675c50b7803\"}], {\"title\": \"Expense by month in 2010\", \"xaxis\": {\"title\": \"Month\"}, \"yaxis\": {\"title\": \"Number of cliams\"}}, {\"showLink\": true, \"linkText\": \"Export to plot.ly\"})});</script><script type=\"text/javascript\">window.addEventListener(\"resize\", function(){window._Plotly.Plots.resize(document.getElementById(\"0cffdbf1-3cc3-41d1-a84b-e84ada1b3632\"));});</script>"
      ]
     },
     "metadata": {},
     "output_type": "display_data"
    }
   ],
   "source": [
    "fig=Figure(data=data,layout=layout)\n",
    "iplot(fig)"
   ]
  },
  {
   "cell_type": "code",
   "execution_count": 34,
   "metadata": {
    "collapsed": true
   },
   "outputs": [],
   "source": [
    "trace2={'type':'scatter',\n",
    "       'mode': 'lines',\n",
    "       'name':'trace2',\n",
    "       'x':expenseData['month'],\n",
    "       'y':expenseData['NumberOfClaims2011']\n",
    "       }"
   ]
  },
  {
   "cell_type": "code",
   "execution_count": 35,
   "metadata": {},
   "outputs": [
    {
     "name": "stderr",
     "output_type": "stream",
     "text": [
      "C:\\Users\\Satish\\Anaconda3\\lib\\site-packages\\plotly\\graph_objs\\_deprecations.py:39: DeprecationWarning:\n",
      "\n",
      "plotly.graph_objs.Data is deprecated.\n",
      "Please replace it with a list or tuple of instances of the following types\n",
      "  - plotly.graph_objs.Scatter\n",
      "  - plotly.graph_objs.Bar\n",
      "  - plotly.graph_objs.Area\n",
      "  - plotly.graph_objs.Histogram\n",
      "  - etc.\n",
      "\n",
      "\n"
     ]
    }
   ],
   "source": [
    "data2=Data([trace2])"
   ]
  },
  {
   "cell_type": "code",
   "execution_count": 36,
   "metadata": {
    "collapsed": true
   },
   "outputs": [],
   "source": [
    "layout2={'title':'Expense by month in 2011',\n",
    "        'xaxis':{'title':'Month'},\n",
    "        'yaxis':{'title':'Number of cliams'}\n",
    "    }"
   ]
  },
  {
   "cell_type": "code",
   "execution_count": 37,
   "metadata": {
    "collapsed": true
   },
   "outputs": [],
   "source": [
    "fig2=Figure(data=data,layout=layout2)"
   ]
  },
  {
   "cell_type": "code",
   "execution_count": 38,
   "metadata": {},
   "outputs": [
    {
     "data": {
      "application/vnd.plotly.v1+json": {
       "data": [
        {
         "mode": "lines",
         "name": "trace1",
         "type": "scatter",
         "uid": "e78aaf1b-44d1-41f9-8c60-d08ec8b8256e",
         "x": [
          1,
          2,
          3,
          4,
          5,
          6,
          7,
          8,
          9,
          10,
          11,
          12
         ],
         "y": [
          14982,
          14168,
          18678,
          3,
          6404,
          11767,
          14721,
          8678,
          14033,
          15331,
          17173,
          12768
         ]
        }
       ],
       "layout": {
        "title": "Expense by month in 2011",
        "xaxis": {
         "title": "Month"
        },
        "yaxis": {
         "title": "Number of cliams"
        }
       }
      },
      "text/html": [
       "<div id=\"af02f952-ac7a-4797-b99d-052d8b4d9892\" style=\"height: 525px; width: 100%;\" class=\"plotly-graph-div\"></div><script type=\"text/javascript\">require([\"plotly\"], function(Plotly) { window.PLOTLYENV=window.PLOTLYENV || {};window.PLOTLYENV.BASE_URL=\"https://plot.ly\";Plotly.newPlot(\"af02f952-ac7a-4797-b99d-052d8b4d9892\", [{\"mode\": \"lines\", \"name\": \"trace1\", \"x\": [1, 2, 3, 4, 5, 6, 7, 8, 9, 10, 11, 12], \"y\": [14982, 14168, 18678, 3, 6404, 11767, 14721, 8678, 14033, 15331, 17173, 12768], \"type\": \"scatter\", \"uid\": \"e78aaf1b-44d1-41f9-8c60-d08ec8b8256e\"}], {\"title\": \"Expense by month in 2011\", \"xaxis\": {\"title\": \"Month\"}, \"yaxis\": {\"title\": \"Number of cliams\"}}, {\"showLink\": true, \"linkText\": \"Export to plot.ly\"})});</script><script type=\"text/javascript\">window.addEventListener(\"resize\", function(){window._Plotly.Plots.resize(document.getElementById(\"af02f952-ac7a-4797-b99d-052d8b4d9892\"));});</script>"
      ],
      "text/vnd.plotly.v1+html": [
       "<div id=\"af02f952-ac7a-4797-b99d-052d8b4d9892\" style=\"height: 525px; width: 100%;\" class=\"plotly-graph-div\"></div><script type=\"text/javascript\">require([\"plotly\"], function(Plotly) { window.PLOTLYENV=window.PLOTLYENV || {};window.PLOTLYENV.BASE_URL=\"https://plot.ly\";Plotly.newPlot(\"af02f952-ac7a-4797-b99d-052d8b4d9892\", [{\"mode\": \"lines\", \"name\": \"trace1\", \"x\": [1, 2, 3, 4, 5, 6, 7, 8, 9, 10, 11, 12], \"y\": [14982, 14168, 18678, 3, 6404, 11767, 14721, 8678, 14033, 15331, 17173, 12768], \"type\": \"scatter\", \"uid\": \"e78aaf1b-44d1-41f9-8c60-d08ec8b8256e\"}], {\"title\": \"Expense by month in 2011\", \"xaxis\": {\"title\": \"Month\"}, \"yaxis\": {\"title\": \"Number of cliams\"}}, {\"showLink\": true, \"linkText\": \"Export to plot.ly\"})});</script><script type=\"text/javascript\">window.addEventListener(\"resize\", function(){window._Plotly.Plots.resize(document.getElementById(\"af02f952-ac7a-4797-b99d-052d8b4d9892\"));});</script>"
      ]
     },
     "metadata": {},
     "output_type": "display_data"
    }
   ],
   "source": [
    "iplot(fig2)"
   ]
  },
  {
   "cell_type": "code",
   "execution_count": 39,
   "metadata": {
    "collapsed": true
   },
   "outputs": [],
   "source": [
    "#Plotting multiple traces"
   ]
  },
  {
   "cell_type": "code",
   "execution_count": 42,
   "metadata": {},
   "outputs": [],
   "source": [
    "trace_2010={'type': 'scatter',\n",
    "            'x':expenseData['month'],\n",
    "            'y':expenseData['NumberOfClaims2010'],\n",
    "            'name':'2010',\n",
    "            'mode':'lines'}"
   ]
  },
  {
   "cell_type": "code",
   "execution_count": 43,
   "metadata": {
    "collapsed": true
   },
   "outputs": [],
   "source": [
    "trace_2011={'type': 'scatter',\n",
    "            'x':expenseData['month'],\n",
    "            'y':expenseData['NumberOfClaims2011'],\n",
    "            'name':'2011',\n",
    "            'mode':'lines'}"
   ]
  },
  {
   "cell_type": "code",
   "execution_count": 48,
   "metadata": {},
   "outputs": [
    {
     "name": "stderr",
     "output_type": "stream",
     "text": [
      "C:\\Users\\Satish\\Anaconda3\\lib\\site-packages\\plotly\\graph_objs\\_deprecations.py:39: DeprecationWarning:\n",
      "\n",
      "plotly.graph_objs.Data is deprecated.\n",
      "Please replace it with a list or tuple of instances of the following types\n",
      "  - plotly.graph_objs.Scatter\n",
      "  - plotly.graph_objs.Bar\n",
      "  - plotly.graph_objs.Area\n",
      "  - plotly.graph_objs.Histogram\n",
      "  - etc.\n",
      "\n",
      "\n"
     ]
    }
   ],
   "source": [
    "data=Data([trace_2010,trace_2011])"
   ]
  },
  {
   "cell_type": "code",
   "execution_count": 45,
   "metadata": {
    "collapsed": true
   },
   "outputs": [],
   "source": [
    "layout={'title':' Expense claims by month for 2010-2011',\n",
    "        'xaxis':{'title':'Month'},\n",
    "        'yaxis':{'title':'Number of expense claims'}\n",
    "       \n",
    "       }"
   ]
  },
  {
   "cell_type": "code",
   "execution_count": 46,
   "metadata": {
    "collapsed": true
   },
   "outputs": [],
   "source": [
    "fig=Figure(data=data,layout=layout)"
   ]
  },
  {
   "cell_type": "code",
   "execution_count": 47,
   "metadata": {},
   "outputs": [
    {
     "data": {
      "application/vnd.plotly.v1+json": {
       "data": [
        {
         "mode": "lines",
         "name": "2010",
         "type": "scatter",
         "uid": "8bcc6dfc-9abd-4c41-86c2-69ad72a1305d",
         "x": [
          1,
          2,
          3,
          4,
          5,
          6,
          7,
          8,
          9,
          10,
          11,
          12
         ],
         "y": [
          14982,
          14168,
          18678,
          3,
          6404,
          11767,
          14721,
          8678,
          14033,
          15331,
          17173,
          12768
         ]
        },
        {
         "mode": "lines",
         "name": "2011",
         "type": "scatter",
         "uid": "cb2e417d-a907-4b83-a2cd-6af9d13a64c3",
         "x": [
          1,
          2,
          3,
          4,
          5,
          6,
          7,
          8,
          9,
          10,
          11,
          12
         ],
         "y": [
          16594,
          16060,
          19507,
          13056,
          15454,
          17104,
          15446,
          11036,
          14487,
          17025,
          18238,
          14670
         ]
        }
       ],
       "layout": {
        "title": " Expense claims by month for 2010-2011",
        "xaxis": {
         "title": "Month"
        },
        "yaxis": {
         "title": "Number of expense claims"
        }
       }
      },
      "text/html": [
       "<div id=\"6b02bb54-0110-4f06-908f-afbaa65decbc\" style=\"height: 525px; width: 100%;\" class=\"plotly-graph-div\"></div><script type=\"text/javascript\">require([\"plotly\"], function(Plotly) { window.PLOTLYENV=window.PLOTLYENV || {};window.PLOTLYENV.BASE_URL=\"https://plot.ly\";Plotly.newPlot(\"6b02bb54-0110-4f06-908f-afbaa65decbc\", [{\"mode\": \"lines\", \"name\": \"2010\", \"x\": [1, 2, 3, 4, 5, 6, 7, 8, 9, 10, 11, 12], \"y\": [14982, 14168, 18678, 3, 6404, 11767, 14721, 8678, 14033, 15331, 17173, 12768], \"type\": \"scatter\", \"uid\": \"8bcc6dfc-9abd-4c41-86c2-69ad72a1305d\"}, {\"mode\": \"lines\", \"name\": \"2011\", \"x\": [1, 2, 3, 4, 5, 6, 7, 8, 9, 10, 11, 12], \"y\": [16594, 16060, 19507, 13056, 15454, 17104, 15446, 11036, 14487, 17025, 18238, 14670], \"type\": \"scatter\", \"uid\": \"cb2e417d-a907-4b83-a2cd-6af9d13a64c3\"}], {\"title\": \" Expense claims by month for 2010-2011\", \"xaxis\": {\"title\": \"Month\"}, \"yaxis\": {\"title\": \"Number of expense claims\"}}, {\"showLink\": true, \"linkText\": \"Export to plot.ly\"})});</script><script type=\"text/javascript\">window.addEventListener(\"resize\", function(){window._Plotly.Plots.resize(document.getElementById(\"6b02bb54-0110-4f06-908f-afbaa65decbc\"));});</script>"
      ],
      "text/vnd.plotly.v1+html": [
       "<div id=\"6b02bb54-0110-4f06-908f-afbaa65decbc\" style=\"height: 525px; width: 100%;\" class=\"plotly-graph-div\"></div><script type=\"text/javascript\">require([\"plotly\"], function(Plotly) { window.PLOTLYENV=window.PLOTLYENV || {};window.PLOTLYENV.BASE_URL=\"https://plot.ly\";Plotly.newPlot(\"6b02bb54-0110-4f06-908f-afbaa65decbc\", [{\"mode\": \"lines\", \"name\": \"2010\", \"x\": [1, 2, 3, 4, 5, 6, 7, 8, 9, 10, 11, 12], \"y\": [14982, 14168, 18678, 3, 6404, 11767, 14721, 8678, 14033, 15331, 17173, 12768], \"type\": \"scatter\", \"uid\": \"8bcc6dfc-9abd-4c41-86c2-69ad72a1305d\"}, {\"mode\": \"lines\", \"name\": \"2011\", \"x\": [1, 2, 3, 4, 5, 6, 7, 8, 9, 10, 11, 12], \"y\": [16594, 16060, 19507, 13056, 15454, 17104, 15446, 11036, 14487, 17025, 18238, 14670], \"type\": \"scatter\", \"uid\": \"cb2e417d-a907-4b83-a2cd-6af9d13a64c3\"}], {\"title\": \" Expense claims by month for 2010-2011\", \"xaxis\": {\"title\": \"Month\"}, \"yaxis\": {\"title\": \"Number of expense claims\"}}, {\"showLink\": true, \"linkText\": \"Export to plot.ly\"})});</script><script type=\"text/javascript\">window.addEventListener(\"resize\", function(){window._Plotly.Plots.resize(document.getElementById(\"6b02bb54-0110-4f06-908f-afbaa65decbc\"));});</script>"
      ]
     },
     "metadata": {},
     "output_type": "display_data"
    }
   ],
   "source": [
    "iplot(fig)"
   ]
  },
  {
   "cell_type": "code",
   "execution_count": 49,
   "metadata": {
    "collapsed": true
   },
   "outputs": [],
   "source": [
    "trace_2012={'type': 'scatter',\n",
    "            'x':expenseData['month'],\n",
    "            'y':expenseData['NumberOfClaims2012'],\n",
    "            'name':'2012',\n",
    "            'mode':'lines'}"
   ]
  },
  {
   "cell_type": "code",
   "execution_count": 50,
   "metadata": {},
   "outputs": [
    {
     "name": "stderr",
     "output_type": "stream",
     "text": [
      "C:\\Users\\Satish\\Anaconda3\\lib\\site-packages\\plotly\\graph_objs\\_deprecations.py:39: DeprecationWarning:\n",
      "\n",
      "plotly.graph_objs.Data is deprecated.\n",
      "Please replace it with a list or tuple of instances of the following types\n",
      "  - plotly.graph_objs.Scatter\n",
      "  - plotly.graph_objs.Bar\n",
      "  - plotly.graph_objs.Area\n",
      "  - plotly.graph_objs.Histogram\n",
      "  - etc.\n",
      "\n",
      "\n"
     ]
    }
   ],
   "source": [
    "data=Data([trace_2010,trace_2011,trace_2012])"
   ]
  },
  {
   "cell_type": "code",
   "execution_count": 53,
   "metadata": {
    "collapsed": true
   },
   "outputs": [],
   "source": [
    "layout={'title':' Expense claims by month for 2010-2012',\n",
    "        'xaxis':{'title':'Month'},\n",
    "        'yaxis':{'title':'Number of expense claims'}\n",
    "       \n",
    "       }"
   ]
  },
  {
   "cell_type": "code",
   "execution_count": 54,
   "metadata": {
    "collapsed": true
   },
   "outputs": [],
   "source": [
    "fig=Figure(data=data,layout=layout)"
   ]
  },
  {
   "cell_type": "code",
   "execution_count": 55,
   "metadata": {},
   "outputs": [
    {
     "data": {
      "application/vnd.plotly.v1+json": {
       "data": [
        {
         "mode": "lines",
         "name": "2010",
         "type": "scatter",
         "uid": "b30d0eda-a3b8-4cdc-a604-fcd13fbfd744",
         "x": [
          1,
          2,
          3,
          4,
          5,
          6,
          7,
          8,
          9,
          10,
          11,
          12
         ],
         "y": [
          14982,
          14168,
          18678,
          3,
          6404,
          11767,
          14721,
          8678,
          14033,
          15331,
          17173,
          12768
         ]
        },
        {
         "mode": "lines",
         "name": "2011",
         "type": "scatter",
         "uid": "1f598c07-e433-48eb-a25d-4adbcb251948",
         "x": [
          1,
          2,
          3,
          4,
          5,
          6,
          7,
          8,
          9,
          10,
          11,
          12
         ],
         "y": [
          16594,
          16060,
          19507,
          13056,
          15454,
          17104,
          15446,
          11036,
          14487,
          17025,
          18238,
          14670
         ]
        },
        {
         "mode": "lines",
         "name": "2012",
         "type": "scatter",
         "uid": "6f8d0446-8ac3-40b5-ac91-0d8f74d18bb7",
         "x": [
          1,
          2,
          3,
          4,
          5,
          6,
          7,
          8,
          9,
          10,
          11,
          12
         ],
         "y": [
          18280,
          16632,
          20934,
          15158,
          17693,
          16914,
          16474,
          11625,
          15488,
          16500,
          19149,
          14820
         ]
        }
       ],
       "layout": {
        "title": " Expense claims by month for 2010-2012",
        "xaxis": {
         "title": "Month"
        },
        "yaxis": {
         "title": "Number of expense claims"
        }
       }
      },
      "text/html": [
       "<div id=\"f13553d1-6a28-49f9-9ecc-ed8d782c6699\" style=\"height: 525px; width: 100%;\" class=\"plotly-graph-div\"></div><script type=\"text/javascript\">require([\"plotly\"], function(Plotly) { window.PLOTLYENV=window.PLOTLYENV || {};window.PLOTLYENV.BASE_URL=\"https://plot.ly\";Plotly.newPlot(\"f13553d1-6a28-49f9-9ecc-ed8d782c6699\", [{\"mode\": \"lines\", \"name\": \"2010\", \"x\": [1, 2, 3, 4, 5, 6, 7, 8, 9, 10, 11, 12], \"y\": [14982, 14168, 18678, 3, 6404, 11767, 14721, 8678, 14033, 15331, 17173, 12768], \"type\": \"scatter\", \"uid\": \"b30d0eda-a3b8-4cdc-a604-fcd13fbfd744\"}, {\"mode\": \"lines\", \"name\": \"2011\", \"x\": [1, 2, 3, 4, 5, 6, 7, 8, 9, 10, 11, 12], \"y\": [16594, 16060, 19507, 13056, 15454, 17104, 15446, 11036, 14487, 17025, 18238, 14670], \"type\": \"scatter\", \"uid\": \"1f598c07-e433-48eb-a25d-4adbcb251948\"}, {\"mode\": \"lines\", \"name\": \"2012\", \"x\": [1, 2, 3, 4, 5, 6, 7, 8, 9, 10, 11, 12], \"y\": [18280, 16632, 20934, 15158, 17693, 16914, 16474, 11625, 15488, 16500, 19149, 14820], \"type\": \"scatter\", \"uid\": \"6f8d0446-8ac3-40b5-ac91-0d8f74d18bb7\"}], {\"title\": \" Expense claims by month for 2010-2012\", \"xaxis\": {\"title\": \"Month\"}, \"yaxis\": {\"title\": \"Number of expense claims\"}}, {\"showLink\": true, \"linkText\": \"Export to plot.ly\"})});</script><script type=\"text/javascript\">window.addEventListener(\"resize\", function(){window._Plotly.Plots.resize(document.getElementById(\"f13553d1-6a28-49f9-9ecc-ed8d782c6699\"));});</script>"
      ],
      "text/vnd.plotly.v1+html": [
       "<div id=\"f13553d1-6a28-49f9-9ecc-ed8d782c6699\" style=\"height: 525px; width: 100%;\" class=\"plotly-graph-div\"></div><script type=\"text/javascript\">require([\"plotly\"], function(Plotly) { window.PLOTLYENV=window.PLOTLYENV || {};window.PLOTLYENV.BASE_URL=\"https://plot.ly\";Plotly.newPlot(\"f13553d1-6a28-49f9-9ecc-ed8d782c6699\", [{\"mode\": \"lines\", \"name\": \"2010\", \"x\": [1, 2, 3, 4, 5, 6, 7, 8, 9, 10, 11, 12], \"y\": [14982, 14168, 18678, 3, 6404, 11767, 14721, 8678, 14033, 15331, 17173, 12768], \"type\": \"scatter\", \"uid\": \"b30d0eda-a3b8-4cdc-a604-fcd13fbfd744\"}, {\"mode\": \"lines\", \"name\": \"2011\", \"x\": [1, 2, 3, 4, 5, 6, 7, 8, 9, 10, 11, 12], \"y\": [16594, 16060, 19507, 13056, 15454, 17104, 15446, 11036, 14487, 17025, 18238, 14670], \"type\": \"scatter\", \"uid\": \"1f598c07-e433-48eb-a25d-4adbcb251948\"}, {\"mode\": \"lines\", \"name\": \"2012\", \"x\": [1, 2, 3, 4, 5, 6, 7, 8, 9, 10, 11, 12], \"y\": [18280, 16632, 20934, 15158, 17693, 16914, 16474, 11625, 15488, 16500, 19149, 14820], \"type\": \"scatter\", \"uid\": \"6f8d0446-8ac3-40b5-ac91-0d8f74d18bb7\"}], {\"title\": \" Expense claims by month for 2010-2012\", \"xaxis\": {\"title\": \"Month\"}, \"yaxis\": {\"title\": \"Number of expense claims\"}}, {\"showLink\": true, \"linkText\": \"Export to plot.ly\"})});</script><script type=\"text/javascript\">window.addEventListener(\"resize\", function(){window._Plotly.Plots.resize(document.getElementById(\"f13553d1-6a28-49f9-9ecc-ed8d782c6699\"));});</script>"
      ]
     },
     "metadata": {},
     "output_type": "display_data"
    }
   ],
   "source": [
    "iplot(fig)"
   ]
  },
  {
   "cell_type": "code",
   "execution_count": 56,
   "metadata": {
    "collapsed": true
   },
   "outputs": [],
   "source": [
    "#Plotting multiple lines with for loop"
   ]
  },
  {
   "cell_type": "code",
   "execution_count": 57,
   "metadata": {
    "collapsed": true
   },
   "outputs": [],
   "source": [
    "trace_2010={'type': 'scatter',\n",
    "            'x':expenseData['month'],\n",
    "            'y':expenseData['NumberOfClaims2010'],\n",
    "            'name':'2010',\n",
    "            'mode':'lines'}"
   ]
  },
  {
   "cell_type": "code",
   "execution_count": 59,
   "metadata": {},
   "outputs": [],
   "source": [
    "traces=[]\n",
    "\n",
    "for i in range(2010,2016):\n",
    "    traces.append({'type': 'scatter',\n",
    "                    'x':expenseData['month'],\n",
    "                    'y':expenseData['NumberOfClaims'+str(i)],\n",
    "                    'name':i,\n",
    "                    'mode':'lines'})"
   ]
  },
  {
   "cell_type": "code",
   "execution_count": 61,
   "metadata": {},
   "outputs": [
    {
     "name": "stderr",
     "output_type": "stream",
     "text": [
      "C:\\Users\\Satish\\Anaconda3\\lib\\site-packages\\plotly\\graph_objs\\_deprecations.py:39: DeprecationWarning:\n",
      "\n",
      "plotly.graph_objs.Data is deprecated.\n",
      "Please replace it with a list or tuple of instances of the following types\n",
      "  - plotly.graph_objs.Scatter\n",
      "  - plotly.graph_objs.Bar\n",
      "  - plotly.graph_objs.Area\n",
      "  - plotly.graph_objs.Histogram\n",
      "  - etc.\n",
      "\n",
      "\n"
     ]
    }
   ],
   "source": [
    "data=Data(traces)\n",
    "\n",
    "layout={'title':'Expense claims by month for 2010-2015',\n",
    "       'xaxis':{'title':'Month'},\n",
    "       'yaxis':{'title':' Number of expense claim'} }"
   ]
  },
  {
   "cell_type": "code",
   "execution_count": 62,
   "metadata": {
    "collapsed": true
   },
   "outputs": [],
   "source": [
    "fig=Figure(data=data,layout=layout)"
   ]
  },
  {
   "cell_type": "code",
   "execution_count": 63,
   "metadata": {},
   "outputs": [
    {
     "data": {
      "application/vnd.plotly.v1+json": {
       "data": [
        {
         "mode": "lines",
         "name": "2010",
         "type": "scatter",
         "uid": "2e92d6d8-e1c0-45df-96ee-f403779b838f",
         "x": [
          1,
          2,
          3,
          4,
          5,
          6,
          7,
          8,
          9,
          10,
          11,
          12
         ],
         "y": [
          14982,
          14168,
          18678,
          3,
          6404,
          11767,
          14721,
          8678,
          14033,
          15331,
          17173,
          12768
         ]
        },
        {
         "mode": "lines",
         "name": "2011",
         "type": "scatter",
         "uid": "90dc014d-7695-407c-ad23-5d9843501ae9",
         "x": [
          1,
          2,
          3,
          4,
          5,
          6,
          7,
          8,
          9,
          10,
          11,
          12
         ],
         "y": [
          16594,
          16060,
          19507,
          13056,
          15454,
          17104,
          15446,
          11036,
          14487,
          17025,
          18238,
          14670
         ]
        },
        {
         "mode": "lines",
         "name": "2012",
         "type": "scatter",
         "uid": "867f6f37-8a31-47b0-bd1e-f0a45419af80",
         "x": [
          1,
          2,
          3,
          4,
          5,
          6,
          7,
          8,
          9,
          10,
          11,
          12
         ],
         "y": [
          18280,
          16632,
          20934,
          15158,
          17693,
          16914,
          16474,
          11625,
          15488,
          16500,
          19149,
          14820
         ]
        },
        {
         "mode": "lines",
         "name": "2013",
         "type": "scatter",
         "uid": "7bfe6ec3-9cca-46f8-9887-6cf8432ba017",
         "x": [
          1,
          2,
          3,
          4,
          5,
          6,
          7,
          8,
          9,
          10,
          11,
          12
         ],
         "y": [
          18096,
          15954,
          21204,
          18070,
          17586,
          18859,
          17541,
          12182,
          15594,
          18882,
          18173,
          15040
         ]
        },
        {
         "mode": "lines",
         "name": "2014",
         "type": "scatter",
         "uid": "e6a74282-a0af-4ee9-a431-9bc7325fdb29",
         "x": [
          1,
          2,
          3,
          4,
          5,
          6,
          7,
          8,
          9,
          10,
          11,
          12
         ],
         "y": [
          15864,
          14272,
          16946,
          16146,
          15725,
          17207,
          16568,
          10784,
          14778,
          15783,
          15844,
          13679
         ]
        },
        {
         "mode": "lines",
         "name": "2015",
         "type": "scatter",
         "uid": "201d53cc-e2a2-43d6-b6d0-fab9e329df06",
         "x": [
          1,
          2,
          3,
          4,
          5,
          6,
          7,
          8,
          9,
          10,
          11,
          12
         ],
         "y": [
          2728,
          0,
          1,
          5708,
          11556,
          17555,
          15992,
          10152,
          14207,
          14909,
          15070,
          9104
         ]
        }
       ],
       "layout": {
        "title": "Expense claims by month for 2010-2015",
        "xaxis": {
         "title": "Month"
        },
        "yaxis": {
         "title": " Number of expense claim"
        }
       }
      },
      "text/html": [
       "<div id=\"798c24d8-8134-4efc-8e16-d397b765349a\" style=\"height: 525px; width: 100%;\" class=\"plotly-graph-div\"></div><script type=\"text/javascript\">require([\"plotly\"], function(Plotly) { window.PLOTLYENV=window.PLOTLYENV || {};window.PLOTLYENV.BASE_URL=\"https://plot.ly\";Plotly.newPlot(\"798c24d8-8134-4efc-8e16-d397b765349a\", [{\"mode\": \"lines\", \"name\": \"2010\", \"x\": [1, 2, 3, 4, 5, 6, 7, 8, 9, 10, 11, 12], \"y\": [14982, 14168, 18678, 3, 6404, 11767, 14721, 8678, 14033, 15331, 17173, 12768], \"type\": \"scatter\", \"uid\": \"2e92d6d8-e1c0-45df-96ee-f403779b838f\"}, {\"mode\": \"lines\", \"name\": \"2011\", \"x\": [1, 2, 3, 4, 5, 6, 7, 8, 9, 10, 11, 12], \"y\": [16594, 16060, 19507, 13056, 15454, 17104, 15446, 11036, 14487, 17025, 18238, 14670], \"type\": \"scatter\", \"uid\": \"90dc014d-7695-407c-ad23-5d9843501ae9\"}, {\"mode\": \"lines\", \"name\": \"2012\", \"x\": [1, 2, 3, 4, 5, 6, 7, 8, 9, 10, 11, 12], \"y\": [18280, 16632, 20934, 15158, 17693, 16914, 16474, 11625, 15488, 16500, 19149, 14820], \"type\": \"scatter\", \"uid\": \"867f6f37-8a31-47b0-bd1e-f0a45419af80\"}, {\"mode\": \"lines\", \"name\": \"2013\", \"x\": [1, 2, 3, 4, 5, 6, 7, 8, 9, 10, 11, 12], \"y\": [18096, 15954, 21204, 18070, 17586, 18859, 17541, 12182, 15594, 18882, 18173, 15040], \"type\": \"scatter\", \"uid\": \"7bfe6ec3-9cca-46f8-9887-6cf8432ba017\"}, {\"mode\": \"lines\", \"name\": \"2014\", \"x\": [1, 2, 3, 4, 5, 6, 7, 8, 9, 10, 11, 12], \"y\": [15864, 14272, 16946, 16146, 15725, 17207, 16568, 10784, 14778, 15783, 15844, 13679], \"type\": \"scatter\", \"uid\": \"e6a74282-a0af-4ee9-a431-9bc7325fdb29\"}, {\"mode\": \"lines\", \"name\": \"2015\", \"x\": [1, 2, 3, 4, 5, 6, 7, 8, 9, 10, 11, 12], \"y\": [2728.0, 0.0, 1.0, 5708.0, 11556.0, 17555.0, 15992.0, 10152.0, 14207.0, 14909.0, 15070.0, 9104.0], \"type\": \"scatter\", \"uid\": \"201d53cc-e2a2-43d6-b6d0-fab9e329df06\"}], {\"title\": \"Expense claims by month for 2010-2015\", \"xaxis\": {\"title\": \"Month\"}, \"yaxis\": {\"title\": \" Number of expense claim\"}}, {\"showLink\": true, \"linkText\": \"Export to plot.ly\"})});</script><script type=\"text/javascript\">window.addEventListener(\"resize\", function(){window._Plotly.Plots.resize(document.getElementById(\"798c24d8-8134-4efc-8e16-d397b765349a\"));});</script>"
      ],
      "text/vnd.plotly.v1+html": [
       "<div id=\"798c24d8-8134-4efc-8e16-d397b765349a\" style=\"height: 525px; width: 100%;\" class=\"plotly-graph-div\"></div><script type=\"text/javascript\">require([\"plotly\"], function(Plotly) { window.PLOTLYENV=window.PLOTLYENV || {};window.PLOTLYENV.BASE_URL=\"https://plot.ly\";Plotly.newPlot(\"798c24d8-8134-4efc-8e16-d397b765349a\", [{\"mode\": \"lines\", \"name\": \"2010\", \"x\": [1, 2, 3, 4, 5, 6, 7, 8, 9, 10, 11, 12], \"y\": [14982, 14168, 18678, 3, 6404, 11767, 14721, 8678, 14033, 15331, 17173, 12768], \"type\": \"scatter\", \"uid\": \"2e92d6d8-e1c0-45df-96ee-f403779b838f\"}, {\"mode\": \"lines\", \"name\": \"2011\", \"x\": [1, 2, 3, 4, 5, 6, 7, 8, 9, 10, 11, 12], \"y\": [16594, 16060, 19507, 13056, 15454, 17104, 15446, 11036, 14487, 17025, 18238, 14670], \"type\": \"scatter\", \"uid\": \"90dc014d-7695-407c-ad23-5d9843501ae9\"}, {\"mode\": \"lines\", \"name\": \"2012\", \"x\": [1, 2, 3, 4, 5, 6, 7, 8, 9, 10, 11, 12], \"y\": [18280, 16632, 20934, 15158, 17693, 16914, 16474, 11625, 15488, 16500, 19149, 14820], \"type\": \"scatter\", \"uid\": \"867f6f37-8a31-47b0-bd1e-f0a45419af80\"}, {\"mode\": \"lines\", \"name\": \"2013\", \"x\": [1, 2, 3, 4, 5, 6, 7, 8, 9, 10, 11, 12], \"y\": [18096, 15954, 21204, 18070, 17586, 18859, 17541, 12182, 15594, 18882, 18173, 15040], \"type\": \"scatter\", \"uid\": \"7bfe6ec3-9cca-46f8-9887-6cf8432ba017\"}, {\"mode\": \"lines\", \"name\": \"2014\", \"x\": [1, 2, 3, 4, 5, 6, 7, 8, 9, 10, 11, 12], \"y\": [15864, 14272, 16946, 16146, 15725, 17207, 16568, 10784, 14778, 15783, 15844, 13679], \"type\": \"scatter\", \"uid\": \"e6a74282-a0af-4ee9-a431-9bc7325fdb29\"}, {\"mode\": \"lines\", \"name\": \"2015\", \"x\": [1, 2, 3, 4, 5, 6, 7, 8, 9, 10, 11, 12], \"y\": [2728.0, 0.0, 1.0, 5708.0, 11556.0, 17555.0, 15992.0, 10152.0, 14207.0, 14909.0, 15070.0, 9104.0], \"type\": \"scatter\", \"uid\": \"201d53cc-e2a2-43d6-b6d0-fab9e329df06\"}], {\"title\": \"Expense claims by month for 2010-2015\", \"xaxis\": {\"title\": \"Month\"}, \"yaxis\": {\"title\": \" Number of expense claim\"}}, {\"showLink\": true, \"linkText\": \"Export to plot.ly\"})});</script><script type=\"text/javascript\">window.addEventListener(\"resize\", function(){window._Plotly.Plots.resize(document.getElementById(\"798c24d8-8134-4efc-8e16-d397b765349a\"));});</script>"
      ]
     },
     "metadata": {},
     "output_type": "display_data"
    }
   ],
   "source": [
    "iplot(fig)"
   ]
  },
  {
   "cell_type": "code",
   "execution_count": 81,
   "metadata": {},
   "outputs": [],
   "source": [
    "traces=[]\n",
    "for col in expenseData.columns.tolist():\n",
    "    if col!='month':\n",
    "        traces.append({'type': 'scatter',\n",
    "                        'x':expenseData['month'],\n",
    "                        'y':expenseData[col],\n",
    "                        'name':col,\n",
    "                        'mode':'lines'})"
   ]
  },
  {
   "cell_type": "code",
   "execution_count": 82,
   "metadata": {},
   "outputs": [
    {
     "name": "stderr",
     "output_type": "stream",
     "text": [
      "C:\\Users\\Satish\\Anaconda3\\lib\\site-packages\\plotly\\graph_objs\\_deprecations.py:39: DeprecationWarning:\n",
      "\n",
      "plotly.graph_objs.Data is deprecated.\n",
      "Please replace it with a list or tuple of instances of the following types\n",
      "  - plotly.graph_objs.Scatter\n",
      "  - plotly.graph_objs.Bar\n",
      "  - plotly.graph_objs.Area\n",
      "  - plotly.graph_objs.Histogram\n",
      "  - etc.\n",
      "\n",
      "\n"
     ]
    }
   ],
   "source": [
    "data=Data(traces)"
   ]
  },
  {
   "cell_type": "code",
   "execution_count": 83,
   "metadata": {
    "collapsed": true
   },
   "outputs": [],
   "source": [
    "fig=Figure(data=data,layout=layout)"
   ]
  },
  {
   "cell_type": "code",
   "execution_count": 84,
   "metadata": {},
   "outputs": [
    {
     "data": {
      "application/vnd.plotly.v1+json": {
       "data": [
        {
         "mode": "lines",
         "name": "NumberOfClaims2010",
         "type": "scatter",
         "uid": "6f4b2ce9-2fee-4380-8efe-b6392b321168",
         "x": [
          1,
          2,
          3,
          4,
          5,
          6,
          7,
          8,
          9,
          10,
          11,
          12
         ],
         "y": [
          14982,
          14168,
          18678,
          3,
          6404,
          11767,
          14721,
          8678,
          14033,
          15331,
          17173,
          12768
         ]
        },
        {
         "mode": "lines",
         "name": "NumberOfClaims2011",
         "type": "scatter",
         "uid": "ab4748f5-730d-4306-bd92-d0d83056f40d",
         "x": [
          1,
          2,
          3,
          4,
          5,
          6,
          7,
          8,
          9,
          10,
          11,
          12
         ],
         "y": [
          16594,
          16060,
          19507,
          13056,
          15454,
          17104,
          15446,
          11036,
          14487,
          17025,
          18238,
          14670
         ]
        },
        {
         "mode": "lines",
         "name": "NumberOfClaims2012",
         "type": "scatter",
         "uid": "3e0a84a4-c985-4fed-a668-d8bb5279e4d8",
         "x": [
          1,
          2,
          3,
          4,
          5,
          6,
          7,
          8,
          9,
          10,
          11,
          12
         ],
         "y": [
          18280,
          16632,
          20934,
          15158,
          17693,
          16914,
          16474,
          11625,
          15488,
          16500,
          19149,
          14820
         ]
        },
        {
         "mode": "lines",
         "name": "NumberOfClaims2013",
         "type": "scatter",
         "uid": "8ade2c7f-d4ff-47b0-91e9-832cd4e70889",
         "x": [
          1,
          2,
          3,
          4,
          5,
          6,
          7,
          8,
          9,
          10,
          11,
          12
         ],
         "y": [
          18096,
          15954,
          21204,
          18070,
          17586,
          18859,
          17541,
          12182,
          15594,
          18882,
          18173,
          15040
         ]
        },
        {
         "mode": "lines",
         "name": "NumberOfClaims2014",
         "type": "scatter",
         "uid": "10b0d9bd-cd1f-4814-83ca-ae791dcd6324",
         "x": [
          1,
          2,
          3,
          4,
          5,
          6,
          7,
          8,
          9,
          10,
          11,
          12
         ],
         "y": [
          15864,
          14272,
          16946,
          16146,
          15725,
          17207,
          16568,
          10784,
          14778,
          15783,
          15844,
          13679
         ]
        },
        {
         "mode": "lines",
         "name": "NumberOfClaims2015",
         "type": "scatter",
         "uid": "8ca92a15-56bc-46b9-acc7-a7d8b51bfd0a",
         "x": [
          1,
          2,
          3,
          4,
          5,
          6,
          7,
          8,
          9,
          10,
          11,
          12
         ],
         "y": [
          2728,
          0,
          1,
          5708,
          11556,
          17555,
          15992,
          10152,
          14207,
          14909,
          15070,
          9104
         ]
        }
       ],
       "layout": {
        "title": "Expense claims by month for 2010-2015",
        "xaxis": {
         "title": "Month"
        },
        "yaxis": {
         "title": " Number of expense claim"
        }
       }
      },
      "text/html": [
       "<div id=\"65af7b33-8002-4aac-ad93-a3263d9a4923\" style=\"height: 525px; width: 100%;\" class=\"plotly-graph-div\"></div><script type=\"text/javascript\">require([\"plotly\"], function(Plotly) { window.PLOTLYENV=window.PLOTLYENV || {};window.PLOTLYENV.BASE_URL=\"https://plot.ly\";Plotly.newPlot(\"65af7b33-8002-4aac-ad93-a3263d9a4923\", [{\"mode\": \"lines\", \"name\": \"NumberOfClaims2010\", \"x\": [1, 2, 3, 4, 5, 6, 7, 8, 9, 10, 11, 12], \"y\": [14982, 14168, 18678, 3, 6404, 11767, 14721, 8678, 14033, 15331, 17173, 12768], \"type\": \"scatter\", \"uid\": \"6f4b2ce9-2fee-4380-8efe-b6392b321168\"}, {\"mode\": \"lines\", \"name\": \"NumberOfClaims2011\", \"x\": [1, 2, 3, 4, 5, 6, 7, 8, 9, 10, 11, 12], \"y\": [16594, 16060, 19507, 13056, 15454, 17104, 15446, 11036, 14487, 17025, 18238, 14670], \"type\": \"scatter\", \"uid\": \"ab4748f5-730d-4306-bd92-d0d83056f40d\"}, {\"mode\": \"lines\", \"name\": \"NumberOfClaims2012\", \"x\": [1, 2, 3, 4, 5, 6, 7, 8, 9, 10, 11, 12], \"y\": [18280, 16632, 20934, 15158, 17693, 16914, 16474, 11625, 15488, 16500, 19149, 14820], \"type\": \"scatter\", \"uid\": \"3e0a84a4-c985-4fed-a668-d8bb5279e4d8\"}, {\"mode\": \"lines\", \"name\": \"NumberOfClaims2013\", \"x\": [1, 2, 3, 4, 5, 6, 7, 8, 9, 10, 11, 12], \"y\": [18096, 15954, 21204, 18070, 17586, 18859, 17541, 12182, 15594, 18882, 18173, 15040], \"type\": \"scatter\", \"uid\": \"8ade2c7f-d4ff-47b0-91e9-832cd4e70889\"}, {\"mode\": \"lines\", \"name\": \"NumberOfClaims2014\", \"x\": [1, 2, 3, 4, 5, 6, 7, 8, 9, 10, 11, 12], \"y\": [15864, 14272, 16946, 16146, 15725, 17207, 16568, 10784, 14778, 15783, 15844, 13679], \"type\": \"scatter\", \"uid\": \"10b0d9bd-cd1f-4814-83ca-ae791dcd6324\"}, {\"mode\": \"lines\", \"name\": \"NumberOfClaims2015\", \"x\": [1, 2, 3, 4, 5, 6, 7, 8, 9, 10, 11, 12], \"y\": [2728.0, 0.0, 1.0, 5708.0, 11556.0, 17555.0, 15992.0, 10152.0, 14207.0, 14909.0, 15070.0, 9104.0], \"type\": \"scatter\", \"uid\": \"8ca92a15-56bc-46b9-acc7-a7d8b51bfd0a\"}], {\"title\": \"Expense claims by month for 2010-2015\", \"xaxis\": {\"title\": \"Month\"}, \"yaxis\": {\"title\": \" Number of expense claim\"}}, {\"showLink\": true, \"linkText\": \"Export to plot.ly\"})});</script><script type=\"text/javascript\">window.addEventListener(\"resize\", function(){window._Plotly.Plots.resize(document.getElementById(\"65af7b33-8002-4aac-ad93-a3263d9a4923\"));});</script>"
      ],
      "text/vnd.plotly.v1+html": [
       "<div id=\"65af7b33-8002-4aac-ad93-a3263d9a4923\" style=\"height: 525px; width: 100%;\" class=\"plotly-graph-div\"></div><script type=\"text/javascript\">require([\"plotly\"], function(Plotly) { window.PLOTLYENV=window.PLOTLYENV || {};window.PLOTLYENV.BASE_URL=\"https://plot.ly\";Plotly.newPlot(\"65af7b33-8002-4aac-ad93-a3263d9a4923\", [{\"mode\": \"lines\", \"name\": \"NumberOfClaims2010\", \"x\": [1, 2, 3, 4, 5, 6, 7, 8, 9, 10, 11, 12], \"y\": [14982, 14168, 18678, 3, 6404, 11767, 14721, 8678, 14033, 15331, 17173, 12768], \"type\": \"scatter\", \"uid\": \"6f4b2ce9-2fee-4380-8efe-b6392b321168\"}, {\"mode\": \"lines\", \"name\": \"NumberOfClaims2011\", \"x\": [1, 2, 3, 4, 5, 6, 7, 8, 9, 10, 11, 12], \"y\": [16594, 16060, 19507, 13056, 15454, 17104, 15446, 11036, 14487, 17025, 18238, 14670], \"type\": \"scatter\", \"uid\": \"ab4748f5-730d-4306-bd92-d0d83056f40d\"}, {\"mode\": \"lines\", \"name\": \"NumberOfClaims2012\", \"x\": [1, 2, 3, 4, 5, 6, 7, 8, 9, 10, 11, 12], \"y\": [18280, 16632, 20934, 15158, 17693, 16914, 16474, 11625, 15488, 16500, 19149, 14820], \"type\": \"scatter\", \"uid\": \"3e0a84a4-c985-4fed-a668-d8bb5279e4d8\"}, {\"mode\": \"lines\", \"name\": \"NumberOfClaims2013\", \"x\": [1, 2, 3, 4, 5, 6, 7, 8, 9, 10, 11, 12], \"y\": [18096, 15954, 21204, 18070, 17586, 18859, 17541, 12182, 15594, 18882, 18173, 15040], \"type\": \"scatter\", \"uid\": \"8ade2c7f-d4ff-47b0-91e9-832cd4e70889\"}, {\"mode\": \"lines\", \"name\": \"NumberOfClaims2014\", \"x\": [1, 2, 3, 4, 5, 6, 7, 8, 9, 10, 11, 12], \"y\": [15864, 14272, 16946, 16146, 15725, 17207, 16568, 10784, 14778, 15783, 15844, 13679], \"type\": \"scatter\", \"uid\": \"10b0d9bd-cd1f-4814-83ca-ae791dcd6324\"}, {\"mode\": \"lines\", \"name\": \"NumberOfClaims2015\", \"x\": [1, 2, 3, 4, 5, 6, 7, 8, 9, 10, 11, 12], \"y\": [2728.0, 0.0, 1.0, 5708.0, 11556.0, 17555.0, 15992.0, 10152.0, 14207.0, 14909.0, 15070.0, 9104.0], \"type\": \"scatter\", \"uid\": \"8ca92a15-56bc-46b9-acc7-a7d8b51bfd0a\"}], {\"title\": \"Expense claims by month for 2010-2015\", \"xaxis\": {\"title\": \"Month\"}, \"yaxis\": {\"title\": \" Number of expense claim\"}}, {\"showLink\": true, \"linkText\": \"Export to plot.ly\"})});</script><script type=\"text/javascript\">window.addEventListener(\"resize\", function(){window._Plotly.Plots.resize(document.getElementById(\"65af7b33-8002-4aac-ad93-a3263d9a4923\"));});</script>"
      ]
     },
     "metadata": {},
     "output_type": "display_data"
    }
   ],
   "source": [
    "iplot(fig)"
   ]
  },
  {
   "cell_type": "code",
   "execution_count": 85,
   "metadata": {
    "collapsed": true
   },
   "outputs": [],
   "source": [
    "#Changing color and thinkness"
   ]
  },
  {
   "cell_type": "code",
   "execution_count": 86,
   "metadata": {},
   "outputs": [
    {
     "name": "stderr",
     "output_type": "stream",
     "text": [
      "C:\\Users\\Satish\\Anaconda3\\lib\\site-packages\\plotly\\graph_objs\\_deprecations.py:39: DeprecationWarning:\n",
      "\n",
      "plotly.graph_objs.Data is deprecated.\n",
      "Please replace it with a list or tuple of instances of the following types\n",
      "  - plotly.graph_objs.Scatter\n",
      "  - plotly.graph_objs.Bar\n",
      "  - plotly.graph_objs.Area\n",
      "  - plotly.graph_objs.Histogram\n",
      "  - etc.\n",
      "\n",
      "\n"
     ]
    }
   ],
   "source": [
    "traces=[]\n",
    "\n",
    "for i in range(2010,2016):\n",
    "    traces.append({'type': 'scatter',\n",
    "                    'x':expenseData['month'],\n",
    "                    'y':expenseData['NumberOfClaims'+str(i)],\n",
    "                    'name':i,\n",
    "                    'mode':'lines'})\n",
    "data=Data(traces)\n",
    "\n",
    "layout={'title':'Expense claims by month for 2010-2015',\n",
    "       'xaxis':{'title':'Month'},\n",
    "       'yaxis':{'title':' Number of expense claim'} }"
   ]
  },
  {
   "cell_type": "code",
   "execution_count": 87,
   "metadata": {
    "collapsed": true
   },
   "outputs": [],
   "source": [
    "fig=Figure(data=data,layout=layout)"
   ]
  },
  {
   "cell_type": "code",
   "execution_count": 88,
   "metadata": {},
   "outputs": [
    {
     "data": {
      "application/vnd.plotly.v1+json": {
       "data": [
        {
         "mode": "lines",
         "name": "2010",
         "type": "scatter",
         "uid": "3079db3a-28a0-422e-ad60-d72c62a6cfd3",
         "x": [
          1,
          2,
          3,
          4,
          5,
          6,
          7,
          8,
          9,
          10,
          11,
          12
         ],
         "y": [
          14982,
          14168,
          18678,
          3,
          6404,
          11767,
          14721,
          8678,
          14033,
          15331,
          17173,
          12768
         ]
        },
        {
         "mode": "lines",
         "name": "2011",
         "type": "scatter",
         "uid": "ce560942-74e5-4631-ad67-336dbb8e3667",
         "x": [
          1,
          2,
          3,
          4,
          5,
          6,
          7,
          8,
          9,
          10,
          11,
          12
         ],
         "y": [
          16594,
          16060,
          19507,
          13056,
          15454,
          17104,
          15446,
          11036,
          14487,
          17025,
          18238,
          14670
         ]
        },
        {
         "mode": "lines",
         "name": "2012",
         "type": "scatter",
         "uid": "11125fea-8884-4804-90e0-802e0c353379",
         "x": [
          1,
          2,
          3,
          4,
          5,
          6,
          7,
          8,
          9,
          10,
          11,
          12
         ],
         "y": [
          18280,
          16632,
          20934,
          15158,
          17693,
          16914,
          16474,
          11625,
          15488,
          16500,
          19149,
          14820
         ]
        },
        {
         "mode": "lines",
         "name": "2013",
         "type": "scatter",
         "uid": "abeead18-4f9c-4f0f-9dd4-71f72183b210",
         "x": [
          1,
          2,
          3,
          4,
          5,
          6,
          7,
          8,
          9,
          10,
          11,
          12
         ],
         "y": [
          18096,
          15954,
          21204,
          18070,
          17586,
          18859,
          17541,
          12182,
          15594,
          18882,
          18173,
          15040
         ]
        },
        {
         "mode": "lines",
         "name": "2014",
         "type": "scatter",
         "uid": "939d7741-00f6-4a4c-8d16-f510f8966fe7",
         "x": [
          1,
          2,
          3,
          4,
          5,
          6,
          7,
          8,
          9,
          10,
          11,
          12
         ],
         "y": [
          15864,
          14272,
          16946,
          16146,
          15725,
          17207,
          16568,
          10784,
          14778,
          15783,
          15844,
          13679
         ]
        },
        {
         "mode": "lines",
         "name": "2015",
         "type": "scatter",
         "uid": "de8f0be1-51b4-4ba3-bc1c-d16473800c84",
         "x": [
          1,
          2,
          3,
          4,
          5,
          6,
          7,
          8,
          9,
          10,
          11,
          12
         ],
         "y": [
          2728,
          0,
          1,
          5708,
          11556,
          17555,
          15992,
          10152,
          14207,
          14909,
          15070,
          9104
         ]
        }
       ],
       "layout": {
        "title": "Expense claims by month for 2010-2015",
        "xaxis": {
         "title": "Month"
        },
        "yaxis": {
         "title": " Number of expense claim"
        }
       }
      },
      "text/html": [
       "<div id=\"e1892c89-a1fa-4a03-a846-9d3b1f02aeb2\" style=\"height: 525px; width: 100%;\" class=\"plotly-graph-div\"></div><script type=\"text/javascript\">require([\"plotly\"], function(Plotly) { window.PLOTLYENV=window.PLOTLYENV || {};window.PLOTLYENV.BASE_URL=\"https://plot.ly\";Plotly.newPlot(\"e1892c89-a1fa-4a03-a846-9d3b1f02aeb2\", [{\"mode\": \"lines\", \"name\": \"2010\", \"x\": [1, 2, 3, 4, 5, 6, 7, 8, 9, 10, 11, 12], \"y\": [14982, 14168, 18678, 3, 6404, 11767, 14721, 8678, 14033, 15331, 17173, 12768], \"type\": \"scatter\", \"uid\": \"3079db3a-28a0-422e-ad60-d72c62a6cfd3\"}, {\"mode\": \"lines\", \"name\": \"2011\", \"x\": [1, 2, 3, 4, 5, 6, 7, 8, 9, 10, 11, 12], \"y\": [16594, 16060, 19507, 13056, 15454, 17104, 15446, 11036, 14487, 17025, 18238, 14670], \"type\": \"scatter\", \"uid\": \"ce560942-74e5-4631-ad67-336dbb8e3667\"}, {\"mode\": \"lines\", \"name\": \"2012\", \"x\": [1, 2, 3, 4, 5, 6, 7, 8, 9, 10, 11, 12], \"y\": [18280, 16632, 20934, 15158, 17693, 16914, 16474, 11625, 15488, 16500, 19149, 14820], \"type\": \"scatter\", \"uid\": \"11125fea-8884-4804-90e0-802e0c353379\"}, {\"mode\": \"lines\", \"name\": \"2013\", \"x\": [1, 2, 3, 4, 5, 6, 7, 8, 9, 10, 11, 12], \"y\": [18096, 15954, 21204, 18070, 17586, 18859, 17541, 12182, 15594, 18882, 18173, 15040], \"type\": \"scatter\", \"uid\": \"abeead18-4f9c-4f0f-9dd4-71f72183b210\"}, {\"mode\": \"lines\", \"name\": \"2014\", \"x\": [1, 2, 3, 4, 5, 6, 7, 8, 9, 10, 11, 12], \"y\": [15864, 14272, 16946, 16146, 15725, 17207, 16568, 10784, 14778, 15783, 15844, 13679], \"type\": \"scatter\", \"uid\": \"939d7741-00f6-4a4c-8d16-f510f8966fe7\"}, {\"mode\": \"lines\", \"name\": \"2015\", \"x\": [1, 2, 3, 4, 5, 6, 7, 8, 9, 10, 11, 12], \"y\": [2728.0, 0.0, 1.0, 5708.0, 11556.0, 17555.0, 15992.0, 10152.0, 14207.0, 14909.0, 15070.0, 9104.0], \"type\": \"scatter\", \"uid\": \"de8f0be1-51b4-4ba3-bc1c-d16473800c84\"}], {\"title\": \"Expense claims by month for 2010-2015\", \"xaxis\": {\"title\": \"Month\"}, \"yaxis\": {\"title\": \" Number of expense claim\"}}, {\"showLink\": true, \"linkText\": \"Export to plot.ly\"})});</script><script type=\"text/javascript\">window.addEventListener(\"resize\", function(){window._Plotly.Plots.resize(document.getElementById(\"e1892c89-a1fa-4a03-a846-9d3b1f02aeb2\"));});</script>"
      ],
      "text/vnd.plotly.v1+html": [
       "<div id=\"e1892c89-a1fa-4a03-a846-9d3b1f02aeb2\" style=\"height: 525px; width: 100%;\" class=\"plotly-graph-div\"></div><script type=\"text/javascript\">require([\"plotly\"], function(Plotly) { window.PLOTLYENV=window.PLOTLYENV || {};window.PLOTLYENV.BASE_URL=\"https://plot.ly\";Plotly.newPlot(\"e1892c89-a1fa-4a03-a846-9d3b1f02aeb2\", [{\"mode\": \"lines\", \"name\": \"2010\", \"x\": [1, 2, 3, 4, 5, 6, 7, 8, 9, 10, 11, 12], \"y\": [14982, 14168, 18678, 3, 6404, 11767, 14721, 8678, 14033, 15331, 17173, 12768], \"type\": \"scatter\", \"uid\": \"3079db3a-28a0-422e-ad60-d72c62a6cfd3\"}, {\"mode\": \"lines\", \"name\": \"2011\", \"x\": [1, 2, 3, 4, 5, 6, 7, 8, 9, 10, 11, 12], \"y\": [16594, 16060, 19507, 13056, 15454, 17104, 15446, 11036, 14487, 17025, 18238, 14670], \"type\": \"scatter\", \"uid\": \"ce560942-74e5-4631-ad67-336dbb8e3667\"}, {\"mode\": \"lines\", \"name\": \"2012\", \"x\": [1, 2, 3, 4, 5, 6, 7, 8, 9, 10, 11, 12], \"y\": [18280, 16632, 20934, 15158, 17693, 16914, 16474, 11625, 15488, 16500, 19149, 14820], \"type\": \"scatter\", \"uid\": \"11125fea-8884-4804-90e0-802e0c353379\"}, {\"mode\": \"lines\", \"name\": \"2013\", \"x\": [1, 2, 3, 4, 5, 6, 7, 8, 9, 10, 11, 12], \"y\": [18096, 15954, 21204, 18070, 17586, 18859, 17541, 12182, 15594, 18882, 18173, 15040], \"type\": \"scatter\", \"uid\": \"abeead18-4f9c-4f0f-9dd4-71f72183b210\"}, {\"mode\": \"lines\", \"name\": \"2014\", \"x\": [1, 2, 3, 4, 5, 6, 7, 8, 9, 10, 11, 12], \"y\": [15864, 14272, 16946, 16146, 15725, 17207, 16568, 10784, 14778, 15783, 15844, 13679], \"type\": \"scatter\", \"uid\": \"939d7741-00f6-4a4c-8d16-f510f8966fe7\"}, {\"mode\": \"lines\", \"name\": \"2015\", \"x\": [1, 2, 3, 4, 5, 6, 7, 8, 9, 10, 11, 12], \"y\": [2728.0, 0.0, 1.0, 5708.0, 11556.0, 17555.0, 15992.0, 10152.0, 14207.0, 14909.0, 15070.0, 9104.0], \"type\": \"scatter\", \"uid\": \"de8f0be1-51b4-4ba3-bc1c-d16473800c84\"}], {\"title\": \"Expense claims by month for 2010-2015\", \"xaxis\": {\"title\": \"Month\"}, \"yaxis\": {\"title\": \" Number of expense claim\"}}, {\"showLink\": true, \"linkText\": \"Export to plot.ly\"})});</script><script type=\"text/javascript\">window.addEventListener(\"resize\", function(){window._Plotly.Plots.resize(document.getElementById(\"e1892c89-a1fa-4a03-a846-9d3b1f02aeb2\"));});</script>"
      ]
     },
     "metadata": {},
     "output_type": "display_data"
    }
   ],
   "source": [
    "iplot(fig)"
   ]
  },
  {
   "cell_type": "code",
   "execution_count": 89,
   "metadata": {},
   "outputs": [
    {
     "name": "stderr",
     "output_type": "stream",
     "text": [
      "C:\\Users\\Satish\\Anaconda3\\lib\\site-packages\\plotly\\graph_objs\\_deprecations.py:39: DeprecationWarning:\n",
      "\n",
      "plotly.graph_objs.Data is deprecated.\n",
      "Please replace it with a list or tuple of instances of the following types\n",
      "  - plotly.graph_objs.Scatter\n",
      "  - plotly.graph_objs.Bar\n",
      "  - plotly.graph_objs.Area\n",
      "  - plotly.graph_objs.Histogram\n",
      "  - etc.\n",
      "\n",
      "\n"
     ]
    },
    {
     "data": {
      "application/vnd.plotly.v1+json": {
       "data": [
        {
         "marker": {
          "color": "Grey"
         },
         "mode": "lines",
         "name": "2010",
         "type": "scatter",
         "uid": "ece70515-ad8f-4789-86de-7da3f09f18d9",
         "x": [
          1,
          2,
          3,
          4,
          5,
          6,
          7,
          8,
          9,
          10,
          11,
          12
         ],
         "y": [
          14982,
          14168,
          18678,
          3,
          6404,
          11767,
          14721,
          8678,
          14033,
          15331,
          17173,
          12768
         ]
        },
        {
         "marker": {
          "color": "Grey"
         },
         "mode": "lines",
         "name": "2011",
         "type": "scatter",
         "uid": "1218108f-f000-4fc3-a4ef-8539892f9752",
         "x": [
          1,
          2,
          3,
          4,
          5,
          6,
          7,
          8,
          9,
          10,
          11,
          12
         ],
         "y": [
          16594,
          16060,
          19507,
          13056,
          15454,
          17104,
          15446,
          11036,
          14487,
          17025,
          18238,
          14670
         ]
        },
        {
         "marker": {
          "color": "Grey"
         },
         "mode": "lines",
         "name": "2012",
         "type": "scatter",
         "uid": "5e430042-3701-412c-8479-6af63e3115ce",
         "x": [
          1,
          2,
          3,
          4,
          5,
          6,
          7,
          8,
          9,
          10,
          11,
          12
         ],
         "y": [
          18280,
          16632,
          20934,
          15158,
          17693,
          16914,
          16474,
          11625,
          15488,
          16500,
          19149,
          14820
         ]
        },
        {
         "marker": {
          "color": "Grey"
         },
         "mode": "lines",
         "name": "2013",
         "type": "scatter",
         "uid": "77104159-4652-42f1-b95f-342b9f18d4e1",
         "x": [
          1,
          2,
          3,
          4,
          5,
          6,
          7,
          8,
          9,
          10,
          11,
          12
         ],
         "y": [
          18096,
          15954,
          21204,
          18070,
          17586,
          18859,
          17541,
          12182,
          15594,
          18882,
          18173,
          15040
         ]
        },
        {
         "marker": {
          "color": "Grey"
         },
         "mode": "lines",
         "name": "2014",
         "type": "scatter",
         "uid": "9631b5cd-a45b-477b-b94b-df23b36eeeb4",
         "x": [
          1,
          2,
          3,
          4,
          5,
          6,
          7,
          8,
          9,
          10,
          11,
          12
         ],
         "y": [
          15864,
          14272,
          16946,
          16146,
          15725,
          17207,
          16568,
          10784,
          14778,
          15783,
          15844,
          13679
         ]
        },
        {
         "marker": {
          "color": "Red"
         },
         "mode": "lines",
         "name": "2015",
         "type": "scatter",
         "uid": "651781e1-fec5-401d-b637-6957995f6a43",
         "x": [
          1,
          2,
          3,
          4,
          5,
          6,
          7,
          8,
          9,
          10,
          11,
          12
         ],
         "y": [
          2728,
          0,
          1,
          5708,
          11556,
          17555,
          15992,
          10152,
          14207,
          14909,
          15070,
          9104
         ]
        }
       ],
       "layout": {
        "title": "Expense claims by month for 2010-2015",
        "xaxis": {
         "title": "Month"
        },
        "yaxis": {
         "title": " Number of expense claim"
        }
       }
      },
      "text/html": [
       "<div id=\"7c007066-454b-4497-bfaa-5a6a43d7b074\" style=\"height: 525px; width: 100%;\" class=\"plotly-graph-div\"></div><script type=\"text/javascript\">require([\"plotly\"], function(Plotly) { window.PLOTLYENV=window.PLOTLYENV || {};window.PLOTLYENV.BASE_URL=\"https://plot.ly\";Plotly.newPlot(\"7c007066-454b-4497-bfaa-5a6a43d7b074\", [{\"marker\": {\"color\": \"Grey\"}, \"mode\": \"lines\", \"name\": \"2010\", \"x\": [1, 2, 3, 4, 5, 6, 7, 8, 9, 10, 11, 12], \"y\": [14982, 14168, 18678, 3, 6404, 11767, 14721, 8678, 14033, 15331, 17173, 12768], \"type\": \"scatter\", \"uid\": \"ece70515-ad8f-4789-86de-7da3f09f18d9\"}, {\"marker\": {\"color\": \"Grey\"}, \"mode\": \"lines\", \"name\": \"2011\", \"x\": [1, 2, 3, 4, 5, 6, 7, 8, 9, 10, 11, 12], \"y\": [16594, 16060, 19507, 13056, 15454, 17104, 15446, 11036, 14487, 17025, 18238, 14670], \"type\": \"scatter\", \"uid\": \"1218108f-f000-4fc3-a4ef-8539892f9752\"}, {\"marker\": {\"color\": \"Grey\"}, \"mode\": \"lines\", \"name\": \"2012\", \"x\": [1, 2, 3, 4, 5, 6, 7, 8, 9, 10, 11, 12], \"y\": [18280, 16632, 20934, 15158, 17693, 16914, 16474, 11625, 15488, 16500, 19149, 14820], \"type\": \"scatter\", \"uid\": \"5e430042-3701-412c-8479-6af63e3115ce\"}, {\"marker\": {\"color\": \"Grey\"}, \"mode\": \"lines\", \"name\": \"2013\", \"x\": [1, 2, 3, 4, 5, 6, 7, 8, 9, 10, 11, 12], \"y\": [18096, 15954, 21204, 18070, 17586, 18859, 17541, 12182, 15594, 18882, 18173, 15040], \"type\": \"scatter\", \"uid\": \"77104159-4652-42f1-b95f-342b9f18d4e1\"}, {\"marker\": {\"color\": \"Grey\"}, \"mode\": \"lines\", \"name\": \"2014\", \"x\": [1, 2, 3, 4, 5, 6, 7, 8, 9, 10, 11, 12], \"y\": [15864, 14272, 16946, 16146, 15725, 17207, 16568, 10784, 14778, 15783, 15844, 13679], \"type\": \"scatter\", \"uid\": \"9631b5cd-a45b-477b-b94b-df23b36eeeb4\"}, {\"marker\": {\"color\": \"Red\"}, \"mode\": \"lines\", \"name\": \"2015\", \"x\": [1, 2, 3, 4, 5, 6, 7, 8, 9, 10, 11, 12], \"y\": [2728.0, 0.0, 1.0, 5708.0, 11556.0, 17555.0, 15992.0, 10152.0, 14207.0, 14909.0, 15070.0, 9104.0], \"type\": \"scatter\", \"uid\": \"651781e1-fec5-401d-b637-6957995f6a43\"}], {\"title\": \"Expense claims by month for 2010-2015\", \"xaxis\": {\"title\": \"Month\"}, \"yaxis\": {\"title\": \" Number of expense claim\"}}, {\"showLink\": true, \"linkText\": \"Export to plot.ly\"})});</script><script type=\"text/javascript\">window.addEventListener(\"resize\", function(){window._Plotly.Plots.resize(document.getElementById(\"7c007066-454b-4497-bfaa-5a6a43d7b074\"));});</script>"
      ],
      "text/vnd.plotly.v1+html": [
       "<div id=\"7c007066-454b-4497-bfaa-5a6a43d7b074\" style=\"height: 525px; width: 100%;\" class=\"plotly-graph-div\"></div><script type=\"text/javascript\">require([\"plotly\"], function(Plotly) { window.PLOTLYENV=window.PLOTLYENV || {};window.PLOTLYENV.BASE_URL=\"https://plot.ly\";Plotly.newPlot(\"7c007066-454b-4497-bfaa-5a6a43d7b074\", [{\"marker\": {\"color\": \"Grey\"}, \"mode\": \"lines\", \"name\": \"2010\", \"x\": [1, 2, 3, 4, 5, 6, 7, 8, 9, 10, 11, 12], \"y\": [14982, 14168, 18678, 3, 6404, 11767, 14721, 8678, 14033, 15331, 17173, 12768], \"type\": \"scatter\", \"uid\": \"ece70515-ad8f-4789-86de-7da3f09f18d9\"}, {\"marker\": {\"color\": \"Grey\"}, \"mode\": \"lines\", \"name\": \"2011\", \"x\": [1, 2, 3, 4, 5, 6, 7, 8, 9, 10, 11, 12], \"y\": [16594, 16060, 19507, 13056, 15454, 17104, 15446, 11036, 14487, 17025, 18238, 14670], \"type\": \"scatter\", \"uid\": \"1218108f-f000-4fc3-a4ef-8539892f9752\"}, {\"marker\": {\"color\": \"Grey\"}, \"mode\": \"lines\", \"name\": \"2012\", \"x\": [1, 2, 3, 4, 5, 6, 7, 8, 9, 10, 11, 12], \"y\": [18280, 16632, 20934, 15158, 17693, 16914, 16474, 11625, 15488, 16500, 19149, 14820], \"type\": \"scatter\", \"uid\": \"5e430042-3701-412c-8479-6af63e3115ce\"}, {\"marker\": {\"color\": \"Grey\"}, \"mode\": \"lines\", \"name\": \"2013\", \"x\": [1, 2, 3, 4, 5, 6, 7, 8, 9, 10, 11, 12], \"y\": [18096, 15954, 21204, 18070, 17586, 18859, 17541, 12182, 15594, 18882, 18173, 15040], \"type\": \"scatter\", \"uid\": \"77104159-4652-42f1-b95f-342b9f18d4e1\"}, {\"marker\": {\"color\": \"Grey\"}, \"mode\": \"lines\", \"name\": \"2014\", \"x\": [1, 2, 3, 4, 5, 6, 7, 8, 9, 10, 11, 12], \"y\": [15864, 14272, 16946, 16146, 15725, 17207, 16568, 10784, 14778, 15783, 15844, 13679], \"type\": \"scatter\", \"uid\": \"9631b5cd-a45b-477b-b94b-df23b36eeeb4\"}, {\"marker\": {\"color\": \"Red\"}, \"mode\": \"lines\", \"name\": \"2015\", \"x\": [1, 2, 3, 4, 5, 6, 7, 8, 9, 10, 11, 12], \"y\": [2728.0, 0.0, 1.0, 5708.0, 11556.0, 17555.0, 15992.0, 10152.0, 14207.0, 14909.0, 15070.0, 9104.0], \"type\": \"scatter\", \"uid\": \"651781e1-fec5-401d-b637-6957995f6a43\"}], {\"title\": \"Expense claims by month for 2010-2015\", \"xaxis\": {\"title\": \"Month\"}, \"yaxis\": {\"title\": \" Number of expense claim\"}}, {\"showLink\": true, \"linkText\": \"Export to plot.ly\"})});</script><script type=\"text/javascript\">window.addEventListener(\"resize\", function(){window._Plotly.Plots.resize(document.getElementById(\"7c007066-454b-4497-bfaa-5a6a43d7b074\"));});</script>"
      ]
     },
     "metadata": {},
     "output_type": "display_data"
    }
   ],
   "source": [
    "traces=[]\n",
    "\n",
    "for i in range(2010,2016):\n",
    "    if i==2015:\n",
    "        color='Red'\n",
    "    else:\n",
    "        color='Grey'\n",
    "        \n",
    "    traces.append({'type': 'scatter',\n",
    "                    'x':expenseData['month'],\n",
    "                    'y':expenseData['NumberOfClaims'+str(i)],\n",
    "                    'name':i,\n",
    "                    'mode':'lines',\n",
    "                    'marker':{'color':color}})\n",
    "data=Data(traces)\n",
    "\n",
    "layout={'title':'Expense claims by month for 2010-2015',\n",
    "       'xaxis':{'title':'Month'},\n",
    "       'yaxis':{'title':' Number of expense claim'} }\n",
    "fig=Figure(data=data,layout=layout)\n",
    "iplot(fig)"
   ]
  },
  {
   "cell_type": "code",
   "execution_count": 90,
   "metadata": {
    "collapsed": true
   },
   "outputs": [],
   "source": [
    "def chooseColor(yr):\n",
    "    if yr==2015:\n",
    "        return 'Blue'\n",
    "    else:\n",
    "        return 'Grey'"
   ]
  },
  {
   "cell_type": "code",
   "execution_count": 91,
   "metadata": {},
   "outputs": [
    {
     "name": "stderr",
     "output_type": "stream",
     "text": [
      "C:\\Users\\Satish\\Anaconda3\\lib\\site-packages\\plotly\\graph_objs\\_deprecations.py:39: DeprecationWarning:\n",
      "\n",
      "plotly.graph_objs.Data is deprecated.\n",
      "Please replace it with a list or tuple of instances of the following types\n",
      "  - plotly.graph_objs.Scatter\n",
      "  - plotly.graph_objs.Bar\n",
      "  - plotly.graph_objs.Area\n",
      "  - plotly.graph_objs.Histogram\n",
      "  - etc.\n",
      "\n",
      "\n"
     ]
    },
    {
     "data": {
      "application/vnd.plotly.v1+json": {
       "data": [
        {
         "marker": {
          "color": "Grey"
         },
         "mode": "lines",
         "name": "2010",
         "type": "scatter",
         "uid": "96e78b7e-a9d3-4508-8afa-54b329738241",
         "x": [
          1,
          2,
          3,
          4,
          5,
          6,
          7,
          8,
          9,
          10,
          11,
          12
         ],
         "y": [
          14982,
          14168,
          18678,
          3,
          6404,
          11767,
          14721,
          8678,
          14033,
          15331,
          17173,
          12768
         ]
        },
        {
         "marker": {
          "color": "Grey"
         },
         "mode": "lines",
         "name": "2011",
         "type": "scatter",
         "uid": "b4c53507-60ec-4e99-ba0d-5feff967755a",
         "x": [
          1,
          2,
          3,
          4,
          5,
          6,
          7,
          8,
          9,
          10,
          11,
          12
         ],
         "y": [
          16594,
          16060,
          19507,
          13056,
          15454,
          17104,
          15446,
          11036,
          14487,
          17025,
          18238,
          14670
         ]
        },
        {
         "marker": {
          "color": "Grey"
         },
         "mode": "lines",
         "name": "2012",
         "type": "scatter",
         "uid": "b8a400fd-3fda-436b-8e5f-07d2708fdca5",
         "x": [
          1,
          2,
          3,
          4,
          5,
          6,
          7,
          8,
          9,
          10,
          11,
          12
         ],
         "y": [
          18280,
          16632,
          20934,
          15158,
          17693,
          16914,
          16474,
          11625,
          15488,
          16500,
          19149,
          14820
         ]
        },
        {
         "marker": {
          "color": "Grey"
         },
         "mode": "lines",
         "name": "2013",
         "type": "scatter",
         "uid": "d4273d15-e310-49ad-8b6c-8f849efc7be5",
         "x": [
          1,
          2,
          3,
          4,
          5,
          6,
          7,
          8,
          9,
          10,
          11,
          12
         ],
         "y": [
          18096,
          15954,
          21204,
          18070,
          17586,
          18859,
          17541,
          12182,
          15594,
          18882,
          18173,
          15040
         ]
        },
        {
         "marker": {
          "color": "Grey"
         },
         "mode": "lines",
         "name": "2014",
         "type": "scatter",
         "uid": "39581e2a-aac6-4743-9ae9-c590caf96639",
         "x": [
          1,
          2,
          3,
          4,
          5,
          6,
          7,
          8,
          9,
          10,
          11,
          12
         ],
         "y": [
          15864,
          14272,
          16946,
          16146,
          15725,
          17207,
          16568,
          10784,
          14778,
          15783,
          15844,
          13679
         ]
        },
        {
         "marker": {
          "color": "Blue"
         },
         "mode": "lines",
         "name": "2015",
         "type": "scatter",
         "uid": "6284b842-cfef-407e-b44e-74547fb041b4",
         "x": [
          1,
          2,
          3,
          4,
          5,
          6,
          7,
          8,
          9,
          10,
          11,
          12
         ],
         "y": [
          2728,
          0,
          1,
          5708,
          11556,
          17555,
          15992,
          10152,
          14207,
          14909,
          15070,
          9104
         ]
        }
       ],
       "layout": {
        "title": "Expense claims by month for 2010-2015",
        "xaxis": {
         "title": "Month"
        },
        "yaxis": {
         "title": " Number of expense claim"
        }
       }
      },
      "text/html": [
       "<div id=\"b1b999ef-7212-4e8d-8dd3-8bdc050d6c5c\" style=\"height: 525px; width: 100%;\" class=\"plotly-graph-div\"></div><script type=\"text/javascript\">require([\"plotly\"], function(Plotly) { window.PLOTLYENV=window.PLOTLYENV || {};window.PLOTLYENV.BASE_URL=\"https://plot.ly\";Plotly.newPlot(\"b1b999ef-7212-4e8d-8dd3-8bdc050d6c5c\", [{\"marker\": {\"color\": \"Grey\"}, \"mode\": \"lines\", \"name\": \"2010\", \"x\": [1, 2, 3, 4, 5, 6, 7, 8, 9, 10, 11, 12], \"y\": [14982, 14168, 18678, 3, 6404, 11767, 14721, 8678, 14033, 15331, 17173, 12768], \"type\": \"scatter\", \"uid\": \"96e78b7e-a9d3-4508-8afa-54b329738241\"}, {\"marker\": {\"color\": \"Grey\"}, \"mode\": \"lines\", \"name\": \"2011\", \"x\": [1, 2, 3, 4, 5, 6, 7, 8, 9, 10, 11, 12], \"y\": [16594, 16060, 19507, 13056, 15454, 17104, 15446, 11036, 14487, 17025, 18238, 14670], \"type\": \"scatter\", \"uid\": \"b4c53507-60ec-4e99-ba0d-5feff967755a\"}, {\"marker\": {\"color\": \"Grey\"}, \"mode\": \"lines\", \"name\": \"2012\", \"x\": [1, 2, 3, 4, 5, 6, 7, 8, 9, 10, 11, 12], \"y\": [18280, 16632, 20934, 15158, 17693, 16914, 16474, 11625, 15488, 16500, 19149, 14820], \"type\": \"scatter\", \"uid\": \"b8a400fd-3fda-436b-8e5f-07d2708fdca5\"}, {\"marker\": {\"color\": \"Grey\"}, \"mode\": \"lines\", \"name\": \"2013\", \"x\": [1, 2, 3, 4, 5, 6, 7, 8, 9, 10, 11, 12], \"y\": [18096, 15954, 21204, 18070, 17586, 18859, 17541, 12182, 15594, 18882, 18173, 15040], \"type\": \"scatter\", \"uid\": \"d4273d15-e310-49ad-8b6c-8f849efc7be5\"}, {\"marker\": {\"color\": \"Grey\"}, \"mode\": \"lines\", \"name\": \"2014\", \"x\": [1, 2, 3, 4, 5, 6, 7, 8, 9, 10, 11, 12], \"y\": [15864, 14272, 16946, 16146, 15725, 17207, 16568, 10784, 14778, 15783, 15844, 13679], \"type\": \"scatter\", \"uid\": \"39581e2a-aac6-4743-9ae9-c590caf96639\"}, {\"marker\": {\"color\": \"Blue\"}, \"mode\": \"lines\", \"name\": \"2015\", \"x\": [1, 2, 3, 4, 5, 6, 7, 8, 9, 10, 11, 12], \"y\": [2728.0, 0.0, 1.0, 5708.0, 11556.0, 17555.0, 15992.0, 10152.0, 14207.0, 14909.0, 15070.0, 9104.0], \"type\": \"scatter\", \"uid\": \"6284b842-cfef-407e-b44e-74547fb041b4\"}], {\"title\": \"Expense claims by month for 2010-2015\", \"xaxis\": {\"title\": \"Month\"}, \"yaxis\": {\"title\": \" Number of expense claim\"}}, {\"showLink\": true, \"linkText\": \"Export to plot.ly\"})});</script><script type=\"text/javascript\">window.addEventListener(\"resize\", function(){window._Plotly.Plots.resize(document.getElementById(\"b1b999ef-7212-4e8d-8dd3-8bdc050d6c5c\"));});</script>"
      ],
      "text/vnd.plotly.v1+html": [
       "<div id=\"b1b999ef-7212-4e8d-8dd3-8bdc050d6c5c\" style=\"height: 525px; width: 100%;\" class=\"plotly-graph-div\"></div><script type=\"text/javascript\">require([\"plotly\"], function(Plotly) { window.PLOTLYENV=window.PLOTLYENV || {};window.PLOTLYENV.BASE_URL=\"https://plot.ly\";Plotly.newPlot(\"b1b999ef-7212-4e8d-8dd3-8bdc050d6c5c\", [{\"marker\": {\"color\": \"Grey\"}, \"mode\": \"lines\", \"name\": \"2010\", \"x\": [1, 2, 3, 4, 5, 6, 7, 8, 9, 10, 11, 12], \"y\": [14982, 14168, 18678, 3, 6404, 11767, 14721, 8678, 14033, 15331, 17173, 12768], \"type\": \"scatter\", \"uid\": \"96e78b7e-a9d3-4508-8afa-54b329738241\"}, {\"marker\": {\"color\": \"Grey\"}, \"mode\": \"lines\", \"name\": \"2011\", \"x\": [1, 2, 3, 4, 5, 6, 7, 8, 9, 10, 11, 12], \"y\": [16594, 16060, 19507, 13056, 15454, 17104, 15446, 11036, 14487, 17025, 18238, 14670], \"type\": \"scatter\", \"uid\": \"b4c53507-60ec-4e99-ba0d-5feff967755a\"}, {\"marker\": {\"color\": \"Grey\"}, \"mode\": \"lines\", \"name\": \"2012\", \"x\": [1, 2, 3, 4, 5, 6, 7, 8, 9, 10, 11, 12], \"y\": [18280, 16632, 20934, 15158, 17693, 16914, 16474, 11625, 15488, 16500, 19149, 14820], \"type\": \"scatter\", \"uid\": \"b8a400fd-3fda-436b-8e5f-07d2708fdca5\"}, {\"marker\": {\"color\": \"Grey\"}, \"mode\": \"lines\", \"name\": \"2013\", \"x\": [1, 2, 3, 4, 5, 6, 7, 8, 9, 10, 11, 12], \"y\": [18096, 15954, 21204, 18070, 17586, 18859, 17541, 12182, 15594, 18882, 18173, 15040], \"type\": \"scatter\", \"uid\": \"d4273d15-e310-49ad-8b6c-8f849efc7be5\"}, {\"marker\": {\"color\": \"Grey\"}, \"mode\": \"lines\", \"name\": \"2014\", \"x\": [1, 2, 3, 4, 5, 6, 7, 8, 9, 10, 11, 12], \"y\": [15864, 14272, 16946, 16146, 15725, 17207, 16568, 10784, 14778, 15783, 15844, 13679], \"type\": \"scatter\", \"uid\": \"39581e2a-aac6-4743-9ae9-c590caf96639\"}, {\"marker\": {\"color\": \"Blue\"}, \"mode\": \"lines\", \"name\": \"2015\", \"x\": [1, 2, 3, 4, 5, 6, 7, 8, 9, 10, 11, 12], \"y\": [2728.0, 0.0, 1.0, 5708.0, 11556.0, 17555.0, 15992.0, 10152.0, 14207.0, 14909.0, 15070.0, 9104.0], \"type\": \"scatter\", \"uid\": \"6284b842-cfef-407e-b44e-74547fb041b4\"}], {\"title\": \"Expense claims by month for 2010-2015\", \"xaxis\": {\"title\": \"Month\"}, \"yaxis\": {\"title\": \" Number of expense claim\"}}, {\"showLink\": true, \"linkText\": \"Export to plot.ly\"})});</script><script type=\"text/javascript\">window.addEventListener(\"resize\", function(){window._Plotly.Plots.resize(document.getElementById(\"b1b999ef-7212-4e8d-8dd3-8bdc050d6c5c\"));});</script>"
      ]
     },
     "metadata": {},
     "output_type": "display_data"
    }
   ],
   "source": [
    "traces=[]\n",
    "\n",
    "for i in range(2010,2016):\n",
    "    if i==2015:\n",
    "        color='Red'\n",
    "    else:\n",
    "        color='Grey'\n",
    "        \n",
    "    traces.append({'type': 'scatter',\n",
    "                    'x':expenseData['month'],\n",
    "                    'y':expenseData['NumberOfClaims'+str(i)],\n",
    "                    'name':i,\n",
    "                    'mode':'lines',\n",
    "                    'marker':{'color':chooseColor(i)}})\n",
    "data=Data(traces)\n",
    "\n",
    "layout={'title':'Expense claims by month for 2010-2015',\n",
    "       'xaxis':{'title':'Month'},\n",
    "       'yaxis':{'title':' Number of expense claim'} }\n",
    "fig=Figure(data=data,layout=layout)\n",
    "iplot(fig)"
   ]
  },
  {
   "cell_type": "code",
   "execution_count": 92,
   "metadata": {},
   "outputs": [
    {
     "name": "stderr",
     "output_type": "stream",
     "text": [
      "C:\\Users\\Satish\\Anaconda3\\lib\\site-packages\\plotly\\graph_objs\\_deprecations.py:39: DeprecationWarning:\n",
      "\n",
      "plotly.graph_objs.Data is deprecated.\n",
      "Please replace it with a list or tuple of instances of the following types\n",
      "  - plotly.graph_objs.Scatter\n",
      "  - plotly.graph_objs.Bar\n",
      "  - plotly.graph_objs.Area\n",
      "  - plotly.graph_objs.Histogram\n",
      "  - etc.\n",
      "\n",
      "\n"
     ]
    },
    {
     "data": {
      "application/vnd.plotly.v1+json": {
       "data": [
        {
         "line": {
          "width": 0.5
         },
         "marker": {
          "color": "Grey"
         },
         "mode": "lines",
         "name": "2010",
         "type": "scatter",
         "uid": "5d51f61c-3ab4-4874-ba2e-da4b4ee8ea2f",
         "x": [
          1,
          2,
          3,
          4,
          5,
          6,
          7,
          8,
          9,
          10,
          11,
          12
         ],
         "y": [
          14982,
          14168,
          18678,
          3,
          6404,
          11767,
          14721,
          8678,
          14033,
          15331,
          17173,
          12768
         ]
        },
        {
         "line": {
          "width": 0.5
         },
         "marker": {
          "color": "Grey"
         },
         "mode": "lines",
         "name": "2011",
         "type": "scatter",
         "uid": "930507c2-159d-49e9-b558-2d9461d02164",
         "x": [
          1,
          2,
          3,
          4,
          5,
          6,
          7,
          8,
          9,
          10,
          11,
          12
         ],
         "y": [
          16594,
          16060,
          19507,
          13056,
          15454,
          17104,
          15446,
          11036,
          14487,
          17025,
          18238,
          14670
         ]
        },
        {
         "line": {
          "width": 0.5
         },
         "marker": {
          "color": "Grey"
         },
         "mode": "lines",
         "name": "2012",
         "type": "scatter",
         "uid": "cb440770-0818-4250-82ec-4f61ffd60b98",
         "x": [
          1,
          2,
          3,
          4,
          5,
          6,
          7,
          8,
          9,
          10,
          11,
          12
         ],
         "y": [
          18280,
          16632,
          20934,
          15158,
          17693,
          16914,
          16474,
          11625,
          15488,
          16500,
          19149,
          14820
         ]
        },
        {
         "line": {
          "width": 0.5
         },
         "marker": {
          "color": "Grey"
         },
         "mode": "lines",
         "name": "2013",
         "type": "scatter",
         "uid": "c4a17c78-dc11-47b2-a7e6-9a2365dd697d",
         "x": [
          1,
          2,
          3,
          4,
          5,
          6,
          7,
          8,
          9,
          10,
          11,
          12
         ],
         "y": [
          18096,
          15954,
          21204,
          18070,
          17586,
          18859,
          17541,
          12182,
          15594,
          18882,
          18173,
          15040
         ]
        },
        {
         "line": {
          "width": 0.5
         },
         "marker": {
          "color": "Grey"
         },
         "mode": "lines",
         "name": "2014",
         "type": "scatter",
         "uid": "9aac6367-883f-4fd3-bbf4-96f27cfd6026",
         "x": [
          1,
          2,
          3,
          4,
          5,
          6,
          7,
          8,
          9,
          10,
          11,
          12
         ],
         "y": [
          15864,
          14272,
          16946,
          16146,
          15725,
          17207,
          16568,
          10784,
          14778,
          15783,
          15844,
          13679
         ]
        },
        {
         "line": {
          "width": 2
         },
         "marker": {
          "color": "Blue"
         },
         "mode": "lines",
         "name": "2015",
         "type": "scatter",
         "uid": "3521295b-7f2d-4eeb-96e2-0d57ada9873f",
         "x": [
          1,
          2,
          3,
          4,
          5,
          6,
          7,
          8,
          9,
          10,
          11,
          12
         ],
         "y": [
          2728,
          0,
          1,
          5708,
          11556,
          17555,
          15992,
          10152,
          14207,
          14909,
          15070,
          9104
         ]
        }
       ],
       "layout": {
        "title": "Expense claims by month for 2010-2015",
        "xaxis": {
         "title": "Month"
        },
        "yaxis": {
         "title": " Number of expense claim"
        }
       }
      },
      "text/html": [
       "<div id=\"f650ced2-f084-46a4-b072-ab646eb99493\" style=\"height: 525px; width: 100%;\" class=\"plotly-graph-div\"></div><script type=\"text/javascript\">require([\"plotly\"], function(Plotly) { window.PLOTLYENV=window.PLOTLYENV || {};window.PLOTLYENV.BASE_URL=\"https://plot.ly\";Plotly.newPlot(\"f650ced2-f084-46a4-b072-ab646eb99493\", [{\"line\": {\"width\": 0.5}, \"marker\": {\"color\": \"Grey\"}, \"mode\": \"lines\", \"name\": \"2010\", \"x\": [1, 2, 3, 4, 5, 6, 7, 8, 9, 10, 11, 12], \"y\": [14982, 14168, 18678, 3, 6404, 11767, 14721, 8678, 14033, 15331, 17173, 12768], \"type\": \"scatter\", \"uid\": \"5d51f61c-3ab4-4874-ba2e-da4b4ee8ea2f\"}, {\"line\": {\"width\": 0.5}, \"marker\": {\"color\": \"Grey\"}, \"mode\": \"lines\", \"name\": \"2011\", \"x\": [1, 2, 3, 4, 5, 6, 7, 8, 9, 10, 11, 12], \"y\": [16594, 16060, 19507, 13056, 15454, 17104, 15446, 11036, 14487, 17025, 18238, 14670], \"type\": \"scatter\", \"uid\": \"930507c2-159d-49e9-b558-2d9461d02164\"}, {\"line\": {\"width\": 0.5}, \"marker\": {\"color\": \"Grey\"}, \"mode\": \"lines\", \"name\": \"2012\", \"x\": [1, 2, 3, 4, 5, 6, 7, 8, 9, 10, 11, 12], \"y\": [18280, 16632, 20934, 15158, 17693, 16914, 16474, 11625, 15488, 16500, 19149, 14820], \"type\": \"scatter\", \"uid\": \"cb440770-0818-4250-82ec-4f61ffd60b98\"}, {\"line\": {\"width\": 0.5}, \"marker\": {\"color\": \"Grey\"}, \"mode\": \"lines\", \"name\": \"2013\", \"x\": [1, 2, 3, 4, 5, 6, 7, 8, 9, 10, 11, 12], \"y\": [18096, 15954, 21204, 18070, 17586, 18859, 17541, 12182, 15594, 18882, 18173, 15040], \"type\": \"scatter\", \"uid\": \"c4a17c78-dc11-47b2-a7e6-9a2365dd697d\"}, {\"line\": {\"width\": 0.5}, \"marker\": {\"color\": \"Grey\"}, \"mode\": \"lines\", \"name\": \"2014\", \"x\": [1, 2, 3, 4, 5, 6, 7, 8, 9, 10, 11, 12], \"y\": [15864, 14272, 16946, 16146, 15725, 17207, 16568, 10784, 14778, 15783, 15844, 13679], \"type\": \"scatter\", \"uid\": \"9aac6367-883f-4fd3-bbf4-96f27cfd6026\"}, {\"line\": {\"width\": 2}, \"marker\": {\"color\": \"Blue\"}, \"mode\": \"lines\", \"name\": \"2015\", \"x\": [1, 2, 3, 4, 5, 6, 7, 8, 9, 10, 11, 12], \"y\": [2728.0, 0.0, 1.0, 5708.0, 11556.0, 17555.0, 15992.0, 10152.0, 14207.0, 14909.0, 15070.0, 9104.0], \"type\": \"scatter\", \"uid\": \"3521295b-7f2d-4eeb-96e2-0d57ada9873f\"}], {\"title\": \"Expense claims by month for 2010-2015\", \"xaxis\": {\"title\": \"Month\"}, \"yaxis\": {\"title\": \" Number of expense claim\"}}, {\"showLink\": true, \"linkText\": \"Export to plot.ly\"})});</script><script type=\"text/javascript\">window.addEventListener(\"resize\", function(){window._Plotly.Plots.resize(document.getElementById(\"f650ced2-f084-46a4-b072-ab646eb99493\"));});</script>"
      ],
      "text/vnd.plotly.v1+html": [
       "<div id=\"f650ced2-f084-46a4-b072-ab646eb99493\" style=\"height: 525px; width: 100%;\" class=\"plotly-graph-div\"></div><script type=\"text/javascript\">require([\"plotly\"], function(Plotly) { window.PLOTLYENV=window.PLOTLYENV || {};window.PLOTLYENV.BASE_URL=\"https://plot.ly\";Plotly.newPlot(\"f650ced2-f084-46a4-b072-ab646eb99493\", [{\"line\": {\"width\": 0.5}, \"marker\": {\"color\": \"Grey\"}, \"mode\": \"lines\", \"name\": \"2010\", \"x\": [1, 2, 3, 4, 5, 6, 7, 8, 9, 10, 11, 12], \"y\": [14982, 14168, 18678, 3, 6404, 11767, 14721, 8678, 14033, 15331, 17173, 12768], \"type\": \"scatter\", \"uid\": \"5d51f61c-3ab4-4874-ba2e-da4b4ee8ea2f\"}, {\"line\": {\"width\": 0.5}, \"marker\": {\"color\": \"Grey\"}, \"mode\": \"lines\", \"name\": \"2011\", \"x\": [1, 2, 3, 4, 5, 6, 7, 8, 9, 10, 11, 12], \"y\": [16594, 16060, 19507, 13056, 15454, 17104, 15446, 11036, 14487, 17025, 18238, 14670], \"type\": \"scatter\", \"uid\": \"930507c2-159d-49e9-b558-2d9461d02164\"}, {\"line\": {\"width\": 0.5}, \"marker\": {\"color\": \"Grey\"}, \"mode\": \"lines\", \"name\": \"2012\", \"x\": [1, 2, 3, 4, 5, 6, 7, 8, 9, 10, 11, 12], \"y\": [18280, 16632, 20934, 15158, 17693, 16914, 16474, 11625, 15488, 16500, 19149, 14820], \"type\": \"scatter\", \"uid\": \"cb440770-0818-4250-82ec-4f61ffd60b98\"}, {\"line\": {\"width\": 0.5}, \"marker\": {\"color\": \"Grey\"}, \"mode\": \"lines\", \"name\": \"2013\", \"x\": [1, 2, 3, 4, 5, 6, 7, 8, 9, 10, 11, 12], \"y\": [18096, 15954, 21204, 18070, 17586, 18859, 17541, 12182, 15594, 18882, 18173, 15040], \"type\": \"scatter\", \"uid\": \"c4a17c78-dc11-47b2-a7e6-9a2365dd697d\"}, {\"line\": {\"width\": 0.5}, \"marker\": {\"color\": \"Grey\"}, \"mode\": \"lines\", \"name\": \"2014\", \"x\": [1, 2, 3, 4, 5, 6, 7, 8, 9, 10, 11, 12], \"y\": [15864, 14272, 16946, 16146, 15725, 17207, 16568, 10784, 14778, 15783, 15844, 13679], \"type\": \"scatter\", \"uid\": \"9aac6367-883f-4fd3-bbf4-96f27cfd6026\"}, {\"line\": {\"width\": 2}, \"marker\": {\"color\": \"Blue\"}, \"mode\": \"lines\", \"name\": \"2015\", \"x\": [1, 2, 3, 4, 5, 6, 7, 8, 9, 10, 11, 12], \"y\": [2728.0, 0.0, 1.0, 5708.0, 11556.0, 17555.0, 15992.0, 10152.0, 14207.0, 14909.0, 15070.0, 9104.0], \"type\": \"scatter\", \"uid\": \"3521295b-7f2d-4eeb-96e2-0d57ada9873f\"}], {\"title\": \"Expense claims by month for 2010-2015\", \"xaxis\": {\"title\": \"Month\"}, \"yaxis\": {\"title\": \" Number of expense claim\"}}, {\"showLink\": true, \"linkText\": \"Export to plot.ly\"})});</script><script type=\"text/javascript\">window.addEventListener(\"resize\", function(){window._Plotly.Plots.resize(document.getElementById(\"f650ced2-f084-46a4-b072-ab646eb99493\"));});</script>"
      ]
     },
     "metadata": {},
     "output_type": "display_data"
    }
   ],
   "source": [
    "traces=[]\n",
    "\n",
    "for i in range(2010,2016):\n",
    "    if i==2015:\n",
    "        width=2\n",
    "    else:\n",
    "        width=0.5\n",
    "        \n",
    "    traces.append({'type': 'scatter',\n",
    "                    'x':expenseData['month'],\n",
    "                    'y':expenseData['NumberOfClaims'+str(i)],\n",
    "                    'name':i,\n",
    "                    'mode':'lines',\n",
    "                    'marker':{'color':chooseColor(i)},\n",
    "                    'line':{'width':width}})\n",
    "data=Data(traces)\n",
    "\n",
    "layout={'title':'Expense claims by month for 2010-2015',\n",
    "       'xaxis':{'title':'Month'},\n",
    "       'yaxis':{'title':' Number of expense claim'} }\n",
    "fig=Figure(data=data,layout=layout)\n",
    "iplot(fig)"
   ]
  },
  {
   "cell_type": "code",
   "execution_count": 93,
   "metadata": {
    "collapsed": true
   },
   "outputs": [],
   "source": [
    "#Marking dahsed and dotted line"
   ]
  },
  {
   "cell_type": "code",
   "execution_count": 94,
   "metadata": {
    "collapsed": true
   },
   "outputs": [],
   "source": [
    "dashes=['dash','dot','dashdot']"
   ]
  },
  {
   "cell_type": "code",
   "execution_count": 97,
   "metadata": {},
   "outputs": [
    {
     "name": "stderr",
     "output_type": "stream",
     "text": [
      "C:\\Users\\Satish\\Anaconda3\\lib\\site-packages\\plotly\\graph_objs\\_deprecations.py:39: DeprecationWarning:\n",
      "\n",
      "plotly.graph_objs.Data is deprecated.\n",
      "Please replace it with a list or tuple of instances of the following types\n",
      "  - plotly.graph_objs.Scatter\n",
      "  - plotly.graph_objs.Bar\n",
      "  - plotly.graph_objs.Area\n",
      "  - plotly.graph_objs.Histogram\n",
      "  - etc.\n",
      "\n",
      "\n"
     ]
    },
    {
     "data": {
      "application/vnd.plotly.v1+json": {
       "data": [
        {
         "line": {
          "dash": "dash"
         },
         "mode": "lines",
         "name": "2010",
         "type": "scatter",
         "uid": "41d77c2b-0247-4c3b-a26b-02791d346d9a",
         "x": [
          1,
          2,
          3,
          4,
          5,
          6,
          7,
          8,
          9,
          10,
          11,
          12
         ],
         "y": [
          14982,
          14168,
          18678,
          3,
          6404,
          11767,
          14721,
          8678,
          14033,
          15331,
          17173,
          12768
         ]
        },
        {
         "line": {
          "dash": "dash"
         },
         "mode": "lines",
         "name": "2011",
         "type": "scatter",
         "uid": "e33fee28-b900-4fb0-8c69-a1142f14e179",
         "x": [
          1,
          2,
          3,
          4,
          5,
          6,
          7,
          8,
          9,
          10,
          11,
          12
         ],
         "y": [
          16594,
          16060,
          19507,
          13056,
          15454,
          17104,
          15446,
          11036,
          14487,
          17025,
          18238,
          14670
         ]
        },
        {
         "line": {
          "dash": "dot"
         },
         "mode": "lines",
         "name": "2012",
         "type": "scatter",
         "uid": "dd4799fa-cf7b-4ce4-95ce-8206fc4c3df8",
         "x": [
          1,
          2,
          3,
          4,
          5,
          6,
          7,
          8,
          9,
          10,
          11,
          12
         ],
         "y": [
          18280,
          16632,
          20934,
          15158,
          17693,
          16914,
          16474,
          11625,
          15488,
          16500,
          19149,
          14820
         ]
        },
        {
         "line": {
          "dash": "dot"
         },
         "mode": "lines",
         "name": "2013",
         "type": "scatter",
         "uid": "015f6849-b55b-42d9-b52e-b8f983bf805e",
         "x": [
          1,
          2,
          3,
          4,
          5,
          6,
          7,
          8,
          9,
          10,
          11,
          12
         ],
         "y": [
          18096,
          15954,
          21204,
          18070,
          17586,
          18859,
          17541,
          12182,
          15594,
          18882,
          18173,
          15040
         ]
        },
        {
         "line": {
          "dash": "dashdot"
         },
         "mode": "lines",
         "name": "2014",
         "type": "scatter",
         "uid": "0c4226cb-e028-4768-9a9d-f40d85c6f826",
         "x": [
          1,
          2,
          3,
          4,
          5,
          6,
          7,
          8,
          9,
          10,
          11,
          12
         ],
         "y": [
          15864,
          14272,
          16946,
          16146,
          15725,
          17207,
          16568,
          10784,
          14778,
          15783,
          15844,
          13679
         ]
        },
        {
         "line": {
          "dash": "dashdot"
         },
         "mode": "lines",
         "name": "2015",
         "type": "scatter",
         "uid": "ea4c47aa-b86f-4fea-a32d-75799d33f272",
         "x": [
          1,
          2,
          3,
          4,
          5,
          6,
          7,
          8,
          9,
          10,
          11,
          12
         ],
         "y": [
          2728,
          0,
          1,
          5708,
          11556,
          17555,
          15992,
          10152,
          14207,
          14909,
          15070,
          9104
         ]
        }
       ],
       "layout": {
        "title": "Expense claims by month for 2010-2015",
        "xaxis": {
         "title": "Month"
        },
        "yaxis": {
         "title": " Number of expense claim"
        }
       }
      },
      "text/html": [
       "<div id=\"ca68ce06-9f20-4be3-93f8-76b19cc7baa1\" style=\"height: 525px; width: 100%;\" class=\"plotly-graph-div\"></div><script type=\"text/javascript\">require([\"plotly\"], function(Plotly) { window.PLOTLYENV=window.PLOTLYENV || {};window.PLOTLYENV.BASE_URL=\"https://plot.ly\";Plotly.newPlot(\"ca68ce06-9f20-4be3-93f8-76b19cc7baa1\", [{\"line\": {\"dash\": \"dash\"}, \"mode\": \"lines\", \"name\": \"2010\", \"x\": [1, 2, 3, 4, 5, 6, 7, 8, 9, 10, 11, 12], \"y\": [14982, 14168, 18678, 3, 6404, 11767, 14721, 8678, 14033, 15331, 17173, 12768], \"type\": \"scatter\", \"uid\": \"41d77c2b-0247-4c3b-a26b-02791d346d9a\"}, {\"line\": {\"dash\": \"dash\"}, \"mode\": \"lines\", \"name\": \"2011\", \"x\": [1, 2, 3, 4, 5, 6, 7, 8, 9, 10, 11, 12], \"y\": [16594, 16060, 19507, 13056, 15454, 17104, 15446, 11036, 14487, 17025, 18238, 14670], \"type\": \"scatter\", \"uid\": \"e33fee28-b900-4fb0-8c69-a1142f14e179\"}, {\"line\": {\"dash\": \"dot\"}, \"mode\": \"lines\", \"name\": \"2012\", \"x\": [1, 2, 3, 4, 5, 6, 7, 8, 9, 10, 11, 12], \"y\": [18280, 16632, 20934, 15158, 17693, 16914, 16474, 11625, 15488, 16500, 19149, 14820], \"type\": \"scatter\", \"uid\": \"dd4799fa-cf7b-4ce4-95ce-8206fc4c3df8\"}, {\"line\": {\"dash\": \"dot\"}, \"mode\": \"lines\", \"name\": \"2013\", \"x\": [1, 2, 3, 4, 5, 6, 7, 8, 9, 10, 11, 12], \"y\": [18096, 15954, 21204, 18070, 17586, 18859, 17541, 12182, 15594, 18882, 18173, 15040], \"type\": \"scatter\", \"uid\": \"015f6849-b55b-42d9-b52e-b8f983bf805e\"}, {\"line\": {\"dash\": \"dashdot\"}, \"mode\": \"lines\", \"name\": \"2014\", \"x\": [1, 2, 3, 4, 5, 6, 7, 8, 9, 10, 11, 12], \"y\": [15864, 14272, 16946, 16146, 15725, 17207, 16568, 10784, 14778, 15783, 15844, 13679], \"type\": \"scatter\", \"uid\": \"0c4226cb-e028-4768-9a9d-f40d85c6f826\"}, {\"line\": {\"dash\": \"dashdot\"}, \"mode\": \"lines\", \"name\": \"2015\", \"x\": [1, 2, 3, 4, 5, 6, 7, 8, 9, 10, 11, 12], \"y\": [2728.0, 0.0, 1.0, 5708.0, 11556.0, 17555.0, 15992.0, 10152.0, 14207.0, 14909.0, 15070.0, 9104.0], \"type\": \"scatter\", \"uid\": \"ea4c47aa-b86f-4fea-a32d-75799d33f272\"}], {\"title\": \"Expense claims by month for 2010-2015\", \"xaxis\": {\"title\": \"Month\"}, \"yaxis\": {\"title\": \" Number of expense claim\"}}, {\"showLink\": true, \"linkText\": \"Export to plot.ly\"})});</script><script type=\"text/javascript\">window.addEventListener(\"resize\", function(){window._Plotly.Plots.resize(document.getElementById(\"ca68ce06-9f20-4be3-93f8-76b19cc7baa1\"));});</script>"
      ],
      "text/vnd.plotly.v1+html": [
       "<div id=\"ca68ce06-9f20-4be3-93f8-76b19cc7baa1\" style=\"height: 525px; width: 100%;\" class=\"plotly-graph-div\"></div><script type=\"text/javascript\">require([\"plotly\"], function(Plotly) { window.PLOTLYENV=window.PLOTLYENV || {};window.PLOTLYENV.BASE_URL=\"https://plot.ly\";Plotly.newPlot(\"ca68ce06-9f20-4be3-93f8-76b19cc7baa1\", [{\"line\": {\"dash\": \"dash\"}, \"mode\": \"lines\", \"name\": \"2010\", \"x\": [1, 2, 3, 4, 5, 6, 7, 8, 9, 10, 11, 12], \"y\": [14982, 14168, 18678, 3, 6404, 11767, 14721, 8678, 14033, 15331, 17173, 12768], \"type\": \"scatter\", \"uid\": \"41d77c2b-0247-4c3b-a26b-02791d346d9a\"}, {\"line\": {\"dash\": \"dash\"}, \"mode\": \"lines\", \"name\": \"2011\", \"x\": [1, 2, 3, 4, 5, 6, 7, 8, 9, 10, 11, 12], \"y\": [16594, 16060, 19507, 13056, 15454, 17104, 15446, 11036, 14487, 17025, 18238, 14670], \"type\": \"scatter\", \"uid\": \"e33fee28-b900-4fb0-8c69-a1142f14e179\"}, {\"line\": {\"dash\": \"dot\"}, \"mode\": \"lines\", \"name\": \"2012\", \"x\": [1, 2, 3, 4, 5, 6, 7, 8, 9, 10, 11, 12], \"y\": [18280, 16632, 20934, 15158, 17693, 16914, 16474, 11625, 15488, 16500, 19149, 14820], \"type\": \"scatter\", \"uid\": \"dd4799fa-cf7b-4ce4-95ce-8206fc4c3df8\"}, {\"line\": {\"dash\": \"dot\"}, \"mode\": \"lines\", \"name\": \"2013\", \"x\": [1, 2, 3, 4, 5, 6, 7, 8, 9, 10, 11, 12], \"y\": [18096, 15954, 21204, 18070, 17586, 18859, 17541, 12182, 15594, 18882, 18173, 15040], \"type\": \"scatter\", \"uid\": \"015f6849-b55b-42d9-b52e-b8f983bf805e\"}, {\"line\": {\"dash\": \"dashdot\"}, \"mode\": \"lines\", \"name\": \"2014\", \"x\": [1, 2, 3, 4, 5, 6, 7, 8, 9, 10, 11, 12], \"y\": [15864, 14272, 16946, 16146, 15725, 17207, 16568, 10784, 14778, 15783, 15844, 13679], \"type\": \"scatter\", \"uid\": \"0c4226cb-e028-4768-9a9d-f40d85c6f826\"}, {\"line\": {\"dash\": \"dashdot\"}, \"mode\": \"lines\", \"name\": \"2015\", \"x\": [1, 2, 3, 4, 5, 6, 7, 8, 9, 10, 11, 12], \"y\": [2728.0, 0.0, 1.0, 5708.0, 11556.0, 17555.0, 15992.0, 10152.0, 14207.0, 14909.0, 15070.0, 9104.0], \"type\": \"scatter\", \"uid\": \"ea4c47aa-b86f-4fea-a32d-75799d33f272\"}], {\"title\": \"Expense claims by month for 2010-2015\", \"xaxis\": {\"title\": \"Month\"}, \"yaxis\": {\"title\": \" Number of expense claim\"}}, {\"showLink\": true, \"linkText\": \"Export to plot.ly\"})});</script><script type=\"text/javascript\">window.addEventListener(\"resize\", function(){window._Plotly.Plots.resize(document.getElementById(\"ca68ce06-9f20-4be3-93f8-76b19cc7baa1\"));});</script>"
      ]
     },
     "metadata": {},
     "output_type": "display_data"
    }
   ],
   "source": [
    "traces=[]\n",
    "\n",
    "for i ,yr in enumerate(range(2010,2016)):\n",
    "    traces.append({'type': 'scatter',\n",
    "                    'x':expenseData['month'],\n",
    "                    'y':expenseData['NumberOfClaims'+str(yr)],\n",
    "                    'name':yr,\n",
    "                    'mode':'lines',\n",
    "                    'line':{'dash':dashes[i//2]}})\n",
    "data=Data(traces)\n",
    "\n",
    "layout={'title':'Expense claims by month for 2010-2015',\n",
    "       'xaxis':{'title':'Month'},\n",
    "       'yaxis':{'title':' Number of expense claim'} }\n",
    "fig=Figure(data=data,layout=layout)\n",
    "iplot(fig)"
   ]
  },
  {
   "cell_type": "code",
   "execution_count": 101,
   "metadata": {},
   "outputs": [
    {
     "name": "stderr",
     "output_type": "stream",
     "text": [
      "C:\\Users\\Satish\\Anaconda3\\lib\\site-packages\\plotly\\graph_objs\\_deprecations.py:39: DeprecationWarning:\n",
      "\n",
      "plotly.graph_objs.Data is deprecated.\n",
      "Please replace it with a list or tuple of instances of the following types\n",
      "  - plotly.graph_objs.Scatter\n",
      "  - plotly.graph_objs.Bar\n",
      "  - plotly.graph_objs.Area\n",
      "  - plotly.graph_objs.Histogram\n",
      "  - etc.\n",
      "\n",
      "\n"
     ]
    },
    {
     "data": {
      "application/vnd.plotly.v1+json": {
       "data": [
        {
         "line": {
          "dash": "5"
         },
         "mode": "lines",
         "name": "2010",
         "type": "scatter",
         "uid": "9bf8b8ba-cde0-478f-a69b-70844cf2a769",
         "x": [
          1,
          2,
          3,
          4,
          5,
          6,
          7,
          8,
          9,
          10,
          11,
          12
         ],
         "y": [
          14982,
          14168,
          18678,
          3,
          6404,
          11767,
          14721,
          8678,
          14033,
          15331,
          17173,
          12768
         ]
        },
        {
         "line": {
          "dash": "5"
         },
         "mode": "lines",
         "name": "2011",
         "type": "scatter",
         "uid": "ed4f89b3-5d3f-401a-84c3-89bff87a5f44",
         "x": [
          1,
          2,
          3,
          4,
          5,
          6,
          7,
          8,
          9,
          10,
          11,
          12
         ],
         "y": [
          16594,
          16060,
          19507,
          13056,
          15454,
          17104,
          15446,
          11036,
          14487,
          17025,
          18238,
          14670
         ]
        },
        {
         "line": {
          "dash": "5"
         },
         "mode": "lines",
         "name": "2012",
         "type": "scatter",
         "uid": "d1016e83-5030-46d8-82ea-37389b1c447c",
         "x": [
          1,
          2,
          3,
          4,
          5,
          6,
          7,
          8,
          9,
          10,
          11,
          12
         ],
         "y": [
          18280,
          16632,
          20934,
          15158,
          17693,
          16914,
          16474,
          11625,
          15488,
          16500,
          19149,
          14820
         ]
        },
        {
         "line": {
          "dash": "5"
         },
         "mode": "lines",
         "name": "2013",
         "type": "scatter",
         "uid": "e96f4ddb-82ad-4350-b2ec-74b83360ff48",
         "x": [
          1,
          2,
          3,
          4,
          5,
          6,
          7,
          8,
          9,
          10,
          11,
          12
         ],
         "y": [
          18096,
          15954,
          21204,
          18070,
          17586,
          18859,
          17541,
          12182,
          15594,
          18882,
          18173,
          15040
         ]
        },
        {
         "line": {
          "dash": "5"
         },
         "mode": "lines",
         "name": "2014",
         "type": "scatter",
         "uid": "156c123d-6600-44bb-b6f0-4d33e47f8e08",
         "x": [
          1,
          2,
          3,
          4,
          5,
          6,
          7,
          8,
          9,
          10,
          11,
          12
         ],
         "y": [
          15864,
          14272,
          16946,
          16146,
          15725,
          17207,
          16568,
          10784,
          14778,
          15783,
          15844,
          13679
         ]
        },
        {
         "line": {
          "dash": "solid"
         },
         "mode": "lines",
         "name": "2015",
         "type": "scatter",
         "uid": "c1ba6c9d-8db8-40ae-9db5-e04adb8e33e3",
         "x": [
          1,
          2,
          3,
          4,
          5,
          6,
          7,
          8,
          9,
          10,
          11,
          12
         ],
         "y": [
          2728,
          0,
          1,
          5708,
          11556,
          17555,
          15992,
          10152,
          14207,
          14909,
          15070,
          9104
         ]
        }
       ],
       "layout": {
        "title": "Expense claims by month for 2010-2015",
        "xaxis": {
         "title": "Month"
        },
        "yaxis": {
         "title": " Number of expense claim"
        }
       }
      },
      "text/html": [
       "<div id=\"ad00313e-5e97-4c2a-a1d0-790d32ed180b\" style=\"height: 525px; width: 100%;\" class=\"plotly-graph-div\"></div><script type=\"text/javascript\">require([\"plotly\"], function(Plotly) { window.PLOTLYENV=window.PLOTLYENV || {};window.PLOTLYENV.BASE_URL=\"https://plot.ly\";Plotly.newPlot(\"ad00313e-5e97-4c2a-a1d0-790d32ed180b\", [{\"line\": {\"dash\": \"5\"}, \"mode\": \"lines\", \"name\": \"2010\", \"x\": [1, 2, 3, 4, 5, 6, 7, 8, 9, 10, 11, 12], \"y\": [14982, 14168, 18678, 3, 6404, 11767, 14721, 8678, 14033, 15331, 17173, 12768], \"type\": \"scatter\", \"uid\": \"9bf8b8ba-cde0-478f-a69b-70844cf2a769\"}, {\"line\": {\"dash\": \"5\"}, \"mode\": \"lines\", \"name\": \"2011\", \"x\": [1, 2, 3, 4, 5, 6, 7, 8, 9, 10, 11, 12], \"y\": [16594, 16060, 19507, 13056, 15454, 17104, 15446, 11036, 14487, 17025, 18238, 14670], \"type\": \"scatter\", \"uid\": \"ed4f89b3-5d3f-401a-84c3-89bff87a5f44\"}, {\"line\": {\"dash\": \"5\"}, \"mode\": \"lines\", \"name\": \"2012\", \"x\": [1, 2, 3, 4, 5, 6, 7, 8, 9, 10, 11, 12], \"y\": [18280, 16632, 20934, 15158, 17693, 16914, 16474, 11625, 15488, 16500, 19149, 14820], \"type\": \"scatter\", \"uid\": \"d1016e83-5030-46d8-82ea-37389b1c447c\"}, {\"line\": {\"dash\": \"5\"}, \"mode\": \"lines\", \"name\": \"2013\", \"x\": [1, 2, 3, 4, 5, 6, 7, 8, 9, 10, 11, 12], \"y\": [18096, 15954, 21204, 18070, 17586, 18859, 17541, 12182, 15594, 18882, 18173, 15040], \"type\": \"scatter\", \"uid\": \"e96f4ddb-82ad-4350-b2ec-74b83360ff48\"}, {\"line\": {\"dash\": \"5\"}, \"mode\": \"lines\", \"name\": \"2014\", \"x\": [1, 2, 3, 4, 5, 6, 7, 8, 9, 10, 11, 12], \"y\": [15864, 14272, 16946, 16146, 15725, 17207, 16568, 10784, 14778, 15783, 15844, 13679], \"type\": \"scatter\", \"uid\": \"156c123d-6600-44bb-b6f0-4d33e47f8e08\"}, {\"line\": {\"dash\": \"solid\"}, \"mode\": \"lines\", \"name\": \"2015\", \"x\": [1, 2, 3, 4, 5, 6, 7, 8, 9, 10, 11, 12], \"y\": [2728.0, 0.0, 1.0, 5708.0, 11556.0, 17555.0, 15992.0, 10152.0, 14207.0, 14909.0, 15070.0, 9104.0], \"type\": \"scatter\", \"uid\": \"c1ba6c9d-8db8-40ae-9db5-e04adb8e33e3\"}], {\"title\": \"Expense claims by month for 2010-2015\", \"xaxis\": {\"title\": \"Month\"}, \"yaxis\": {\"title\": \" Number of expense claim\"}}, {\"showLink\": true, \"linkText\": \"Export to plot.ly\"})});</script><script type=\"text/javascript\">window.addEventListener(\"resize\", function(){window._Plotly.Plots.resize(document.getElementById(\"ad00313e-5e97-4c2a-a1d0-790d32ed180b\"));});</script>"
      ],
      "text/vnd.plotly.v1+html": [
       "<div id=\"ad00313e-5e97-4c2a-a1d0-790d32ed180b\" style=\"height: 525px; width: 100%;\" class=\"plotly-graph-div\"></div><script type=\"text/javascript\">require([\"plotly\"], function(Plotly) { window.PLOTLYENV=window.PLOTLYENV || {};window.PLOTLYENV.BASE_URL=\"https://plot.ly\";Plotly.newPlot(\"ad00313e-5e97-4c2a-a1d0-790d32ed180b\", [{\"line\": {\"dash\": \"5\"}, \"mode\": \"lines\", \"name\": \"2010\", \"x\": [1, 2, 3, 4, 5, 6, 7, 8, 9, 10, 11, 12], \"y\": [14982, 14168, 18678, 3, 6404, 11767, 14721, 8678, 14033, 15331, 17173, 12768], \"type\": \"scatter\", \"uid\": \"9bf8b8ba-cde0-478f-a69b-70844cf2a769\"}, {\"line\": {\"dash\": \"5\"}, \"mode\": \"lines\", \"name\": \"2011\", \"x\": [1, 2, 3, 4, 5, 6, 7, 8, 9, 10, 11, 12], \"y\": [16594, 16060, 19507, 13056, 15454, 17104, 15446, 11036, 14487, 17025, 18238, 14670], \"type\": \"scatter\", \"uid\": \"ed4f89b3-5d3f-401a-84c3-89bff87a5f44\"}, {\"line\": {\"dash\": \"5\"}, \"mode\": \"lines\", \"name\": \"2012\", \"x\": [1, 2, 3, 4, 5, 6, 7, 8, 9, 10, 11, 12], \"y\": [18280, 16632, 20934, 15158, 17693, 16914, 16474, 11625, 15488, 16500, 19149, 14820], \"type\": \"scatter\", \"uid\": \"d1016e83-5030-46d8-82ea-37389b1c447c\"}, {\"line\": {\"dash\": \"5\"}, \"mode\": \"lines\", \"name\": \"2013\", \"x\": [1, 2, 3, 4, 5, 6, 7, 8, 9, 10, 11, 12], \"y\": [18096, 15954, 21204, 18070, 17586, 18859, 17541, 12182, 15594, 18882, 18173, 15040], \"type\": \"scatter\", \"uid\": \"e96f4ddb-82ad-4350-b2ec-74b83360ff48\"}, {\"line\": {\"dash\": \"5\"}, \"mode\": \"lines\", \"name\": \"2014\", \"x\": [1, 2, 3, 4, 5, 6, 7, 8, 9, 10, 11, 12], \"y\": [15864, 14272, 16946, 16146, 15725, 17207, 16568, 10784, 14778, 15783, 15844, 13679], \"type\": \"scatter\", \"uid\": \"156c123d-6600-44bb-b6f0-4d33e47f8e08\"}, {\"line\": {\"dash\": \"solid\"}, \"mode\": \"lines\", \"name\": \"2015\", \"x\": [1, 2, 3, 4, 5, 6, 7, 8, 9, 10, 11, 12], \"y\": [2728.0, 0.0, 1.0, 5708.0, 11556.0, 17555.0, 15992.0, 10152.0, 14207.0, 14909.0, 15070.0, 9104.0], \"type\": \"scatter\", \"uid\": \"c1ba6c9d-8db8-40ae-9db5-e04adb8e33e3\"}], {\"title\": \"Expense claims by month for 2010-2015\", \"xaxis\": {\"title\": \"Month\"}, \"yaxis\": {\"title\": \" Number of expense claim\"}}, {\"showLink\": true, \"linkText\": \"Export to plot.ly\"})});</script><script type=\"text/javascript\">window.addEventListener(\"resize\", function(){window._Plotly.Plots.resize(document.getElementById(\"ad00313e-5e97-4c2a-a1d0-790d32ed180b\"));});</script>"
      ]
     },
     "metadata": {},
     "output_type": "display_data"
    }
   ],
   "source": [
    "traces=[]\n",
    "\n",
    "for yr in range(2010,2016):\n",
    "    if yr==2015:\n",
    "        dash='solid'\n",
    "    else:\n",
    "        dash='5'\n",
    "        \n",
    "    traces.append({'type': 'scatter',\n",
    "                    'x':expenseData['month'],\n",
    "                    'y':expenseData['NumberOfClaims'+str(yr)],\n",
    "                    'name':yr,\n",
    "                    'mode':'lines',\n",
    "                    'line':{'dash':dash}})\n",
    "data=Data(traces)\n",
    "\n",
    "layout={'title':'Expense claims by month for 2010-2015',\n",
    "       'xaxis':{'title':'Month'},\n",
    "       'yaxis':{'title':' Number of expense claim'} }\n",
    "fig=Figure(data=data,layout=layout)\n",
    "iplot(fig)"
   ]
  },
  {
   "cell_type": "code",
   "execution_count": 102,
   "metadata": {
    "collapsed": true
   },
   "outputs": [],
   "source": [
    "#Adding and changing marker symbol"
   ]
  },
  {
   "cell_type": "code",
   "execution_count": 113,
   "metadata": {
    "collapsed": true
   },
   "outputs": [],
   "source": [
    "markerSymbols=['circle','square','diamond','x','triangle-up','cross']"
   ]
  },
  {
   "cell_type": "code",
   "execution_count": 114,
   "metadata": {},
   "outputs": [
    {
     "name": "stderr",
     "output_type": "stream",
     "text": [
      "C:\\Users\\Satish\\Anaconda3\\lib\\site-packages\\plotly\\graph_objs\\_deprecations.py:39: DeprecationWarning:\n",
      "\n",
      "plotly.graph_objs.Data is deprecated.\n",
      "Please replace it with a list or tuple of instances of the following types\n",
      "  - plotly.graph_objs.Scatter\n",
      "  - plotly.graph_objs.Bar\n",
      "  - plotly.graph_objs.Area\n",
      "  - plotly.graph_objs.Histogram\n",
      "  - etc.\n",
      "\n",
      "\n"
     ]
    },
    {
     "data": {
      "application/vnd.plotly.v1+json": {
       "data": [
        {
         "marker": {
          "symbol": "circle"
         },
         "mode": "lines+markers",
         "name": "2010",
         "type": "scatter",
         "uid": "606bdd94-7c76-4840-9821-dd46c31f320d",
         "x": [
          1,
          2,
          3,
          4,
          5,
          6,
          7,
          8,
          9,
          10,
          11,
          12
         ],
         "y": [
          14982,
          14168,
          18678,
          3,
          6404,
          11767,
          14721,
          8678,
          14033,
          15331,
          17173,
          12768
         ]
        },
        {
         "marker": {
          "symbol": "square"
         },
         "mode": "lines+markers",
         "name": "2011",
         "type": "scatter",
         "uid": "358a9e87-5f9a-44d3-b17a-daa495beedfa",
         "x": [
          1,
          2,
          3,
          4,
          5,
          6,
          7,
          8,
          9,
          10,
          11,
          12
         ],
         "y": [
          16594,
          16060,
          19507,
          13056,
          15454,
          17104,
          15446,
          11036,
          14487,
          17025,
          18238,
          14670
         ]
        },
        {
         "marker": {
          "symbol": "diamond"
         },
         "mode": "lines+markers",
         "name": "2012",
         "type": "scatter",
         "uid": "94e0156b-5a9b-409d-bb89-f726f55b6013",
         "x": [
          1,
          2,
          3,
          4,
          5,
          6,
          7,
          8,
          9,
          10,
          11,
          12
         ],
         "y": [
          18280,
          16632,
          20934,
          15158,
          17693,
          16914,
          16474,
          11625,
          15488,
          16500,
          19149,
          14820
         ]
        },
        {
         "marker": {
          "symbol": "x"
         },
         "mode": "lines+markers",
         "name": "2013",
         "type": "scatter",
         "uid": "6608707c-f464-4e60-9d37-4b6e1ed09576",
         "x": [
          1,
          2,
          3,
          4,
          5,
          6,
          7,
          8,
          9,
          10,
          11,
          12
         ],
         "y": [
          18096,
          15954,
          21204,
          18070,
          17586,
          18859,
          17541,
          12182,
          15594,
          18882,
          18173,
          15040
         ]
        },
        {
         "marker": {
          "symbol": "triangle-up"
         },
         "mode": "lines+markers",
         "name": "2014",
         "type": "scatter",
         "uid": "103a0ad0-ed1f-4d56-856b-91c1c4e6490e",
         "x": [
          1,
          2,
          3,
          4,
          5,
          6,
          7,
          8,
          9,
          10,
          11,
          12
         ],
         "y": [
          15864,
          14272,
          16946,
          16146,
          15725,
          17207,
          16568,
          10784,
          14778,
          15783,
          15844,
          13679
         ]
        },
        {
         "marker": {
          "symbol": "cross"
         },
         "mode": "lines+markers",
         "name": "2015",
         "type": "scatter",
         "uid": "867bf0c8-8dca-46c9-83e4-09febbd2b5a1",
         "x": [
          1,
          2,
          3,
          4,
          5,
          6,
          7,
          8,
          9,
          10,
          11,
          12
         ],
         "y": [
          2728,
          0,
          1,
          5708,
          11556,
          17555,
          15992,
          10152,
          14207,
          14909,
          15070,
          9104
         ]
        }
       ],
       "layout": {
        "title": "Expense claims by month for 2010-2015",
        "xaxis": {
         "title": "Month"
        },
        "yaxis": {
         "title": " Number of expense claim"
        }
       }
      },
      "text/html": [
       "<div id=\"10607f8b-a8eb-4a68-9f00-fcab38579e17\" style=\"height: 525px; width: 100%;\" class=\"plotly-graph-div\"></div><script type=\"text/javascript\">require([\"plotly\"], function(Plotly) { window.PLOTLYENV=window.PLOTLYENV || {};window.PLOTLYENV.BASE_URL=\"https://plot.ly\";Plotly.newPlot(\"10607f8b-a8eb-4a68-9f00-fcab38579e17\", [{\"marker\": {\"symbol\": \"circle\"}, \"mode\": \"lines+markers\", \"name\": \"2010\", \"x\": [1, 2, 3, 4, 5, 6, 7, 8, 9, 10, 11, 12], \"y\": [14982, 14168, 18678, 3, 6404, 11767, 14721, 8678, 14033, 15331, 17173, 12768], \"type\": \"scatter\", \"uid\": \"606bdd94-7c76-4840-9821-dd46c31f320d\"}, {\"marker\": {\"symbol\": \"square\"}, \"mode\": \"lines+markers\", \"name\": \"2011\", \"x\": [1, 2, 3, 4, 5, 6, 7, 8, 9, 10, 11, 12], \"y\": [16594, 16060, 19507, 13056, 15454, 17104, 15446, 11036, 14487, 17025, 18238, 14670], \"type\": \"scatter\", \"uid\": \"358a9e87-5f9a-44d3-b17a-daa495beedfa\"}, {\"marker\": {\"symbol\": \"diamond\"}, \"mode\": \"lines+markers\", \"name\": \"2012\", \"x\": [1, 2, 3, 4, 5, 6, 7, 8, 9, 10, 11, 12], \"y\": [18280, 16632, 20934, 15158, 17693, 16914, 16474, 11625, 15488, 16500, 19149, 14820], \"type\": \"scatter\", \"uid\": \"94e0156b-5a9b-409d-bb89-f726f55b6013\"}, {\"marker\": {\"symbol\": \"x\"}, \"mode\": \"lines+markers\", \"name\": \"2013\", \"x\": [1, 2, 3, 4, 5, 6, 7, 8, 9, 10, 11, 12], \"y\": [18096, 15954, 21204, 18070, 17586, 18859, 17541, 12182, 15594, 18882, 18173, 15040], \"type\": \"scatter\", \"uid\": \"6608707c-f464-4e60-9d37-4b6e1ed09576\"}, {\"marker\": {\"symbol\": \"triangle-up\"}, \"mode\": \"lines+markers\", \"name\": \"2014\", \"x\": [1, 2, 3, 4, 5, 6, 7, 8, 9, 10, 11, 12], \"y\": [15864, 14272, 16946, 16146, 15725, 17207, 16568, 10784, 14778, 15783, 15844, 13679], \"type\": \"scatter\", \"uid\": \"103a0ad0-ed1f-4d56-856b-91c1c4e6490e\"}, {\"marker\": {\"symbol\": \"cross\"}, \"mode\": \"lines+markers\", \"name\": \"2015\", \"x\": [1, 2, 3, 4, 5, 6, 7, 8, 9, 10, 11, 12], \"y\": [2728.0, 0.0, 1.0, 5708.0, 11556.0, 17555.0, 15992.0, 10152.0, 14207.0, 14909.0, 15070.0, 9104.0], \"type\": \"scatter\", \"uid\": \"867bf0c8-8dca-46c9-83e4-09febbd2b5a1\"}], {\"title\": \"Expense claims by month for 2010-2015\", \"xaxis\": {\"title\": \"Month\"}, \"yaxis\": {\"title\": \" Number of expense claim\"}}, {\"showLink\": true, \"linkText\": \"Export to plot.ly\"})});</script><script type=\"text/javascript\">window.addEventListener(\"resize\", function(){window._Plotly.Plots.resize(document.getElementById(\"10607f8b-a8eb-4a68-9f00-fcab38579e17\"));});</script>"
      ],
      "text/vnd.plotly.v1+html": [
       "<div id=\"10607f8b-a8eb-4a68-9f00-fcab38579e17\" style=\"height: 525px; width: 100%;\" class=\"plotly-graph-div\"></div><script type=\"text/javascript\">require([\"plotly\"], function(Plotly) { window.PLOTLYENV=window.PLOTLYENV || {};window.PLOTLYENV.BASE_URL=\"https://plot.ly\";Plotly.newPlot(\"10607f8b-a8eb-4a68-9f00-fcab38579e17\", [{\"marker\": {\"symbol\": \"circle\"}, \"mode\": \"lines+markers\", \"name\": \"2010\", \"x\": [1, 2, 3, 4, 5, 6, 7, 8, 9, 10, 11, 12], \"y\": [14982, 14168, 18678, 3, 6404, 11767, 14721, 8678, 14033, 15331, 17173, 12768], \"type\": \"scatter\", \"uid\": \"606bdd94-7c76-4840-9821-dd46c31f320d\"}, {\"marker\": {\"symbol\": \"square\"}, \"mode\": \"lines+markers\", \"name\": \"2011\", \"x\": [1, 2, 3, 4, 5, 6, 7, 8, 9, 10, 11, 12], \"y\": [16594, 16060, 19507, 13056, 15454, 17104, 15446, 11036, 14487, 17025, 18238, 14670], \"type\": \"scatter\", \"uid\": \"358a9e87-5f9a-44d3-b17a-daa495beedfa\"}, {\"marker\": {\"symbol\": \"diamond\"}, \"mode\": \"lines+markers\", \"name\": \"2012\", \"x\": [1, 2, 3, 4, 5, 6, 7, 8, 9, 10, 11, 12], \"y\": [18280, 16632, 20934, 15158, 17693, 16914, 16474, 11625, 15488, 16500, 19149, 14820], \"type\": \"scatter\", \"uid\": \"94e0156b-5a9b-409d-bb89-f726f55b6013\"}, {\"marker\": {\"symbol\": \"x\"}, \"mode\": \"lines+markers\", \"name\": \"2013\", \"x\": [1, 2, 3, 4, 5, 6, 7, 8, 9, 10, 11, 12], \"y\": [18096, 15954, 21204, 18070, 17586, 18859, 17541, 12182, 15594, 18882, 18173, 15040], \"type\": \"scatter\", \"uid\": \"6608707c-f464-4e60-9d37-4b6e1ed09576\"}, {\"marker\": {\"symbol\": \"triangle-up\"}, \"mode\": \"lines+markers\", \"name\": \"2014\", \"x\": [1, 2, 3, 4, 5, 6, 7, 8, 9, 10, 11, 12], \"y\": [15864, 14272, 16946, 16146, 15725, 17207, 16568, 10784, 14778, 15783, 15844, 13679], \"type\": \"scatter\", \"uid\": \"103a0ad0-ed1f-4d56-856b-91c1c4e6490e\"}, {\"marker\": {\"symbol\": \"cross\"}, \"mode\": \"lines+markers\", \"name\": \"2015\", \"x\": [1, 2, 3, 4, 5, 6, 7, 8, 9, 10, 11, 12], \"y\": [2728.0, 0.0, 1.0, 5708.0, 11556.0, 17555.0, 15992.0, 10152.0, 14207.0, 14909.0, 15070.0, 9104.0], \"type\": \"scatter\", \"uid\": \"867bf0c8-8dca-46c9-83e4-09febbd2b5a1\"}], {\"title\": \"Expense claims by month for 2010-2015\", \"xaxis\": {\"title\": \"Month\"}, \"yaxis\": {\"title\": \" Number of expense claim\"}}, {\"showLink\": true, \"linkText\": \"Export to plot.ly\"})});</script><script type=\"text/javascript\">window.addEventListener(\"resize\", function(){window._Plotly.Plots.resize(document.getElementById(\"10607f8b-a8eb-4a68-9f00-fcab38579e17\"));});</script>"
      ]
     },
     "metadata": {},
     "output_type": "display_data"
    }
   ],
   "source": [
    "traces=[]\n",
    "for i ,yr in enumerate(range(2010,2016)):\n",
    "    \n",
    "    traces.append({'type': 'scatter',\n",
    "                    'x':expenseData['month'],\n",
    "                    'y':expenseData['NumberOfClaims'+str(yr)],\n",
    "                    'marker':{'symbol':markerSymbols[i]},\n",
    "                    'name':yr,\n",
    "                    'mode':'lines+markers'})\n",
    "data=Data(traces)\n",
    "\n",
    "layout={'title':'Expense claims by month for 2010-2015',\n",
    "       'xaxis':{'title':'Month'},\n",
    "       'yaxis':{'title':' Number of expense claim'} }\n",
    "fig=Figure(data=data,layout=layout)\n",
    "iplot(fig)"
   ]
  },
  {
   "cell_type": "code",
   "execution_count": 115,
   "metadata": {
    "collapsed": true
   },
   "outputs": [],
   "source": [
    "markerSymbols=['circle-open','square-open','diamond-open','x-open','triangle-up-open','cross-open']"
   ]
  },
  {
   "cell_type": "code",
   "execution_count": 117,
   "metadata": {},
   "outputs": [
    {
     "name": "stderr",
     "output_type": "stream",
     "text": [
      "C:\\Users\\Satish\\Anaconda3\\lib\\site-packages\\plotly\\graph_objs\\_deprecations.py:39: DeprecationWarning:\n",
      "\n",
      "plotly.graph_objs.Data is deprecated.\n",
      "Please replace it with a list or tuple of instances of the following types\n",
      "  - plotly.graph_objs.Scatter\n",
      "  - plotly.graph_objs.Bar\n",
      "  - plotly.graph_objs.Area\n",
      "  - plotly.graph_objs.Histogram\n",
      "  - etc.\n",
      "\n",
      "\n"
     ]
    },
    {
     "data": {
      "application/vnd.plotly.v1+json": {
       "data": [
        {
         "marker": {
          "symbol": "circle-open"
         },
         "mode": "lines+markers",
         "name": "2010",
         "type": "scatter",
         "uid": "4c10d535-414f-446a-8101-2232d4afe0ac",
         "x": [
          1,
          2,
          3,
          4,
          5,
          6,
          7,
          8,
          9,
          10,
          11,
          12
         ],
         "y": [
          14982,
          14168,
          18678,
          3,
          6404,
          11767,
          14721,
          8678,
          14033,
          15331,
          17173,
          12768
         ]
        },
        {
         "marker": {
          "symbol": "square-open"
         },
         "mode": "lines+markers",
         "name": "2011",
         "type": "scatter",
         "uid": "c675dc0e-4558-4402-bf6f-c0dd597eab3b",
         "x": [
          1,
          2,
          3,
          4,
          5,
          6,
          7,
          8,
          9,
          10,
          11,
          12
         ],
         "y": [
          16594,
          16060,
          19507,
          13056,
          15454,
          17104,
          15446,
          11036,
          14487,
          17025,
          18238,
          14670
         ]
        },
        {
         "marker": {
          "symbol": "diamond-open"
         },
         "mode": "lines+markers",
         "name": "2012",
         "type": "scatter",
         "uid": "24c50b91-8a51-4efa-a332-5feac0e95051",
         "x": [
          1,
          2,
          3,
          4,
          5,
          6,
          7,
          8,
          9,
          10,
          11,
          12
         ],
         "y": [
          18280,
          16632,
          20934,
          15158,
          17693,
          16914,
          16474,
          11625,
          15488,
          16500,
          19149,
          14820
         ]
        },
        {
         "marker": {
          "symbol": "x-open"
         },
         "mode": "lines+markers",
         "name": "2013",
         "type": "scatter",
         "uid": "1f2a6fa8-cc1c-4b07-8d4f-7c0a81f46a04",
         "x": [
          1,
          2,
          3,
          4,
          5,
          6,
          7,
          8,
          9,
          10,
          11,
          12
         ],
         "y": [
          18096,
          15954,
          21204,
          18070,
          17586,
          18859,
          17541,
          12182,
          15594,
          18882,
          18173,
          15040
         ]
        },
        {
         "marker": {
          "symbol": "triangle-up-open"
         },
         "mode": "lines+markers",
         "name": "2014",
         "type": "scatter",
         "uid": "31dc766a-0f57-4af2-9dda-6af3ac3ea82d",
         "x": [
          1,
          2,
          3,
          4,
          5,
          6,
          7,
          8,
          9,
          10,
          11,
          12
         ],
         "y": [
          15864,
          14272,
          16946,
          16146,
          15725,
          17207,
          16568,
          10784,
          14778,
          15783,
          15844,
          13679
         ]
        },
        {
         "marker": {
          "symbol": "cross-open"
         },
         "mode": "lines+markers",
         "name": "2015",
         "type": "scatter",
         "uid": "c786f69e-19e2-414c-b53f-7c97545bf8ef",
         "x": [
          1,
          2,
          3,
          4,
          5,
          6,
          7,
          8,
          9,
          10,
          11,
          12
         ],
         "y": [
          2728,
          0,
          1,
          5708,
          11556,
          17555,
          15992,
          10152,
          14207,
          14909,
          15070,
          9104
         ]
        }
       ],
       "layout": {
        "title": "Expense claims by month for 2010-2015",
        "xaxis": {
         "title": "Month"
        },
        "yaxis": {
         "title": " Number of expense claim"
        }
       }
      },
      "text/html": [
       "<div id=\"7b54334e-f9cc-44b1-a80b-23423e0f97b8\" style=\"height: 525px; width: 100%;\" class=\"plotly-graph-div\"></div><script type=\"text/javascript\">require([\"plotly\"], function(Plotly) { window.PLOTLYENV=window.PLOTLYENV || {};window.PLOTLYENV.BASE_URL=\"https://plot.ly\";Plotly.newPlot(\"7b54334e-f9cc-44b1-a80b-23423e0f97b8\", [{\"marker\": {\"symbol\": \"circle-open\"}, \"mode\": \"lines+markers\", \"name\": \"2010\", \"x\": [1, 2, 3, 4, 5, 6, 7, 8, 9, 10, 11, 12], \"y\": [14982, 14168, 18678, 3, 6404, 11767, 14721, 8678, 14033, 15331, 17173, 12768], \"type\": \"scatter\", \"uid\": \"4c10d535-414f-446a-8101-2232d4afe0ac\"}, {\"marker\": {\"symbol\": \"square-open\"}, \"mode\": \"lines+markers\", \"name\": \"2011\", \"x\": [1, 2, 3, 4, 5, 6, 7, 8, 9, 10, 11, 12], \"y\": [16594, 16060, 19507, 13056, 15454, 17104, 15446, 11036, 14487, 17025, 18238, 14670], \"type\": \"scatter\", \"uid\": \"c675dc0e-4558-4402-bf6f-c0dd597eab3b\"}, {\"marker\": {\"symbol\": \"diamond-open\"}, \"mode\": \"lines+markers\", \"name\": \"2012\", \"x\": [1, 2, 3, 4, 5, 6, 7, 8, 9, 10, 11, 12], \"y\": [18280, 16632, 20934, 15158, 17693, 16914, 16474, 11625, 15488, 16500, 19149, 14820], \"type\": \"scatter\", \"uid\": \"24c50b91-8a51-4efa-a332-5feac0e95051\"}, {\"marker\": {\"symbol\": \"x-open\"}, \"mode\": \"lines+markers\", \"name\": \"2013\", \"x\": [1, 2, 3, 4, 5, 6, 7, 8, 9, 10, 11, 12], \"y\": [18096, 15954, 21204, 18070, 17586, 18859, 17541, 12182, 15594, 18882, 18173, 15040], \"type\": \"scatter\", \"uid\": \"1f2a6fa8-cc1c-4b07-8d4f-7c0a81f46a04\"}, {\"marker\": {\"symbol\": \"triangle-up-open\"}, \"mode\": \"lines+markers\", \"name\": \"2014\", \"x\": [1, 2, 3, 4, 5, 6, 7, 8, 9, 10, 11, 12], \"y\": [15864, 14272, 16946, 16146, 15725, 17207, 16568, 10784, 14778, 15783, 15844, 13679], \"type\": \"scatter\", \"uid\": \"31dc766a-0f57-4af2-9dda-6af3ac3ea82d\"}, {\"marker\": {\"symbol\": \"cross-open\"}, \"mode\": \"lines+markers\", \"name\": \"2015\", \"x\": [1, 2, 3, 4, 5, 6, 7, 8, 9, 10, 11, 12], \"y\": [2728.0, 0.0, 1.0, 5708.0, 11556.0, 17555.0, 15992.0, 10152.0, 14207.0, 14909.0, 15070.0, 9104.0], \"type\": \"scatter\", \"uid\": \"c786f69e-19e2-414c-b53f-7c97545bf8ef\"}], {\"title\": \"Expense claims by month for 2010-2015\", \"xaxis\": {\"title\": \"Month\"}, \"yaxis\": {\"title\": \" Number of expense claim\"}}, {\"showLink\": true, \"linkText\": \"Export to plot.ly\"})});</script><script type=\"text/javascript\">window.addEventListener(\"resize\", function(){window._Plotly.Plots.resize(document.getElementById(\"7b54334e-f9cc-44b1-a80b-23423e0f97b8\"));});</script>"
      ],
      "text/vnd.plotly.v1+html": [
       "<div id=\"7b54334e-f9cc-44b1-a80b-23423e0f97b8\" style=\"height: 525px; width: 100%;\" class=\"plotly-graph-div\"></div><script type=\"text/javascript\">require([\"plotly\"], function(Plotly) { window.PLOTLYENV=window.PLOTLYENV || {};window.PLOTLYENV.BASE_URL=\"https://plot.ly\";Plotly.newPlot(\"7b54334e-f9cc-44b1-a80b-23423e0f97b8\", [{\"marker\": {\"symbol\": \"circle-open\"}, \"mode\": \"lines+markers\", \"name\": \"2010\", \"x\": [1, 2, 3, 4, 5, 6, 7, 8, 9, 10, 11, 12], \"y\": [14982, 14168, 18678, 3, 6404, 11767, 14721, 8678, 14033, 15331, 17173, 12768], \"type\": \"scatter\", \"uid\": \"4c10d535-414f-446a-8101-2232d4afe0ac\"}, {\"marker\": {\"symbol\": \"square-open\"}, \"mode\": \"lines+markers\", \"name\": \"2011\", \"x\": [1, 2, 3, 4, 5, 6, 7, 8, 9, 10, 11, 12], \"y\": [16594, 16060, 19507, 13056, 15454, 17104, 15446, 11036, 14487, 17025, 18238, 14670], \"type\": \"scatter\", \"uid\": \"c675dc0e-4558-4402-bf6f-c0dd597eab3b\"}, {\"marker\": {\"symbol\": \"diamond-open\"}, \"mode\": \"lines+markers\", \"name\": \"2012\", \"x\": [1, 2, 3, 4, 5, 6, 7, 8, 9, 10, 11, 12], \"y\": [18280, 16632, 20934, 15158, 17693, 16914, 16474, 11625, 15488, 16500, 19149, 14820], \"type\": \"scatter\", \"uid\": \"24c50b91-8a51-4efa-a332-5feac0e95051\"}, {\"marker\": {\"symbol\": \"x-open\"}, \"mode\": \"lines+markers\", \"name\": \"2013\", \"x\": [1, 2, 3, 4, 5, 6, 7, 8, 9, 10, 11, 12], \"y\": [18096, 15954, 21204, 18070, 17586, 18859, 17541, 12182, 15594, 18882, 18173, 15040], \"type\": \"scatter\", \"uid\": \"1f2a6fa8-cc1c-4b07-8d4f-7c0a81f46a04\"}, {\"marker\": {\"symbol\": \"triangle-up-open\"}, \"mode\": \"lines+markers\", \"name\": \"2014\", \"x\": [1, 2, 3, 4, 5, 6, 7, 8, 9, 10, 11, 12], \"y\": [15864, 14272, 16946, 16146, 15725, 17207, 16568, 10784, 14778, 15783, 15844, 13679], \"type\": \"scatter\", \"uid\": \"31dc766a-0f57-4af2-9dda-6af3ac3ea82d\"}, {\"marker\": {\"symbol\": \"cross-open\"}, \"mode\": \"lines+markers\", \"name\": \"2015\", \"x\": [1, 2, 3, 4, 5, 6, 7, 8, 9, 10, 11, 12], \"y\": [2728.0, 0.0, 1.0, 5708.0, 11556.0, 17555.0, 15992.0, 10152.0, 14207.0, 14909.0, 15070.0, 9104.0], \"type\": \"scatter\", \"uid\": \"c786f69e-19e2-414c-b53f-7c97545bf8ef\"}], {\"title\": \"Expense claims by month for 2010-2015\", \"xaxis\": {\"title\": \"Month\"}, \"yaxis\": {\"title\": \" Number of expense claim\"}}, {\"showLink\": true, \"linkText\": \"Export to plot.ly\"})});</script><script type=\"text/javascript\">window.addEventListener(\"resize\", function(){window._Plotly.Plots.resize(document.getElementById(\"7b54334e-f9cc-44b1-a80b-23423e0f97b8\"));});</script>"
      ]
     },
     "metadata": {},
     "output_type": "display_data"
    }
   ],
   "source": [
    "traces=[]\n",
    "for i ,yr in enumerate(range(2010,2016)):\n",
    "    \n",
    "    traces.append({'type': 'scatter',\n",
    "                    'x':expenseData['month'],\n",
    "                    'y':expenseData['NumberOfClaims'+str(yr)],\n",
    "                    'marker':{'symbol':markerSymbols[i]},\n",
    "                    'name':yr,\n",
    "                    'mode':'lines+markers'})\n",
    "data=Data(traces)\n",
    "\n",
    "layout={'title':'Expense claims by month for 2010-2015',\n",
    "       'xaxis':{'title':'Month'},\n",
    "       'yaxis':{'title':' Number of expense claim'} }\n",
    "fig=Figure(data=data,layout=layout)\n",
    "iplot(fig)"
   ]
  },
  {
   "cell_type": "code",
   "execution_count": 118,
   "metadata": {
    "collapsed": true
   },
   "outputs": [],
   "source": [
    "markerSymbolsDot=['circle-dot','square-dot','diamond-dot','x-dot','triangle-up-dot','cross-dot']"
   ]
  },
  {
   "cell_type": "code",
   "execution_count": 121,
   "metadata": {},
   "outputs": [
    {
     "name": "stderr",
     "output_type": "stream",
     "text": [
      "C:\\Users\\Satish\\Anaconda3\\lib\\site-packages\\plotly\\graph_objs\\_deprecations.py:39: DeprecationWarning:\n",
      "\n",
      "plotly.graph_objs.Data is deprecated.\n",
      "Please replace it with a list or tuple of instances of the following types\n",
      "  - plotly.graph_objs.Scatter\n",
      "  - plotly.graph_objs.Bar\n",
      "  - plotly.graph_objs.Area\n",
      "  - plotly.graph_objs.Histogram\n",
      "  - etc.\n",
      "\n",
      "\n"
     ]
    },
    {
     "data": {
      "application/vnd.plotly.v1+json": {
       "data": [
        {
         "marker": {
          "line": {
           "width": 1
          },
          "size": 10,
          "symbol": "circle-dot"
         },
         "mode": "markers",
         "name": "2010",
         "type": "scatter",
         "uid": "561f9014-9edf-4f6e-890d-090395eae57d",
         "x": [
          1,
          2,
          3,
          4,
          5,
          6,
          7,
          8,
          9,
          10,
          11,
          12
         ],
         "y": [
          14982,
          14168,
          18678,
          3,
          6404,
          11767,
          14721,
          8678,
          14033,
          15331,
          17173,
          12768
         ]
        },
        {
         "marker": {
          "line": {
           "width": 1
          },
          "size": 10,
          "symbol": "square-dot"
         },
         "mode": "markers",
         "name": "2011",
         "type": "scatter",
         "uid": "1876c9e8-5c9e-49b2-bfea-8cf2cfb71d44",
         "x": [
          1,
          2,
          3,
          4,
          5,
          6,
          7,
          8,
          9,
          10,
          11,
          12
         ],
         "y": [
          16594,
          16060,
          19507,
          13056,
          15454,
          17104,
          15446,
          11036,
          14487,
          17025,
          18238,
          14670
         ]
        },
        {
         "marker": {
          "line": {
           "width": 1
          },
          "size": 10,
          "symbol": "diamond-dot"
         },
         "mode": "markers",
         "name": "2012",
         "type": "scatter",
         "uid": "69948b58-31cf-4598-ad58-b7a40181e586",
         "x": [
          1,
          2,
          3,
          4,
          5,
          6,
          7,
          8,
          9,
          10,
          11,
          12
         ],
         "y": [
          18280,
          16632,
          20934,
          15158,
          17693,
          16914,
          16474,
          11625,
          15488,
          16500,
          19149,
          14820
         ]
        },
        {
         "marker": {
          "line": {
           "width": 1
          },
          "size": 10,
          "symbol": "x-dot"
         },
         "mode": "markers",
         "name": "2013",
         "type": "scatter",
         "uid": "57598728-7c5a-4efe-b44b-23997c3d414c",
         "x": [
          1,
          2,
          3,
          4,
          5,
          6,
          7,
          8,
          9,
          10,
          11,
          12
         ],
         "y": [
          18096,
          15954,
          21204,
          18070,
          17586,
          18859,
          17541,
          12182,
          15594,
          18882,
          18173,
          15040
         ]
        },
        {
         "marker": {
          "line": {
           "width": 1
          },
          "size": 10,
          "symbol": "triangle-up-dot"
         },
         "mode": "markers",
         "name": "2014",
         "type": "scatter",
         "uid": "15cca79c-7fb3-44d4-ad28-a0f97c209712",
         "x": [
          1,
          2,
          3,
          4,
          5,
          6,
          7,
          8,
          9,
          10,
          11,
          12
         ],
         "y": [
          15864,
          14272,
          16946,
          16146,
          15725,
          17207,
          16568,
          10784,
          14778,
          15783,
          15844,
          13679
         ]
        },
        {
         "marker": {
          "line": {
           "width": 1
          },
          "size": 10,
          "symbol": "cross-dot"
         },
         "mode": "markers",
         "name": "2015",
         "type": "scatter",
         "uid": "aeb4d48e-6517-4a86-bf20-b8595a34b60c",
         "x": [
          1,
          2,
          3,
          4,
          5,
          6,
          7,
          8,
          9,
          10,
          11,
          12
         ],
         "y": [
          2728,
          0,
          1,
          5708,
          11556,
          17555,
          15992,
          10152,
          14207,
          14909,
          15070,
          9104
         ]
        }
       ],
       "layout": {
        "title": "Expense claims by month for 2010-2015",
        "xaxis": {
         "title": "Month"
        },
        "yaxis": {
         "title": " Number of expense claim"
        }
       }
      },
      "text/html": [
       "<div id=\"bf7cebaf-d29e-467b-9526-432b1b71cf5e\" style=\"height: 525px; width: 100%;\" class=\"plotly-graph-div\"></div><script type=\"text/javascript\">require([\"plotly\"], function(Plotly) { window.PLOTLYENV=window.PLOTLYENV || {};window.PLOTLYENV.BASE_URL=\"https://plot.ly\";Plotly.newPlot(\"bf7cebaf-d29e-467b-9526-432b1b71cf5e\", [{\"marker\": {\"line\": {\"width\": 1}, \"size\": 10, \"symbol\": \"circle-dot\"}, \"mode\": \"markers\", \"name\": \"2010\", \"x\": [1, 2, 3, 4, 5, 6, 7, 8, 9, 10, 11, 12], \"y\": [14982, 14168, 18678, 3, 6404, 11767, 14721, 8678, 14033, 15331, 17173, 12768], \"type\": \"scatter\", \"uid\": \"561f9014-9edf-4f6e-890d-090395eae57d\"}, {\"marker\": {\"line\": {\"width\": 1}, \"size\": 10, \"symbol\": \"square-dot\"}, \"mode\": \"markers\", \"name\": \"2011\", \"x\": [1, 2, 3, 4, 5, 6, 7, 8, 9, 10, 11, 12], \"y\": [16594, 16060, 19507, 13056, 15454, 17104, 15446, 11036, 14487, 17025, 18238, 14670], \"type\": \"scatter\", \"uid\": \"1876c9e8-5c9e-49b2-bfea-8cf2cfb71d44\"}, {\"marker\": {\"line\": {\"width\": 1}, \"size\": 10, \"symbol\": \"diamond-dot\"}, \"mode\": \"markers\", \"name\": \"2012\", \"x\": [1, 2, 3, 4, 5, 6, 7, 8, 9, 10, 11, 12], \"y\": [18280, 16632, 20934, 15158, 17693, 16914, 16474, 11625, 15488, 16500, 19149, 14820], \"type\": \"scatter\", \"uid\": \"69948b58-31cf-4598-ad58-b7a40181e586\"}, {\"marker\": {\"line\": {\"width\": 1}, \"size\": 10, \"symbol\": \"x-dot\"}, \"mode\": \"markers\", \"name\": \"2013\", \"x\": [1, 2, 3, 4, 5, 6, 7, 8, 9, 10, 11, 12], \"y\": [18096, 15954, 21204, 18070, 17586, 18859, 17541, 12182, 15594, 18882, 18173, 15040], \"type\": \"scatter\", \"uid\": \"57598728-7c5a-4efe-b44b-23997c3d414c\"}, {\"marker\": {\"line\": {\"width\": 1}, \"size\": 10, \"symbol\": \"triangle-up-dot\"}, \"mode\": \"markers\", \"name\": \"2014\", \"x\": [1, 2, 3, 4, 5, 6, 7, 8, 9, 10, 11, 12], \"y\": [15864, 14272, 16946, 16146, 15725, 17207, 16568, 10784, 14778, 15783, 15844, 13679], \"type\": \"scatter\", \"uid\": \"15cca79c-7fb3-44d4-ad28-a0f97c209712\"}, {\"marker\": {\"line\": {\"width\": 1}, \"size\": 10, \"symbol\": \"cross-dot\"}, \"mode\": \"markers\", \"name\": \"2015\", \"x\": [1, 2, 3, 4, 5, 6, 7, 8, 9, 10, 11, 12], \"y\": [2728.0, 0.0, 1.0, 5708.0, 11556.0, 17555.0, 15992.0, 10152.0, 14207.0, 14909.0, 15070.0, 9104.0], \"type\": \"scatter\", \"uid\": \"aeb4d48e-6517-4a86-bf20-b8595a34b60c\"}], {\"title\": \"Expense claims by month for 2010-2015\", \"xaxis\": {\"title\": \"Month\"}, \"yaxis\": {\"title\": \" Number of expense claim\"}}, {\"showLink\": true, \"linkText\": \"Export to plot.ly\"})});</script><script type=\"text/javascript\">window.addEventListener(\"resize\", function(){window._Plotly.Plots.resize(document.getElementById(\"bf7cebaf-d29e-467b-9526-432b1b71cf5e\"));});</script>"
      ],
      "text/vnd.plotly.v1+html": [
       "<div id=\"bf7cebaf-d29e-467b-9526-432b1b71cf5e\" style=\"height: 525px; width: 100%;\" class=\"plotly-graph-div\"></div><script type=\"text/javascript\">require([\"plotly\"], function(Plotly) { window.PLOTLYENV=window.PLOTLYENV || {};window.PLOTLYENV.BASE_URL=\"https://plot.ly\";Plotly.newPlot(\"bf7cebaf-d29e-467b-9526-432b1b71cf5e\", [{\"marker\": {\"line\": {\"width\": 1}, \"size\": 10, \"symbol\": \"circle-dot\"}, \"mode\": \"markers\", \"name\": \"2010\", \"x\": [1, 2, 3, 4, 5, 6, 7, 8, 9, 10, 11, 12], \"y\": [14982, 14168, 18678, 3, 6404, 11767, 14721, 8678, 14033, 15331, 17173, 12768], \"type\": \"scatter\", \"uid\": \"561f9014-9edf-4f6e-890d-090395eae57d\"}, {\"marker\": {\"line\": {\"width\": 1}, \"size\": 10, \"symbol\": \"square-dot\"}, \"mode\": \"markers\", \"name\": \"2011\", \"x\": [1, 2, 3, 4, 5, 6, 7, 8, 9, 10, 11, 12], \"y\": [16594, 16060, 19507, 13056, 15454, 17104, 15446, 11036, 14487, 17025, 18238, 14670], \"type\": \"scatter\", \"uid\": \"1876c9e8-5c9e-49b2-bfea-8cf2cfb71d44\"}, {\"marker\": {\"line\": {\"width\": 1}, \"size\": 10, \"symbol\": \"diamond-dot\"}, \"mode\": \"markers\", \"name\": \"2012\", \"x\": [1, 2, 3, 4, 5, 6, 7, 8, 9, 10, 11, 12], \"y\": [18280, 16632, 20934, 15158, 17693, 16914, 16474, 11625, 15488, 16500, 19149, 14820], \"type\": \"scatter\", \"uid\": \"69948b58-31cf-4598-ad58-b7a40181e586\"}, {\"marker\": {\"line\": {\"width\": 1}, \"size\": 10, \"symbol\": \"x-dot\"}, \"mode\": \"markers\", \"name\": \"2013\", \"x\": [1, 2, 3, 4, 5, 6, 7, 8, 9, 10, 11, 12], \"y\": [18096, 15954, 21204, 18070, 17586, 18859, 17541, 12182, 15594, 18882, 18173, 15040], \"type\": \"scatter\", \"uid\": \"57598728-7c5a-4efe-b44b-23997c3d414c\"}, {\"marker\": {\"line\": {\"width\": 1}, \"size\": 10, \"symbol\": \"triangle-up-dot\"}, \"mode\": \"markers\", \"name\": \"2014\", \"x\": [1, 2, 3, 4, 5, 6, 7, 8, 9, 10, 11, 12], \"y\": [15864, 14272, 16946, 16146, 15725, 17207, 16568, 10784, 14778, 15783, 15844, 13679], \"type\": \"scatter\", \"uid\": \"15cca79c-7fb3-44d4-ad28-a0f97c209712\"}, {\"marker\": {\"line\": {\"width\": 1}, \"size\": 10, \"symbol\": \"cross-dot\"}, \"mode\": \"markers\", \"name\": \"2015\", \"x\": [1, 2, 3, 4, 5, 6, 7, 8, 9, 10, 11, 12], \"y\": [2728.0, 0.0, 1.0, 5708.0, 11556.0, 17555.0, 15992.0, 10152.0, 14207.0, 14909.0, 15070.0, 9104.0], \"type\": \"scatter\", \"uid\": \"aeb4d48e-6517-4a86-bf20-b8595a34b60c\"}], {\"title\": \"Expense claims by month for 2010-2015\", \"xaxis\": {\"title\": \"Month\"}, \"yaxis\": {\"title\": \" Number of expense claim\"}}, {\"showLink\": true, \"linkText\": \"Export to plot.ly\"})});</script><script type=\"text/javascript\">window.addEventListener(\"resize\", function(){window._Plotly.Plots.resize(document.getElementById(\"bf7cebaf-d29e-467b-9526-432b1b71cf5e\"));});</script>"
      ]
     },
     "metadata": {},
     "output_type": "display_data"
    }
   ],
   "source": [
    "traces=[]\n",
    "for i ,yr in enumerate(range(2010,2016)):\n",
    "    \n",
    "    traces.append({'type': 'scatter',\n",
    "                    'x':expenseData['month'],\n",
    "                    'y':expenseData['NumberOfClaims'+str(yr)],\n",
    "                    'marker':{'symbol':markerSymbolsDot[i],\n",
    "                              'size':10,\n",
    "                              'line':{'width':1}},\n",
    "                    'name':yr,\n",
    "                    'mode':'markers'})\n",
    "data=Data(traces)\n",
    "\n",
    "layout={'title':'Expense claims by month for 2010-2015',\n",
    "       'xaxis':{'title':'Month'},\n",
    "       'yaxis':{'title':' Number of expense claim'} }\n",
    "fig=Figure(data=data,layout=layout)\n",
    "iplot(fig)"
   ]
  },
  {
   "cell_type": "code",
   "execution_count": 123,
   "metadata": {
    "collapsed": true
   },
   "outputs": [],
   "source": [
    "markerSymbolsOpenDot=['circle-open-dot','square-open-dot','diamond-open-dot','x-open-dot','triangle-up-open-dot','cross-open-dot']"
   ]
  },
  {
   "cell_type": "code",
   "execution_count": 124,
   "metadata": {},
   "outputs": [
    {
     "name": "stderr",
     "output_type": "stream",
     "text": [
      "C:\\Users\\Satish\\Anaconda3\\lib\\site-packages\\plotly\\graph_objs\\_deprecations.py:39: DeprecationWarning:\n",
      "\n",
      "plotly.graph_objs.Data is deprecated.\n",
      "Please replace it with a list or tuple of instances of the following types\n",
      "  - plotly.graph_objs.Scatter\n",
      "  - plotly.graph_objs.Bar\n",
      "  - plotly.graph_objs.Area\n",
      "  - plotly.graph_objs.Histogram\n",
      "  - etc.\n",
      "\n",
      "\n"
     ]
    },
    {
     "data": {
      "application/vnd.plotly.v1+json": {
       "data": [
        {
         "marker": {
          "line": {
           "width": 1
          },
          "size": 10,
          "symbol": "circle-open-dot"
         },
         "mode": "markers",
         "name": "2010",
         "type": "scatter",
         "uid": "6f93170b-bf08-4ec4-83b8-e9f5f9d43d88",
         "x": [
          1,
          2,
          3,
          4,
          5,
          6,
          7,
          8,
          9,
          10,
          11,
          12
         ],
         "y": [
          14982,
          14168,
          18678,
          3,
          6404,
          11767,
          14721,
          8678,
          14033,
          15331,
          17173,
          12768
         ]
        },
        {
         "marker": {
          "line": {
           "width": 1
          },
          "size": 10,
          "symbol": "square-open-dot"
         },
         "mode": "markers",
         "name": "2011",
         "type": "scatter",
         "uid": "617435c9-a6fb-41fe-ad7f-d12db1997ba7",
         "x": [
          1,
          2,
          3,
          4,
          5,
          6,
          7,
          8,
          9,
          10,
          11,
          12
         ],
         "y": [
          16594,
          16060,
          19507,
          13056,
          15454,
          17104,
          15446,
          11036,
          14487,
          17025,
          18238,
          14670
         ]
        },
        {
         "marker": {
          "line": {
           "width": 1
          },
          "size": 10,
          "symbol": "diamond-open-dot"
         },
         "mode": "markers",
         "name": "2012",
         "type": "scatter",
         "uid": "a626ca5b-d5e7-436c-a0f7-0ebd8cde12fd",
         "x": [
          1,
          2,
          3,
          4,
          5,
          6,
          7,
          8,
          9,
          10,
          11,
          12
         ],
         "y": [
          18280,
          16632,
          20934,
          15158,
          17693,
          16914,
          16474,
          11625,
          15488,
          16500,
          19149,
          14820
         ]
        },
        {
         "marker": {
          "line": {
           "width": 1
          },
          "size": 10,
          "symbol": "x-open-dot"
         },
         "mode": "markers",
         "name": "2013",
         "type": "scatter",
         "uid": "5fb73d4b-fa38-46a1-97f6-e684545518ca",
         "x": [
          1,
          2,
          3,
          4,
          5,
          6,
          7,
          8,
          9,
          10,
          11,
          12
         ],
         "y": [
          18096,
          15954,
          21204,
          18070,
          17586,
          18859,
          17541,
          12182,
          15594,
          18882,
          18173,
          15040
         ]
        },
        {
         "marker": {
          "line": {
           "width": 1
          },
          "size": 10,
          "symbol": "triangle-up-open-dot"
         },
         "mode": "markers",
         "name": "2014",
         "type": "scatter",
         "uid": "0c586cad-4747-44f2-a0c9-512d19ed12ff",
         "x": [
          1,
          2,
          3,
          4,
          5,
          6,
          7,
          8,
          9,
          10,
          11,
          12
         ],
         "y": [
          15864,
          14272,
          16946,
          16146,
          15725,
          17207,
          16568,
          10784,
          14778,
          15783,
          15844,
          13679
         ]
        },
        {
         "marker": {
          "line": {
           "width": 1
          },
          "size": 10,
          "symbol": "cross-open-dot"
         },
         "mode": "markers",
         "name": "2015",
         "type": "scatter",
         "uid": "6259fec6-e802-466b-a1a1-8c8f1c0df266",
         "x": [
          1,
          2,
          3,
          4,
          5,
          6,
          7,
          8,
          9,
          10,
          11,
          12
         ],
         "y": [
          2728,
          0,
          1,
          5708,
          11556,
          17555,
          15992,
          10152,
          14207,
          14909,
          15070,
          9104
         ]
        }
       ],
       "layout": {
        "title": "Expense claims by month for 2010-2015",
        "xaxis": {
         "title": "Month"
        },
        "yaxis": {
         "title": " Number of expense claim"
        }
       }
      },
      "text/html": [
       "<div id=\"4a0dca23-b70e-46fe-82cd-21b6ad3185bd\" style=\"height: 525px; width: 100%;\" class=\"plotly-graph-div\"></div><script type=\"text/javascript\">require([\"plotly\"], function(Plotly) { window.PLOTLYENV=window.PLOTLYENV || {};window.PLOTLYENV.BASE_URL=\"https://plot.ly\";Plotly.newPlot(\"4a0dca23-b70e-46fe-82cd-21b6ad3185bd\", [{\"marker\": {\"line\": {\"width\": 1}, \"size\": 10, \"symbol\": \"circle-open-dot\"}, \"mode\": \"markers\", \"name\": \"2010\", \"x\": [1, 2, 3, 4, 5, 6, 7, 8, 9, 10, 11, 12], \"y\": [14982, 14168, 18678, 3, 6404, 11767, 14721, 8678, 14033, 15331, 17173, 12768], \"type\": \"scatter\", \"uid\": \"6f93170b-bf08-4ec4-83b8-e9f5f9d43d88\"}, {\"marker\": {\"line\": {\"width\": 1}, \"size\": 10, \"symbol\": \"square-open-dot\"}, \"mode\": \"markers\", \"name\": \"2011\", \"x\": [1, 2, 3, 4, 5, 6, 7, 8, 9, 10, 11, 12], \"y\": [16594, 16060, 19507, 13056, 15454, 17104, 15446, 11036, 14487, 17025, 18238, 14670], \"type\": \"scatter\", \"uid\": \"617435c9-a6fb-41fe-ad7f-d12db1997ba7\"}, {\"marker\": {\"line\": {\"width\": 1}, \"size\": 10, \"symbol\": \"diamond-open-dot\"}, \"mode\": \"markers\", \"name\": \"2012\", \"x\": [1, 2, 3, 4, 5, 6, 7, 8, 9, 10, 11, 12], \"y\": [18280, 16632, 20934, 15158, 17693, 16914, 16474, 11625, 15488, 16500, 19149, 14820], \"type\": \"scatter\", \"uid\": \"a626ca5b-d5e7-436c-a0f7-0ebd8cde12fd\"}, {\"marker\": {\"line\": {\"width\": 1}, \"size\": 10, \"symbol\": \"x-open-dot\"}, \"mode\": \"markers\", \"name\": \"2013\", \"x\": [1, 2, 3, 4, 5, 6, 7, 8, 9, 10, 11, 12], \"y\": [18096, 15954, 21204, 18070, 17586, 18859, 17541, 12182, 15594, 18882, 18173, 15040], \"type\": \"scatter\", \"uid\": \"5fb73d4b-fa38-46a1-97f6-e684545518ca\"}, {\"marker\": {\"line\": {\"width\": 1}, \"size\": 10, \"symbol\": \"triangle-up-open-dot\"}, \"mode\": \"markers\", \"name\": \"2014\", \"x\": [1, 2, 3, 4, 5, 6, 7, 8, 9, 10, 11, 12], \"y\": [15864, 14272, 16946, 16146, 15725, 17207, 16568, 10784, 14778, 15783, 15844, 13679], \"type\": \"scatter\", \"uid\": \"0c586cad-4747-44f2-a0c9-512d19ed12ff\"}, {\"marker\": {\"line\": {\"width\": 1}, \"size\": 10, \"symbol\": \"cross-open-dot\"}, \"mode\": \"markers\", \"name\": \"2015\", \"x\": [1, 2, 3, 4, 5, 6, 7, 8, 9, 10, 11, 12], \"y\": [2728.0, 0.0, 1.0, 5708.0, 11556.0, 17555.0, 15992.0, 10152.0, 14207.0, 14909.0, 15070.0, 9104.0], \"type\": \"scatter\", \"uid\": \"6259fec6-e802-466b-a1a1-8c8f1c0df266\"}], {\"title\": \"Expense claims by month for 2010-2015\", \"xaxis\": {\"title\": \"Month\"}, \"yaxis\": {\"title\": \" Number of expense claim\"}}, {\"showLink\": true, \"linkText\": \"Export to plot.ly\"})});</script><script type=\"text/javascript\">window.addEventListener(\"resize\", function(){window._Plotly.Plots.resize(document.getElementById(\"4a0dca23-b70e-46fe-82cd-21b6ad3185bd\"));});</script>"
      ],
      "text/vnd.plotly.v1+html": [
       "<div id=\"4a0dca23-b70e-46fe-82cd-21b6ad3185bd\" style=\"height: 525px; width: 100%;\" class=\"plotly-graph-div\"></div><script type=\"text/javascript\">require([\"plotly\"], function(Plotly) { window.PLOTLYENV=window.PLOTLYENV || {};window.PLOTLYENV.BASE_URL=\"https://plot.ly\";Plotly.newPlot(\"4a0dca23-b70e-46fe-82cd-21b6ad3185bd\", [{\"marker\": {\"line\": {\"width\": 1}, \"size\": 10, \"symbol\": \"circle-open-dot\"}, \"mode\": \"markers\", \"name\": \"2010\", \"x\": [1, 2, 3, 4, 5, 6, 7, 8, 9, 10, 11, 12], \"y\": [14982, 14168, 18678, 3, 6404, 11767, 14721, 8678, 14033, 15331, 17173, 12768], \"type\": \"scatter\", \"uid\": \"6f93170b-bf08-4ec4-83b8-e9f5f9d43d88\"}, {\"marker\": {\"line\": {\"width\": 1}, \"size\": 10, \"symbol\": \"square-open-dot\"}, \"mode\": \"markers\", \"name\": \"2011\", \"x\": [1, 2, 3, 4, 5, 6, 7, 8, 9, 10, 11, 12], \"y\": [16594, 16060, 19507, 13056, 15454, 17104, 15446, 11036, 14487, 17025, 18238, 14670], \"type\": \"scatter\", \"uid\": \"617435c9-a6fb-41fe-ad7f-d12db1997ba7\"}, {\"marker\": {\"line\": {\"width\": 1}, \"size\": 10, \"symbol\": \"diamond-open-dot\"}, \"mode\": \"markers\", \"name\": \"2012\", \"x\": [1, 2, 3, 4, 5, 6, 7, 8, 9, 10, 11, 12], \"y\": [18280, 16632, 20934, 15158, 17693, 16914, 16474, 11625, 15488, 16500, 19149, 14820], \"type\": \"scatter\", \"uid\": \"a626ca5b-d5e7-436c-a0f7-0ebd8cde12fd\"}, {\"marker\": {\"line\": {\"width\": 1}, \"size\": 10, \"symbol\": \"x-open-dot\"}, \"mode\": \"markers\", \"name\": \"2013\", \"x\": [1, 2, 3, 4, 5, 6, 7, 8, 9, 10, 11, 12], \"y\": [18096, 15954, 21204, 18070, 17586, 18859, 17541, 12182, 15594, 18882, 18173, 15040], \"type\": \"scatter\", \"uid\": \"5fb73d4b-fa38-46a1-97f6-e684545518ca\"}, {\"marker\": {\"line\": {\"width\": 1}, \"size\": 10, \"symbol\": \"triangle-up-open-dot\"}, \"mode\": \"markers\", \"name\": \"2014\", \"x\": [1, 2, 3, 4, 5, 6, 7, 8, 9, 10, 11, 12], \"y\": [15864, 14272, 16946, 16146, 15725, 17207, 16568, 10784, 14778, 15783, 15844, 13679], \"type\": \"scatter\", \"uid\": \"0c586cad-4747-44f2-a0c9-512d19ed12ff\"}, {\"marker\": {\"line\": {\"width\": 1}, \"size\": 10, \"symbol\": \"cross-open-dot\"}, \"mode\": \"markers\", \"name\": \"2015\", \"x\": [1, 2, 3, 4, 5, 6, 7, 8, 9, 10, 11, 12], \"y\": [2728.0, 0.0, 1.0, 5708.0, 11556.0, 17555.0, 15992.0, 10152.0, 14207.0, 14909.0, 15070.0, 9104.0], \"type\": \"scatter\", \"uid\": \"6259fec6-e802-466b-a1a1-8c8f1c0df266\"}], {\"title\": \"Expense claims by month for 2010-2015\", \"xaxis\": {\"title\": \"Month\"}, \"yaxis\": {\"title\": \" Number of expense claim\"}}, {\"showLink\": true, \"linkText\": \"Export to plot.ly\"})});</script><script type=\"text/javascript\">window.addEventListener(\"resize\", function(){window._Plotly.Plots.resize(document.getElementById(\"4a0dca23-b70e-46fe-82cd-21b6ad3185bd\"));});</script>"
      ]
     },
     "metadata": {},
     "output_type": "display_data"
    }
   ],
   "source": [
    "traces=[]\n",
    "for i ,yr in enumerate(range(2010,2016)):\n",
    "    \n",
    "    traces.append({'type': 'scatter',\n",
    "                    'x':expenseData['month'],\n",
    "                    'y':expenseData['NumberOfClaims'+str(yr)],\n",
    "                    'marker':{'symbol':markerSymbolsOpenDot[i],\n",
    "                              'size':10,\n",
    "                              'line':{'width':1}},\n",
    "                    'name':yr,\n",
    "                    'mode':'markers'})\n",
    "data=Data(traces)\n",
    "\n",
    "layout={'title':'Expense claims by month for 2010-2015',\n",
    "       'xaxis':{'title':'Month'},\n",
    "       'yaxis':{'title':' Number of expense claim'} }\n",
    "fig=Figure(data=data,layout=layout)\n",
    "iplot(fig)"
   ]
  },
  {
   "cell_type": "code",
   "execution_count": 127,
   "metadata": {
    "collapsed": true
   },
   "outputs": [],
   "source": [
    "markerSymbolNum=[1,101,201,301,25,125]"
   ]
  },
  {
   "cell_type": "code",
   "execution_count": 128,
   "metadata": {},
   "outputs": [
    {
     "name": "stderr",
     "output_type": "stream",
     "text": [
      "C:\\Users\\Satish\\Anaconda3\\lib\\site-packages\\plotly\\graph_objs\\_deprecations.py:39: DeprecationWarning:\n",
      "\n",
      "plotly.graph_objs.Data is deprecated.\n",
      "Please replace it with a list or tuple of instances of the following types\n",
      "  - plotly.graph_objs.Scatter\n",
      "  - plotly.graph_objs.Bar\n",
      "  - plotly.graph_objs.Area\n",
      "  - plotly.graph_objs.Histogram\n",
      "  - etc.\n",
      "\n",
      "\n"
     ]
    },
    {
     "data": {
      "application/vnd.plotly.v1+json": {
       "data": [
        {
         "marker": {
          "line": {
           "width": 1
          },
          "size": 10,
          "symbol": 1
         },
         "mode": "markers",
         "name": "2010",
         "type": "scatter",
         "uid": "76d68ae7-4695-4c87-8266-3c20f073e90f",
         "x": [
          1,
          2,
          3,
          4,
          5,
          6,
          7,
          8,
          9,
          10,
          11,
          12
         ],
         "y": [
          14982,
          14168,
          18678,
          3,
          6404,
          11767,
          14721,
          8678,
          14033,
          15331,
          17173,
          12768
         ]
        },
        {
         "marker": {
          "line": {
           "width": 1
          },
          "size": 10,
          "symbol": 101
         },
         "mode": "markers",
         "name": "2011",
         "type": "scatter",
         "uid": "42a49e70-ef80-4020-9e7e-11dbf18db445",
         "x": [
          1,
          2,
          3,
          4,
          5,
          6,
          7,
          8,
          9,
          10,
          11,
          12
         ],
         "y": [
          16594,
          16060,
          19507,
          13056,
          15454,
          17104,
          15446,
          11036,
          14487,
          17025,
          18238,
          14670
         ]
        },
        {
         "marker": {
          "line": {
           "width": 1
          },
          "size": 10,
          "symbol": 201
         },
         "mode": "markers",
         "name": "2012",
         "type": "scatter",
         "uid": "963ca80a-a3da-4375-9ecb-567d6dfbca83",
         "x": [
          1,
          2,
          3,
          4,
          5,
          6,
          7,
          8,
          9,
          10,
          11,
          12
         ],
         "y": [
          18280,
          16632,
          20934,
          15158,
          17693,
          16914,
          16474,
          11625,
          15488,
          16500,
          19149,
          14820
         ]
        },
        {
         "marker": {
          "line": {
           "width": 1
          },
          "size": 10,
          "symbol": 301
         },
         "mode": "markers",
         "name": "2013",
         "type": "scatter",
         "uid": "0c21bbec-b0d3-4561-a63a-59245d62b6c1",
         "x": [
          1,
          2,
          3,
          4,
          5,
          6,
          7,
          8,
          9,
          10,
          11,
          12
         ],
         "y": [
          18096,
          15954,
          21204,
          18070,
          17586,
          18859,
          17541,
          12182,
          15594,
          18882,
          18173,
          15040
         ]
        },
        {
         "marker": {
          "line": {
           "width": 1
          },
          "size": 10,
          "symbol": 25
         },
         "mode": "markers",
         "name": "2014",
         "type": "scatter",
         "uid": "4ed59836-d2d4-4066-86b0-0a6b9e3a45c3",
         "x": [
          1,
          2,
          3,
          4,
          5,
          6,
          7,
          8,
          9,
          10,
          11,
          12
         ],
         "y": [
          15864,
          14272,
          16946,
          16146,
          15725,
          17207,
          16568,
          10784,
          14778,
          15783,
          15844,
          13679
         ]
        },
        {
         "marker": {
          "line": {
           "width": 1
          },
          "size": 10,
          "symbol": 125
         },
         "mode": "markers",
         "name": "2015",
         "type": "scatter",
         "uid": "aa839354-ff6e-4d39-878f-28b798e93dd9",
         "x": [
          1,
          2,
          3,
          4,
          5,
          6,
          7,
          8,
          9,
          10,
          11,
          12
         ],
         "y": [
          2728,
          0,
          1,
          5708,
          11556,
          17555,
          15992,
          10152,
          14207,
          14909,
          15070,
          9104
         ]
        }
       ],
       "layout": {
        "title": "Expense claims by month for 2010-2015",
        "xaxis": {
         "title": "Month"
        },
        "yaxis": {
         "title": " Number of expense claim"
        }
       }
      },
      "text/html": [
       "<div id=\"0df74440-4667-40d1-9932-4730f1ccff9f\" style=\"height: 525px; width: 100%;\" class=\"plotly-graph-div\"></div><script type=\"text/javascript\">require([\"plotly\"], function(Plotly) { window.PLOTLYENV=window.PLOTLYENV || {};window.PLOTLYENV.BASE_URL=\"https://plot.ly\";Plotly.newPlot(\"0df74440-4667-40d1-9932-4730f1ccff9f\", [{\"marker\": {\"line\": {\"width\": 1}, \"size\": 10, \"symbol\": 1}, \"mode\": \"markers\", \"name\": \"2010\", \"x\": [1, 2, 3, 4, 5, 6, 7, 8, 9, 10, 11, 12], \"y\": [14982, 14168, 18678, 3, 6404, 11767, 14721, 8678, 14033, 15331, 17173, 12768], \"type\": \"scatter\", \"uid\": \"76d68ae7-4695-4c87-8266-3c20f073e90f\"}, {\"marker\": {\"line\": {\"width\": 1}, \"size\": 10, \"symbol\": 101}, \"mode\": \"markers\", \"name\": \"2011\", \"x\": [1, 2, 3, 4, 5, 6, 7, 8, 9, 10, 11, 12], \"y\": [16594, 16060, 19507, 13056, 15454, 17104, 15446, 11036, 14487, 17025, 18238, 14670], \"type\": \"scatter\", \"uid\": \"42a49e70-ef80-4020-9e7e-11dbf18db445\"}, {\"marker\": {\"line\": {\"width\": 1}, \"size\": 10, \"symbol\": 201}, \"mode\": \"markers\", \"name\": \"2012\", \"x\": [1, 2, 3, 4, 5, 6, 7, 8, 9, 10, 11, 12], \"y\": [18280, 16632, 20934, 15158, 17693, 16914, 16474, 11625, 15488, 16500, 19149, 14820], \"type\": \"scatter\", \"uid\": \"963ca80a-a3da-4375-9ecb-567d6dfbca83\"}, {\"marker\": {\"line\": {\"width\": 1}, \"size\": 10, \"symbol\": 301}, \"mode\": \"markers\", \"name\": \"2013\", \"x\": [1, 2, 3, 4, 5, 6, 7, 8, 9, 10, 11, 12], \"y\": [18096, 15954, 21204, 18070, 17586, 18859, 17541, 12182, 15594, 18882, 18173, 15040], \"type\": \"scatter\", \"uid\": \"0c21bbec-b0d3-4561-a63a-59245d62b6c1\"}, {\"marker\": {\"line\": {\"width\": 1}, \"size\": 10, \"symbol\": 25}, \"mode\": \"markers\", \"name\": \"2014\", \"x\": [1, 2, 3, 4, 5, 6, 7, 8, 9, 10, 11, 12], \"y\": [15864, 14272, 16946, 16146, 15725, 17207, 16568, 10784, 14778, 15783, 15844, 13679], \"type\": \"scatter\", \"uid\": \"4ed59836-d2d4-4066-86b0-0a6b9e3a45c3\"}, {\"marker\": {\"line\": {\"width\": 1}, \"size\": 10, \"symbol\": 125}, \"mode\": \"markers\", \"name\": \"2015\", \"x\": [1, 2, 3, 4, 5, 6, 7, 8, 9, 10, 11, 12], \"y\": [2728.0, 0.0, 1.0, 5708.0, 11556.0, 17555.0, 15992.0, 10152.0, 14207.0, 14909.0, 15070.0, 9104.0], \"type\": \"scatter\", \"uid\": \"aa839354-ff6e-4d39-878f-28b798e93dd9\"}], {\"title\": \"Expense claims by month for 2010-2015\", \"xaxis\": {\"title\": \"Month\"}, \"yaxis\": {\"title\": \" Number of expense claim\"}}, {\"showLink\": true, \"linkText\": \"Export to plot.ly\"})});</script><script type=\"text/javascript\">window.addEventListener(\"resize\", function(){window._Plotly.Plots.resize(document.getElementById(\"0df74440-4667-40d1-9932-4730f1ccff9f\"));});</script>"
      ],
      "text/vnd.plotly.v1+html": [
       "<div id=\"0df74440-4667-40d1-9932-4730f1ccff9f\" style=\"height: 525px; width: 100%;\" class=\"plotly-graph-div\"></div><script type=\"text/javascript\">require([\"plotly\"], function(Plotly) { window.PLOTLYENV=window.PLOTLYENV || {};window.PLOTLYENV.BASE_URL=\"https://plot.ly\";Plotly.newPlot(\"0df74440-4667-40d1-9932-4730f1ccff9f\", [{\"marker\": {\"line\": {\"width\": 1}, \"size\": 10, \"symbol\": 1}, \"mode\": \"markers\", \"name\": \"2010\", \"x\": [1, 2, 3, 4, 5, 6, 7, 8, 9, 10, 11, 12], \"y\": [14982, 14168, 18678, 3, 6404, 11767, 14721, 8678, 14033, 15331, 17173, 12768], \"type\": \"scatter\", \"uid\": \"76d68ae7-4695-4c87-8266-3c20f073e90f\"}, {\"marker\": {\"line\": {\"width\": 1}, \"size\": 10, \"symbol\": 101}, \"mode\": \"markers\", \"name\": \"2011\", \"x\": [1, 2, 3, 4, 5, 6, 7, 8, 9, 10, 11, 12], \"y\": [16594, 16060, 19507, 13056, 15454, 17104, 15446, 11036, 14487, 17025, 18238, 14670], \"type\": \"scatter\", \"uid\": \"42a49e70-ef80-4020-9e7e-11dbf18db445\"}, {\"marker\": {\"line\": {\"width\": 1}, \"size\": 10, \"symbol\": 201}, \"mode\": \"markers\", \"name\": \"2012\", \"x\": [1, 2, 3, 4, 5, 6, 7, 8, 9, 10, 11, 12], \"y\": [18280, 16632, 20934, 15158, 17693, 16914, 16474, 11625, 15488, 16500, 19149, 14820], \"type\": \"scatter\", \"uid\": \"963ca80a-a3da-4375-9ecb-567d6dfbca83\"}, {\"marker\": {\"line\": {\"width\": 1}, \"size\": 10, \"symbol\": 301}, \"mode\": \"markers\", \"name\": \"2013\", \"x\": [1, 2, 3, 4, 5, 6, 7, 8, 9, 10, 11, 12], \"y\": [18096, 15954, 21204, 18070, 17586, 18859, 17541, 12182, 15594, 18882, 18173, 15040], \"type\": \"scatter\", \"uid\": \"0c21bbec-b0d3-4561-a63a-59245d62b6c1\"}, {\"marker\": {\"line\": {\"width\": 1}, \"size\": 10, \"symbol\": 25}, \"mode\": \"markers\", \"name\": \"2014\", \"x\": [1, 2, 3, 4, 5, 6, 7, 8, 9, 10, 11, 12], \"y\": [15864, 14272, 16946, 16146, 15725, 17207, 16568, 10784, 14778, 15783, 15844, 13679], \"type\": \"scatter\", \"uid\": \"4ed59836-d2d4-4066-86b0-0a6b9e3a45c3\"}, {\"marker\": {\"line\": {\"width\": 1}, \"size\": 10, \"symbol\": 125}, \"mode\": \"markers\", \"name\": \"2015\", \"x\": [1, 2, 3, 4, 5, 6, 7, 8, 9, 10, 11, 12], \"y\": [2728.0, 0.0, 1.0, 5708.0, 11556.0, 17555.0, 15992.0, 10152.0, 14207.0, 14909.0, 15070.0, 9104.0], \"type\": \"scatter\", \"uid\": \"aa839354-ff6e-4d39-878f-28b798e93dd9\"}], {\"title\": \"Expense claims by month for 2010-2015\", \"xaxis\": {\"title\": \"Month\"}, \"yaxis\": {\"title\": \" Number of expense claim\"}}, {\"showLink\": true, \"linkText\": \"Export to plot.ly\"})});</script><script type=\"text/javascript\">window.addEventListener(\"resize\", function(){window._Plotly.Plots.resize(document.getElementById(\"0df74440-4667-40d1-9932-4730f1ccff9f\"));});</script>"
      ]
     },
     "metadata": {},
     "output_type": "display_data"
    }
   ],
   "source": [
    "traces=[]\n",
    "for i ,yr in enumerate(range(2010,2016)):\n",
    "    \n",
    "    traces.append({'type': 'scatter',\n",
    "                    'x':expenseData['month'],\n",
    "                    'y':expenseData['NumberOfClaims'+str(yr)],\n",
    "                    'marker':{'symbol':markerSymbolNum[i],\n",
    "                              'size':10,\n",
    "                              'line':{'width':1}},\n",
    "                    'name':yr,\n",
    "                    'mode':'markers'})\n",
    "data=Data(traces)\n",
    "\n",
    "layout={'title':'Expense claims by month for 2010-2015',\n",
    "       'xaxis':{'title':'Month'},\n",
    "       'yaxis':{'title':' Number of expense claim'} }\n",
    "fig=Figure(data=data,layout=layout)\n",
    "iplot(fig)"
   ]
  },
  {
   "cell_type": "code",
   "execution_count": 129,
   "metadata": {
    "collapsed": true
   },
   "outputs": [],
   "source": [
    "#Applyiing smoothing"
   ]
  },
  {
   "cell_type": "code",
   "execution_count": 130,
   "metadata": {},
   "outputs": [
    {
     "data": {
      "application/vnd.plotly.v1+json": {
       "data": [
        {
         "line": {
          "shape": "spline",
          "smoothing": 0
         },
         "mode": "lines",
         "name": "unSmooth",
         "type": "scatter",
         "uid": "5b7cadb9-8858-4ddc-a8ba-b4f0ae633bb3",
         "x": [
          1,
          2,
          3,
          4,
          5,
          6,
          7,
          8,
          9,
          10
         ],
         "y": [
          11,
          15,
          8,
          21,
          14,
          28,
          19,
          10,
          5,
          20
         ]
        },
        {
         "line": {
          "shape": "spline",
          "smoothing": 1.3
         },
         "mode": "lines",
         "name": "Smooth",
         "type": "scatter",
         "uid": "2ab631a9-05ae-4103-8da8-67481762d4f2",
         "x": [
          1,
          2,
          3,
          4,
          5,
          6,
          7,
          8,
          9,
          10
         ],
         "y": [
          11,
          15,
          8,
          21,
          14,
          28,
          19,
          10,
          5,
          20
         ]
        }
       ],
       "layout": {}
      },
      "text/html": [
       "<div id=\"fb5115ee-5b5f-47af-b0d4-225f4c1259ee\" style=\"height: 525px; width: 100%;\" class=\"plotly-graph-div\"></div><script type=\"text/javascript\">require([\"plotly\"], function(Plotly) { window.PLOTLYENV=window.PLOTLYENV || {};window.PLOTLYENV.BASE_URL=\"https://plot.ly\";Plotly.newPlot(\"fb5115ee-5b5f-47af-b0d4-225f4c1259ee\", [{\"line\": {\"shape\": \"spline\", \"smoothing\": 0}, \"mode\": \"lines\", \"name\": \"unSmooth\", \"x\": [1, 2, 3, 4, 5, 6, 7, 8, 9, 10], \"y\": [11, 15, 8, 21, 14, 28, 19, 10, 5, 20], \"type\": \"scatter\", \"uid\": \"08882fe8-0ffc-4608-96fe-922585dc010a\"}, {\"line\": {\"shape\": \"spline\", \"smoothing\": 1.3}, \"mode\": \"lines\", \"name\": \"Smooth\", \"x\": [1, 2, 3, 4, 5, 6, 7, 8, 9, 10], \"y\": [11, 15, 8, 21, 14, 28, 19, 10, 5, 20], \"type\": \"scatter\", \"uid\": \"a805a89e-23a2-47c1-ac94-2f6454e3784f\"}], {}, {\"showLink\": true, \"linkText\": \"Export to plot.ly\"})});</script><script type=\"text/javascript\">window.addEventListener(\"resize\", function(){window._Plotly.Plots.resize(document.getElementById(\"fb5115ee-5b5f-47af-b0d4-225f4c1259ee\"));});</script>"
      ],
      "text/vnd.plotly.v1+html": [
       "<div id=\"fb5115ee-5b5f-47af-b0d4-225f4c1259ee\" style=\"height: 525px; width: 100%;\" class=\"plotly-graph-div\"></div><script type=\"text/javascript\">require([\"plotly\"], function(Plotly) { window.PLOTLYENV=window.PLOTLYENV || {};window.PLOTLYENV.BASE_URL=\"https://plot.ly\";Plotly.newPlot(\"fb5115ee-5b5f-47af-b0d4-225f4c1259ee\", [{\"line\": {\"shape\": \"spline\", \"smoothing\": 0}, \"mode\": \"lines\", \"name\": \"unSmooth\", \"x\": [1, 2, 3, 4, 5, 6, 7, 8, 9, 10], \"y\": [11, 15, 8, 21, 14, 28, 19, 10, 5, 20], \"type\": \"scatter\", \"uid\": \"08882fe8-0ffc-4608-96fe-922585dc010a\"}, {\"line\": {\"shape\": \"spline\", \"smoothing\": 1.3}, \"mode\": \"lines\", \"name\": \"Smooth\", \"x\": [1, 2, 3, 4, 5, 6, 7, 8, 9, 10], \"y\": [11, 15, 8, 21, 14, 28, 19, 10, 5, 20], \"type\": \"scatter\", \"uid\": \"a805a89e-23a2-47c1-ac94-2f6454e3784f\"}], {}, {\"showLink\": true, \"linkText\": \"Export to plot.ly\"})});</script><script type=\"text/javascript\">window.addEventListener(\"resize\", function(){window._Plotly.Plots.resize(document.getElementById(\"fb5115ee-5b5f-47af-b0d4-225f4c1259ee\"));});</script>"
      ]
     },
     "metadata": {},
     "output_type": "display_data"
    }
   ],
   "source": [
    "xVals=[1,2,3,4,5,6,7,8,9,10]\n",
    "yVals=[11,15,8,21,14,28,19,10,5,20]\n",
    "\n",
    "unSmoothTrace={'type':'scatter',\n",
    "               'x': xVals,\n",
    "               'y': yVals,\n",
    "               'mode':'lines',\n",
    "               'line':{'smoothing':0,\n",
    "                      'shape': 'spline'},\n",
    "               'name':'unSmooth'}\n",
    "    \n",
    "smoothTrace={'type':'scatter',\n",
    "               'x': xVals,\n",
    "               'y': yVals,\n",
    "               'mode':'lines',\n",
    "               'line':{'smoothing':1.3,\n",
    "                      'shape': 'spline'},\n",
    "               'name':'Smooth'}    \n",
    "iplot([unSmoothTrace,smoothTrace])"
   ]
  },
  {
   "cell_type": "code",
   "execution_count": null,
   "metadata": {
    "collapsed": true
   },
   "outputs": [],
   "source": []
  }
 ],
 "metadata": {
  "kernelspec": {
   "display_name": "Python 3",
   "language": "python",
   "name": "python3"
  },
  "language_info": {
   "codemirror_mode": {
    "name": "ipython",
    "version": 3
   },
   "file_extension": ".py",
   "mimetype": "text/x-python",
   "name": "python",
   "nbconvert_exporter": "python",
   "pygments_lexer": "ipython3",
   "version": "3.6.6"
  }
 },
 "nbformat": 4,
 "nbformat_minor": 2
}
